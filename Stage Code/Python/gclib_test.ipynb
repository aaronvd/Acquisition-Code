{
 "cells": [
  {
   "cell_type": "markdown",
   "id": "68cceaed-af3b-4194-be33-2febd9c11f04",
   "metadata": {
    "tags": []
   },
   "source": [
    "# define functions"
   ]
  },
  {
   "cell_type": "code",
   "execution_count": 1,
   "id": "65e1fbdb-0c6c-4095-9711-eb61bb120732",
   "metadata": {},
   "outputs": [],
   "source": [
    "import numpy as np\n",
    "import gclib"
   ]
  },
  {
   "cell_type": "code",
   "execution_count": 2,
   "id": "d43ab846-0751-4ad9-b04a-88db58ec85ab",
   "metadata": {},
   "outputs": [],
   "source": [
    "def stage_start():\n",
    "    g = gclib.py()\n",
    "    g.GOpen('169.254.225.173')\n",
    "    # print(g.GInfo())\n",
    "    return g"
   ]
  },
  {
   "cell_type": "code",
   "execution_count": 3,
   "id": "2d9f4721-098a-4333-a8a2-5c3dde85cc82",
   "metadata": {},
   "outputs": [],
   "source": [
    "def move_to_relative(g,speedmms,defZeroInXsteps,defZeroInYsteps,moveXmm,moveYmm):\n",
    "    steptomm = 5000\n",
    "    stepperspeed = np.round(speedmms*steptomm)\n",
    "    stepperaccel = np.round(10*stepperspeed)\n",
    "    \n",
    "    print(moveXmm)\n",
    "    print(moveYmm)\n",
    "\n",
    "    program = ('#MOVEREL;' +\n",
    "                'AC {},{};'.format(stepperaccel, stepperaccel) +\n",
    "                'DC {},{};'.format(stepperaccel, stepperaccel) +\n",
    "                'SP {},{};'.format(stepperspeed, stepperspeed) +\n",
    "                'NOTE move relative position;' +\n",
    "                'PR {},{};'.format(-moveXmm*steptomm,-moveYmm*steptomm) +\n",
    "                'BG;' +\n",
    "                'NOTE wait for end of move;'+\n",
    "                'AM;'+\n",
    "                'posx=_RPA'+\n",
    "                'posy=_RPB'+\n",
    "                'EN;')\n",
    "    g.GProgramDownload(program, '')\n",
    "    g.GCommand('XQ')\n",
    "    \n",
    "    xposSteps = float(g.GCommand('MG posx'))\n",
    "    yposSteps = float(g.GCommand('MG posy'))\n",
    "    \n",
    "    xUserPos = -(xposSteps-defZeroInXsteps)/steptomm;\n",
    "    yUserPos = -(yposSteps-defZeroInYsteps)/steptomm;\n",
    "    \n",
    "    return xUserPos, yUserPos"
   ]
  },
  {
   "cell_type": "code",
   "execution_count": 4,
   "id": "a9cec5c1-1b95-4052-9923-1e13a8bcca0f",
   "metadata": {},
   "outputs": [],
   "source": [
    "def zero_axes(g):\n",
    "    defZeroInXsteps = float(g.GCommand('MG _RPA'))\n",
    "    defZeroInYsteps = float(g.GCommand('MG _RPB'))\n",
    "    return defZeroInXsteps, defZeroInYsteps"
   ]
  },
  {
   "cell_type": "code",
   "execution_count": 5,
   "id": "c895f58e-e627-4fa1-bd35-f3d1a3c61313",
   "metadata": {},
   "outputs": [],
   "source": [
    "def move_to_absolute(g,speedmms,defZeroInXsteps,defZeroInYsteps,moveToUserXmm,moveToUserYmm):\n",
    "    steptomm = 5000\n",
    "    stepperspeed = np.round(speedmms*steptomm)\n",
    "    stepperaccel = np.round(10*stepperspeed)\n",
    "    \n",
    "    program = ('#MOVEABS;' +\n",
    "                'AC {},{};'.format(stepperaccel, stepperaccel) +\n",
    "                'DC {},{};'.format(stepperaccel, stepperaccel) +\n",
    "                'SP {},{};'.format(stepperspeed, stepperspeed) +\n",
    "                'NOTE move to abs position;' +\n",
    "                'PA {},{};'.format(-moveToUserXmm*steptomm+defZeroInXsteps,-moveToUserYmm*steptomm+defZeroInYsteps) +\n",
    "                'BG;' +\n",
    "                'NOTE wait for end of move;'+\n",
    "                'AM;'+\n",
    "                'posx=_RPA'+\n",
    "                'posy=_RPB'+\n",
    "                'EN;')\n",
    "    g.GProgramDownload(program, '')\n",
    "    g.GCommand('XQ')\n",
    "    \n",
    "    xpos = float(g.GCommand('MG posx'))\n",
    "    ypos = float(g.GCommand('MG posy'))\n",
    "    \n",
    "    xUserPos = -(xpos-defZeroInXsteps)/steptomm;\n",
    "    yUserPos = -(ypos-defZeroInYsteps)/steptomm;\n",
    "    \n",
    "    return xUserPos, yUserPos"
   ]
  },
  {
   "cell_type": "code",
   "execution_count": 6,
   "id": "b3312485-ac21-4b40-a8c2-e4e9ab74f049",
   "metadata": {},
   "outputs": [],
   "source": [
    "def stage_home(g,speedmms):\n",
    "    steptomm = 5000\n",
    "    stepperspeed = np.round(speedmms*steptomm)\n",
    "    stepperaccel = np.round(10*stepperspeed)\n",
    "    \n",
    "    program = ('#HOME;' +\n",
    "                'AC {},{};'.format(stepperaccel, stepperaccel) +\n",
    "                'DC {},{};'.format(stepperaccel, stepperaccel) +\n",
    "                'JG {},{};'.format(-stepperspeed, -stepperspeed) +\n",
    "                'NOTE jog until you hit limits;' +\n",
    "                'BG;' +\n",
    "                'NOTE wait for end of move;' +\n",
    "                'AM;'+\n",
    "                'NOTE take 1mm step back from edge;' +\n",
    "                'PR 10000,10000;' +\n",
    "                'BG;' +\n",
    "                'AM;' +\n",
    "                'DP 0,0;' +\n",
    "                'NOTE capture min,max step val;' +\n",
    "                'minx=_RPA;' +\n",
    "                'miny=_RPB;' +\n",
    "                'NOTE jog to other side and record pos;' +\n",
    "                'SP 125000,125000;' +\n",
    "                'EN;')\n",
    "    g.GProgramDownload(program, '')\n",
    "    g.GCommand('XQ')\n",
    "    \n",
    "    xminstepVal = float(g.GCommand('MG minx'))\n",
    "    yminstepVal = float(g.GCommand('MG miny'))\n",
    "    \n",
    "    return xminstepVal, yminstepVal"
   ]
  },
  {
   "cell_type": "code",
   "execution_count": 7,
   "id": "9a40ce18-ac27-4b31-939e-fb824f569176",
   "metadata": {},
   "outputs": [],
   "source": [
    "def stop_stage(g):\n",
    "    g.GCommand('ST')"
   ]
  },
  {
   "cell_type": "code",
   "execution_count": 8,
   "id": "b425ffa0-f1c0-4eec-90c8-8cc9dbcb9075",
   "metadata": {},
   "outputs": [],
   "source": [
    "def close_connection(g):\n",
    "    g.GClose()"
   ]
  },
  {
   "cell_type": "markdown",
   "id": "5c2d8a78-509e-4a45-955b-5ca735b72441",
   "metadata": {
    "tags": []
   },
   "source": [
    "# execute"
   ]
  },
  {
   "cell_type": "code",
   "execution_count": 9,
   "id": "2bf6afda-db5e-4dcb-883e-c3d2acd16c9f",
   "metadata": {},
   "outputs": [],
   "source": [
    "g = stage_start()"
   ]
  },
  {
   "cell_type": "code",
   "execution_count": 20,
   "id": "e6f35deb-266e-4369-a2d7-801a059da988",
   "metadata": {},
   "outputs": [
    {
     "name": "stdout",
     "output_type": "stream",
     "text": [
      "-5\n",
      "-55\n"
     ]
    },
    {
     "data": {
      "text/plain": [
       "(-523.0, -414.0)"
      ]
     },
     "execution_count": 20,
     "metadata": {},
     "output_type": "execute_result"
    }
   ],
   "source": [
    "speedmms = 25\n",
    "moveXmm = -5\n",
    "moveYmm = -55\n",
    "move_to_relative(g,speedmms,0,0,moveXmm,moveYmm)"
   ]
  },
  {
   "cell_type": "code",
   "execution_count": 12,
   "id": "fd23b723-0806-4bb4-bbf8-7685bb39d38a",
   "metadata": {},
   "outputs": [
    {
     "data": {
      "text/plain": [
       "(-538.0, -414.0)"
      ]
     },
     "execution_count": 12,
     "metadata": {},
     "output_type": "execute_result"
    }
   ],
   "source": [
    "xrange = 1000\n",
    "yrange = 1000\n",
    "center_x = -xrange/2\n",
    "center_y = -yrange/2\n",
    "pos_x = -163 + 115\n",
    "pos_y = 162 - 76\n",
    "move_to_absolute(g,speedmms,0,0,center_x+pos_x,center_y+pos_y)"
   ]
  },
  {
   "cell_type": "code",
   "execution_count": 36,
   "id": "cbf13786-9c24-4439-abe7-38ce22ed1c7f",
   "metadata": {},
   "outputs": [
    {
     "data": {
      "text/plain": [
       "(-183.296, -214.296)"
      ]
     },
     "execution_count": 36,
     "metadata": {},
     "output_type": "execute_result"
    }
   ],
   "source": [
    "move_to_absolute(g,speedmms,0,0,0,0)"
   ]
  },
  {
   "cell_type": "code",
   "execution_count": 29,
   "id": "b43985a6-3f23-4b4e-bee8-0d581b6bd570",
   "metadata": {},
   "outputs": [
    {
     "data": {
      "text/plain": [
       "(0.0, 0.0)"
      ]
     },
     "execution_count": 29,
     "metadata": {},
     "output_type": "execute_result"
    }
   ],
   "source": [
    "stage_home(g,speedmms)"
   ]
  },
  {
   "cell_type": "code",
   "execution_count": 37,
   "id": "a4d410f1-7b4c-4f00-bd5e-202ed3c24074",
   "metadata": {},
   "outputs": [
    {
     "data": {
      "text/plain": [
       "'0'"
      ]
     },
     "execution_count": 37,
     "metadata": {},
     "output_type": "execute_result"
    }
   ],
   "source": [
    "g.GCommand('TPA')"
   ]
  },
  {
   "cell_type": "code",
   "execution_count": null,
   "id": "9b30a1d1-ba64-4fbd-b02a-91e7db8d71fe",
   "metadata": {},
   "outputs": [],
   "source": []
  }
 ],
 "metadata": {
  "kernelspec": {
   "display_name": "Python 3 (ipykernel)",
   "language": "python",
   "name": "python3"
  },
  "language_info": {
   "codemirror_mode": {
    "name": "ipython",
    "version": 3
   },
   "file_extension": ".py",
   "mimetype": "text/x-python",
   "name": "python",
   "nbconvert_exporter": "python",
   "pygments_lexer": "ipython3",
   "version": "3.8.11"
  }
 },
 "nbformat": 4,
 "nbformat_minor": 5
}
