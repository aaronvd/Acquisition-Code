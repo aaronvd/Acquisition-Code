{
 "cells": [
  {
   "cell_type": "markdown",
   "id": "f4b02aad-1861-4c9f-9ce7-062ae7e4a4a3",
   "metadata": {},
   "source": [
    "# NFS Script - Static"
   ]
  },
  {
   "cell_type": "code",
   "execution_count": 1,
   "id": "a570cba2-fdd9-427b-87a5-82dfbe28d0d6",
   "metadata": {},
   "outputs": [],
   "source": [
    "import sys\n",
    "sys.path.append('C:/Users/smithlab/Documents/Aaron/Modules/')\n",
    "import numpy as np\n",
    "from matplotlib import pyplot as plt\n",
    "import VNA_control as vc\n",
    "import calibration_functions as cf\n",
    "import gclib\n",
    "import stage_control as sc\n",
    "import scipy.constants\n",
    "import scipy.io\n",
    "import time\n",
    "import datetime\n",
    "\n",
    "C     = scipy.constants.c\n",
    "EPS_0 = scipy.constants.epsilon_0 #C^2/(N*m^2)\n",
    "MU_0  = scipy.constants.mu_0    #m kg s^-2 A^-2\n",
    "mm = 0.001\n",
    "cm    = 0.01\n",
    "GHz   = 1.0E9"
   ]
  },
  {
   "cell_type": "markdown",
   "id": "df1675a5-9ab8-45d7-90a9-0c2fc7344373",
   "metadata": {
    "tags": []
   },
   "source": [
    "## Scan parameters"
   ]
  },
  {
   "cell_type": "code",
   "execution_count": 2,
   "id": "35dd05aa-84d6-411d-a773-c3fa883e274a",
   "metadata": {},
   "outputs": [
    {
     "name": "stdout",
     "output_type": "stream",
     "text": [
      "IFBW = 1000 \n",
      "Calibration File = Aaron_21-11-05 \n",
      "Power = 0 dBm \n",
      "Measuring S12\n"
     ]
    }
   ],
   "source": [
    "xrange = 1000 # x length of stage, mm\n",
    "yrange = 1000 # y length of stage, mm\n",
    "\n",
    "fstart = 8E9\n",
    "fstop = 12E9\n",
    "NumFreqs = 401\n",
    "f = np.linspace(fstart, fstop, NumFreqs)\n",
    "lam_max = C/fstop\n",
    "dstep = lam_max/2 * 1000 # mm\n",
    "\n",
    "IFBW = 1000\n",
    "calfile = 'Aaron_21-11-05'\n",
    "power = 0\n",
    "savename = 'X_Band_Horn_copol'\n",
    "sParMeas = 'S12'\n",
    "speedmms = 25\n",
    "\n",
    "print('IFBW = {} \\nCalibration File = {} \\nPower = {} dBm \\nMeasuring {}'.format(IFBW, calfile, power, sParMeas))"
   ]
  },
  {
   "cell_type": "markdown",
   "id": "a53f1b76-2084-491f-9822-ccc8cc779246",
   "metadata": {},
   "source": [
    "## Set scan lengths"
   ]
  },
  {
   "cell_type": "code",
   "execution_count": 3,
   "id": "9e36a009-84ae-4390-b3a7-9ba34170e200",
   "metadata": {},
   "outputs": [],
   "source": [
    "Lx_ap = 30;\n",
    "Ly_ap = 40;\n",
    "theta = 60;\n",
    "d = 80;\n",
    "\n",
    "Lx_scan = Lx_ap + 2*d*np.tan(np.radians(theta));\n",
    "Ly_scan = Ly_ap + 2*d*np.tan(np.radians(theta));\n",
    "\n",
    "xmin = -Lx_scan/2;\n",
    "xmax = Lx_scan/2;\n",
    "ymin = -Ly_scan/2;\n",
    "ymax = Ly_scan/2;"
   ]
  },
  {
   "cell_type": "markdown",
   "id": "4516c6c4-29f4-4b29-b98e-5ac372b52656",
   "metadata": {},
   "source": [
    "## Initialize instruments"
   ]
  },
  {
   "cell_type": "code",
   "execution_count": 4,
   "id": "f72029ec-97e1-4bec-96cd-ec55040d66b4",
   "metadata": {},
   "outputs": [
    {
     "name": "stdout",
     "output_type": "stream",
     "text": [
      "Agilent Technologies,N5222A,MY51421573,A.09.90.10\n",
      "Initiating VNA...\n",
      "\n",
      "Done\n",
      "\n"
     ]
    }
   ],
   "source": [
    "## Stage\n",
    "g = sc.stage_start('169.254.225.173')\n",
    "sc.stage_home(g,speedmms)\n",
    "\n",
    "## VNA\n",
    "vna = vc.instrument_open('TCPIP0::169.254.187.153::5025::SOCKET')\n",
    "vc.VNA_initiate(vna, NumFreqs, fstart*1E-9, fstop*1E-9, IFBW, power, 'S12', calfile=calfile)"
   ]
  },
  {
   "cell_type": "markdown",
   "id": "f2f8de19-728e-4aec-8470-bb6e26739b99",
   "metadata": {},
   "source": [
    "## Move to new origin"
   ]
  },
  {
   "cell_type": "code",
   "execution_count": 17,
   "id": "6e06ee3f-0e7a-4e6a-92e8-be55ed15029d",
   "metadata": {},
   "outputs": [
    {
     "data": {
      "text/plain": [
       "(-273.0, -537.0)"
      ]
     },
     "execution_count": 17,
     "metadata": {},
     "output_type": "execute_result"
    }
   ],
   "source": [
    "center_x = -xrange/2;\n",
    "center_y = -yrange/2;\n",
    "pos_x = 227#+30/2;  # adjust to change x zero position\n",
    "pos_y = -37#+40/2;  # adjust to change y zero position\n",
    "\n",
    "sc.move_to_absolute(g,speedmms,0,0,center_x+pos_x,center_y+pos_y)"
   ]
  },
  {
   "cell_type": "markdown",
   "id": "f685d77f-495e-40db-b0a9-ac6ec0b1dcca",
   "metadata": {},
   "source": [
    "## Zero axes"
   ]
  },
  {
   "cell_type": "code",
   "execution_count": 18,
   "id": "484017ca-23a0-4292-8513-f3399b4635ca",
   "metadata": {},
   "outputs": [],
   "source": [
    "defZeroInXsteps, defZeroInYsteps = sc.zero_axes(g);"
   ]
  },
  {
   "cell_type": "markdown",
   "id": "d4353e9a-3986-4013-8667-2d40b232746a",
   "metadata": {},
   "source": [
    "## Setup scan"
   ]
  },
  {
   "cell_type": "code",
   "execution_count": 19,
   "id": "a5c5c99f-498a-428d-adf6-0595960ce35c",
   "metadata": {},
   "outputs": [],
   "source": [
    "X, Y = np.meshgrid(np.arange(xmin, xmax, dstep), np.arange(ymin, ymax, dstep), indexing='xy')\n",
    "measurements = np.zeros((Y.shape[0], X.shape[1], NumFreqs), dtype=np.complex128)\n",
    "stops = Y.shape[0] * X.shape[1]"
   ]
  },
  {
   "cell_type": "markdown",
   "id": "452a0f68-23ae-4272-aa81-6c9acacb9bd5",
   "metadata": {},
   "source": [
    "## Start scan"
   ]
  },
  {
   "cell_type": "code",
   "execution_count": 20,
   "id": "b291341c-d284-46e8-b3b6-b891c0c4437f",
   "metadata": {},
   "outputs": [
    {
     "data": {
      "text/plain": [
       "(-153.564, -158.564)"
      ]
     },
     "execution_count": 20,
     "metadata": {},
     "output_type": "execute_result"
    }
   ],
   "source": [
    "sc.move_to_absolute(g,speedmms,defZeroInXsteps,defZeroInYsteps,X[0,0],Y[0,0])"
   ]
  },
  {
   "cell_type": "code",
   "execution_count": 21,
   "id": "8bbd06fb-5565-43a4-93ed-07090289f6d9",
   "metadata": {},
   "outputs": [
    {
     "name": "stdout",
     "output_type": "stream",
     "text": [
      "Est. time remaining: 0.2873103247748481 hours\n",
      "Est. time remaining: 0.28571527600288393 hours\n",
      "Est. time remaining: 0.284628783331977 hours\n",
      "Est. time remaining: 0.27411623332235546 hours\n",
      "Est. time remaining: 0.2693685293197632 hours\n",
      "Est. time remaining: 0.26745220422744753 hours\n",
      "Est. time remaining: 0.26292046043607925 hours\n",
      "Est. time remaining: 0.255890816450119 hours\n",
      "Est. time remaining: 0.2538116614023844 hours\n",
      "Est. time remaining: 0.24766211046112907 hours\n",
      "Est. time remaining: 0.24254583120346068 hours\n",
      "Est. time remaining: 0.2379326535595788 hours\n",
      "Est. time remaining: 0.23641393184661866 hours\n",
      "Est. time remaining: 0.22890150745709736 hours\n",
      "Est. time remaining: 0.22274255752563477 hours\n",
      "Est. time remaining: 0.2199594411585066 hours\n",
      "Est. time remaining: 0.2179766019185384 hours\n",
      "Est. time remaining: 0.21099685033162435 hours\n",
      "Est. time remaining: 0.20735462374157376 hours\n",
      "Est. time remaining: 0.20603477954864502 hours\n",
      "Est. time remaining: 0.19739844799041747 hours\n",
      "Est. time remaining: 0.19306037492222256 hours\n",
      "Est. time remaining: 0.1885361909866333 hours\n",
      "Est. time remaining: 0.1864139907889896 hours\n",
      "Est. time remaining: 0.17970776557922363 hours\n",
      "Est. time remaining: 0.17730510234832764 hours\n",
      "Est. time remaining: 0.1705633004506429 hours\n",
      "Est. time remaining: 0.16594141655498082 hours\n",
      "Est. time remaining: 0.1631622314453125 hours\n",
      "Est. time remaining: 0.15711882379319933 hours\n",
      "Est. time remaining: 0.15264802111519707 hours\n",
      "Est. time remaining: 0.149021844069163 hours\n",
      "Est. time remaining: 0.145046509636773 hours\n",
      "Est. time remaining: 0.13905189169777765 hours\n",
      "Est. time remaining: 0.13515198230743408 hours\n",
      "Est. time remaining: 0.13020900156762866 hours\n",
      "Est. time remaining: 0.12740339438120524 hours\n",
      "Est. time remaining: 0.12264928221702576 hours\n",
      "Est. time remaining: 0.1167108482784695 hours\n",
      "Est. time remaining: 0.11330587996376885 hours\n",
      "Est. time remaining: 0.10910706520080567 hours\n",
      "Est. time remaining: 0.10432130297025045 hours\n",
      "Est. time remaining: 0.10004839367336697 hours\n",
      "Est. time remaining: 0.0946580410003662 hours\n",
      "Est. time remaining: 0.09092734919653998 hours\n",
      "Est. time remaining: 0.08638327187962003 hours\n",
      "Est. time remaining: 0.0819097876548767 hours\n",
      "Est. time remaining: 0.07632778220706515 hours\n",
      "Est. time remaining: 0.07210448582967123 hours\n",
      "Est. time remaining: 0.06732916831970215 hours\n",
      "Est. time remaining: 0.06408064630296495 hours\n",
      "Est. time remaining: 0.05890615185101827 hours\n",
      "Est. time remaining: 0.054555813471476235 hours\n",
      "Est. time remaining: 0.04942461119757758 hours\n",
      "Est. time remaining: 0.04489335748884413 hours\n",
      "Est. time remaining: 0.04052354097366333 hours\n",
      "Est. time remaining: 0.035915443632337785 hours\n",
      "Est. time remaining: 0.03200720879766676 hours\n",
      "Est. time remaining: 0.027195576826731363 hours\n",
      "Est. time remaining: 0.022737996445761785 hours\n",
      "Est. time remaining: 0.017958158916897244 hours\n",
      "Est. time remaining: 0.013602197170257568 hours\n",
      "Est. time remaining: 0.008978814548916287 hours\n",
      "Est. time remaining: 0.004501994450887044 hours\n",
      "Est. time remaining: 0.0 hours\n"
     ]
    }
   ],
   "source": [
    "t = time.time()\n",
    "stopscomp = 0\n",
    "\n",
    "x_list = []\n",
    "y_list = []\n",
    "for yn in range(Y.shape[0]):\n",
    "    direction = 2*np.mod(yn+1, 2) - 1\n",
    "    if direction > 0:\n",
    "        xindex = np.arange(X.shape[1])\n",
    "    else:\n",
    "        xindex = np.flip(np.arange(X.shape[1]))\n",
    "        \n",
    "    for xn in xindex:\n",
    "        x = X[yn, xn]\n",
    "        y = Y[yn, xn]\n",
    "        sc.move_to_absolute(g,speedmms,defZeroInXsteps,defZeroInYsteps,x,y)\n",
    "        \n",
    "        measurements[yn,xn,:] = vc.VNA_read(vna, sParMeas)\n",
    "        \n",
    "        stopscomp += 1\n",
    "        timere = (stops - stopscomp) * (time.time()-t)/3600\n",
    "        if stopscomp%10==0:\n",
    "            print('Est. time remaining: {} hours'.format(timere))\n",
    "        t = time.time()\n"
   ]
  },
  {
   "cell_type": "code",
   "execution_count": 27,
   "id": "8cbad174-a080-4df6-8ebb-1a1b723e6e6d",
   "metadata": {},
   "outputs": [
    {
     "data": {
      "image/png": "[encoded data removed]",
      "text/plain": [
       "<Figure size 432x288 with 1 Axes>"
      ]
     },
     "metadata": {
      "needs_background": "light"
     },
     "output_type": "display_data"
    }
   ],
   "source": [
    "plt.imshow(np.real(measurements[:,:,0]))\n",
    "plt.show()"
   ]
  },
  {
   "cell_type": "markdown",
   "id": "d133cf45-7b5d-49b8-a571-651fdce5cff5",
   "metadata": {},
   "source": [
    "## Save data"
   ]
  },
  {
   "cell_type": "code",
   "execution_count": 23,
   "id": "54d3d7c2-bcc6-464a-bf58-a51ec653a304",
   "metadata": {},
   "outputs": [],
   "source": [
    "savepath = 'C:/Users/smithlab/Documents/Near_Field_Scans/'\n",
    "scipy.io.savemat('{}{}_{}.mat'.format(savepath, savename, datetime.datetime.now().strftime('%Y-%m-%d')),\n",
    "                                      {'X': X,\n",
    "                                       'Y': Y,\n",
    "                                       'f': f,\n",
    "                                       'measurements': measurements})"
   ]
  },
  {
   "cell_type": "markdown",
   "id": "61faff2d-557b-430b-841b-0a41a40a5368",
   "metadata": {},
   "source": [
    "## Clean up communications"
   ]
  },
  {
   "cell_type": "code",
   "execution_count": 24,
   "id": "0cd52e35-adf4-44e5-a294-f9219ff2030e",
   "metadata": {},
   "outputs": [
    {
     "name": "stdout",
     "output_type": "stream",
     "text": [
      "Controller connection stopped\n"
     ]
    }
   ],
   "source": [
    "sc.close_connection(g)\n",
    "vna.close()"
   ]
  },
  {
   "cell_type": "code",
   "execution_count": null,
   "id": "46502eaa-7c05-404b-bebf-8812c7c8ba97",
   "metadata": {},
   "outputs": [],
   "source": []
  },
  {
   "cell_type": "code",
   "execution_count": null,
   "id": "20afd567-af22-4ff6-af00-3861676ccb14",
   "metadata": {},
   "outputs": [],
   "source": []
  }
 ],
 "metadata": {
  "kernelspec": {
   "display_name": "Python 3 (ipykernel)",
   "language": "python",
   "name": "python3"
  },
  "language_info": {
   "codemirror_mode": {
    "name": "ipython",
    "version": 3
   },
   "file_extension": ".py",
   "mimetype": "text/x-python",
   "name": "python",
   "nbconvert_exporter": "python",
   "pygments_lexer": "ipython3",
   "version": "3.8.11"
  }
 },
 "nbformat": 4,
 "nbformat_minor": 5
}
