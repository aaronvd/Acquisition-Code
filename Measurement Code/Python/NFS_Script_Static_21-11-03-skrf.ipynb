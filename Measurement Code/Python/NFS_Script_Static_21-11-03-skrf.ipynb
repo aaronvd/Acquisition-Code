{
 "cells": [
  {
   "cell_type": "markdown",
   "id": "f4b02aad-1861-4c9f-9ce7-062ae7e4a4a3",
   "metadata": {},
   "source": [
    "# NFS Script - Static"
   ]
  },
  {
   "cell_type": "code",
   "execution_count": 1,
   "id": "a570cba2-fdd9-427b-87a5-82dfbe28d0d6",
   "metadata": {},
   "outputs": [
    {
     "ename": "ModuleNotFoundError",
     "evalue": "No module named 'pyvisa'",
     "output_type": "error",
     "traceback": [
      "\u001b[1;31m---------------------------------------------------------------------------\u001b[0m",
      "\u001b[1;31mModuleNotFoundError\u001b[0m                       Traceback (most recent call last)",
      "\u001b[1;32m~\\AppData\\Local\\Temp/ipykernel_1364/3421030182.py\u001b[0m in \u001b[0;36m<module>\u001b[1;34m\u001b[0m\n\u001b[0;32m      2\u001b[0m \u001b[1;32mfrom\u001b[0m \u001b[0mmatplotlib\u001b[0m \u001b[1;32mimport\u001b[0m \u001b[0mpyplot\u001b[0m \u001b[1;32mas\u001b[0m \u001b[0mplt\u001b[0m\u001b[1;33m\u001b[0m\u001b[1;33m\u001b[0m\u001b[0m\n\u001b[0;32m      3\u001b[0m \u001b[1;32mimport\u001b[0m \u001b[0mskrf\u001b[0m \u001b[1;32mas\u001b[0m \u001b[0mrf\u001b[0m\u001b[1;33m\u001b[0m\u001b[1;33m\u001b[0m\u001b[0m\n\u001b[1;32m----> 4\u001b[1;33m \u001b[1;32mfrom\u001b[0m \u001b[0mskrf\u001b[0m\u001b[1;33m.\u001b[0m\u001b[0mvi\u001b[0m\u001b[1;33m.\u001b[0m\u001b[0mvna\u001b[0m \u001b[1;32mimport\u001b[0m \u001b[0mPNA\u001b[0m\u001b[1;33m\u001b[0m\u001b[1;33m\u001b[0m\u001b[0m\n\u001b[0m\u001b[0;32m      5\u001b[0m \u001b[1;32mimport\u001b[0m \u001b[0mcalibration_functions\u001b[0m \u001b[1;32mas\u001b[0m \u001b[0mcf\u001b[0m\u001b[1;33m\u001b[0m\u001b[1;33m\u001b[0m\u001b[0m\n\u001b[0;32m      6\u001b[0m \u001b[1;32mimport\u001b[0m \u001b[0mgclib\u001b[0m\u001b[1;33m\u001b[0m\u001b[1;33m\u001b[0m\u001b[0m\n",
      "\u001b[1;32m~\\AppData\\Roaming\\Python\\Python38\\site-packages\\skrf\\vi\\vna\\__init__.py\u001b[0m in \u001b[0;36m<module>\u001b[1;34m\u001b[0m\n\u001b[0;32m     37\u001b[0m '''\n\u001b[0;32m     38\u001b[0m \u001b[1;33m\u001b[0m\u001b[0m\n\u001b[1;32m---> 39\u001b[1;33m \u001b[1;32mfrom\u001b[0m \u001b[1;33m.\u001b[0m\u001b[0mabcvna\u001b[0m \u001b[1;32mimport\u001b[0m \u001b[0mVNA\u001b[0m\u001b[1;33m\u001b[0m\u001b[1;33m\u001b[0m\u001b[0m\n\u001b[0m\u001b[0;32m     40\u001b[0m \u001b[1;32mfrom\u001b[0m \u001b[1;33m.\u001b[0m\u001b[0mkeysight_pna\u001b[0m \u001b[1;32mimport\u001b[0m \u001b[0mPNA\u001b[0m\u001b[1;33m,\u001b[0m \u001b[0mPNAX\u001b[0m\u001b[1;33m\u001b[0m\u001b[1;33m\u001b[0m\u001b[0m\n\u001b[0;32m     41\u001b[0m \u001b[1;32mfrom\u001b[0m \u001b[1;33m.\u001b[0m\u001b[0mkeysight_fieldfox\u001b[0m \u001b[1;32mimport\u001b[0m \u001b[0mFieldFox\u001b[0m\u001b[1;33m\u001b[0m\u001b[1;33m\u001b[0m\u001b[0m\n",
      "\u001b[1;32m~\\AppData\\Roaming\\Python\\Python38\\site-packages\\skrf\\vi\\vna\\abcvna.py\u001b[0m in \u001b[0;36m<module>\u001b[1;34m\u001b[0m\n\u001b[0;32m      8\u001b[0m \u001b[1;33m\u001b[0m\u001b[0m\n\u001b[0;32m      9\u001b[0m \u001b[1;32mimport\u001b[0m \u001b[0mnumpy\u001b[0m \u001b[1;32mas\u001b[0m \u001b[0mnp\u001b[0m\u001b[1;33m\u001b[0m\u001b[1;33m\u001b[0m\u001b[0m\n\u001b[1;32m---> 10\u001b[1;33m \u001b[1;32mimport\u001b[0m \u001b[0mpyvisa\u001b[0m\u001b[1;33m\u001b[0m\u001b[1;33m\u001b[0m\u001b[0m\n\u001b[0m\u001b[0;32m     11\u001b[0m \u001b[1;33m\u001b[0m\u001b[0m\n\u001b[0;32m     12\u001b[0m \u001b[1;32mfrom\u001b[0m \u001b[1;33m...\u001b[0m\u001b[0mnetwork\u001b[0m \u001b[1;32mimport\u001b[0m \u001b[0mNetwork\u001b[0m\u001b[1;33m\u001b[0m\u001b[1;33m\u001b[0m\u001b[0m\n",
      "\u001b[1;31mModuleNotFoundError\u001b[0m: No module named 'pyvisa'"
     ]
    }
   ],
   "source": [
    "import numpy as np\n",
    "from matplotlib import pyplot as plt\n",
    "import skrf as rf\n",
    "from skrf.vi.vna import PNA\n",
    "import calibration_functions as cf\n",
    "import gclib\n",
    "import stage_control as sc\n",
    "import scipy.constants\n",
    "import scipy.io\n",
    "import time\n",
    "import datetime.datetime\n",
    "\n",
    "C     = scipy.constants.c\n",
    "EPS_0 = scipy.constants.epsilon_0 #C^2/(N*m^2)\n",
    "MU_0  = scipy.constants.mu_0    #m kg s^-2 A^-2\n",
    "mm = 0.001\n",
    "cm    = 0.01\n",
    "GHz   = 1.0E9"
   ]
  },
  {
   "cell_type": "code",
   "execution_count": 7,
   "id": "f6049087-72db-4204-9f59-d39cacebc961",
   "metadata": {},
   "outputs": [
    {
     "name": "stdout",
     "output_type": "stream",
     "text": [
      "[[0 1 2]\n",
      " [3 4 5]]\n",
      "(5, 10, 3)\n",
      "(24, 3)\n"
     ]
    }
   ],
   "source": [
    "test = np.array([[0, 1, 2],[3, 4, 5]])\n",
    "print(test)\n",
    "\n",
    "test = np.ones((5, 10, 3))\n",
    "print(test.shape)\n",
    "\n",
    "test = np.ones((24, 3))\n",
    "print(test.shape)\n",
    "\n",
    "test_list = test.tolist()"
   ]
  },
  {
   "cell_type": "code",
   "execution_count": 9,
   "id": "fe65451b-98cd-4d1c-8cc5-4d7bb4084257",
   "metadata": {},
   "outputs": [
    {
     "data": {
      "text/plain": [
       "3"
      ]
     },
     "execution_count": 9,
     "metadata": {},
     "output_type": "execute_result"
    }
   ],
   "source": [
    "len(test_list[0])"
   ]
  },
  {
   "cell_type": "markdown",
   "id": "df1675a5-9ab8-45d7-90a9-0c2fc7344373",
   "metadata": {
    "tags": []
   },
   "source": [
    "## Scan parameters"
   ]
  },
  {
   "cell_type": "code",
   "execution_count": 10,
   "id": "35dd05aa-84d6-411d-a773-c3fa883e274a",
   "metadata": {},
   "outputs": [
    {
     "name": "stdout",
     "output_type": "stream",
     "text": [
      "IFBW = 1000 \n",
      "Calibration File = Aaron_green_cables_21-10-22 \n",
      "Power = 0 dBm \n",
      "Measuring S12\n"
     ]
    }
   ],
   "source": [
    "xrange = 1000 # x length of stage, mm\n",
    "yrange = 1000 # y length of stage, mm\n",
    "\n",
    "fstart = 8E9\n",
    "fstop = 12E9\n",
    "NumFreqs = 401\n",
    "lam_max = C/(fstop*1E9)\n",
    "dstep = lam_max/2 * 1000 # mm\n",
    "\n",
    "IFBW = 1000\n",
    "calfile = 'Aaron_green_cables_21-10-22'\n",
    "power = 0\n",
    "savename = 'X_Band_Horn'\n",
    "sParMeas = 'S12'\n",
    "speedmms = 25\n",
    "\n",
    "print('IFBW = {} \\nCalibration File = {} \\nPower = {} dBm \\nMeasuring {}'.format(IFBW, calfile, power, sParMeas))"
   ]
  },
  {
   "cell_type": "markdown",
   "id": "a53f1b76-2084-491f-9822-ccc8cc779246",
   "metadata": {},
   "source": [
    "## Set scan lengths"
   ]
  },
  {
   "cell_type": "code",
   "execution_count": null,
   "id": "9e36a009-84ae-4390-b3a7-9ba34170e200",
   "metadata": {},
   "outputs": [],
   "source": [
    "Lx_ap = 130;\n",
    "Ly_ap = 120;\n",
    "theta = 60;\n",
    "d = 80;\n",
    "\n",
    "Lx_scan = Lx_ap + 2*d*np.tan(np.radians(theta));\n",
    "Ly_scan = Ly_ap + 2*d*np.tan(np.radians(theta));\n",
    "\n",
    "xmin = -Lx_scan/2;\n",
    "xmax = Lx_scan/2;\n",
    "ymin = -Ly_scan/2;\n",
    "ymax = Ly_scan/2;"
   ]
  },
  {
   "cell_type": "markdown",
   "id": "4516c6c4-29f4-4b29-b98e-5ac372b52656",
   "metadata": {},
   "source": [
    "## Initialize instruments"
   ]
  },
  {
   "cell_type": "code",
   "execution_count": null,
   "id": "f72029ec-97e1-4bec-96cd-ec55040d66b4",
   "metadata": {},
   "outputs": [],
   "source": [
    "## Stage\n",
    "g = sc.stage_start('169.254.225.173')\n",
    "sc.stage_home(g,speedmms)\n",
    "\n",
    "## VNA\n",
    "vna = PNA(address ='TCPIP0::10.236.73.132::inst0::INSTR')\n",
    "vna.reset()\n",
    "vna.scpi.set_trigger_manual\n",
    "\n",
    "meas_channel = 2\n",
    "\n",
    "vna.create_meas(sParMeas,'S12', channel = meas_channel) \n",
    "\n",
    "vna.set_frequency_sweep(f_start, \n",
    "                        f_stop, \n",
    "                        NumFreqs, \n",
    "                        f_unit = 'Hz',\n",
    "                        channel = meas_channel, \n",
    "                        )"
   ]
  },
  {
   "cell_type": "markdown",
   "id": "f2f8de19-728e-4aec-8470-bb6e26739b99",
   "metadata": {},
   "source": [
    "## Move to new origin"
   ]
  },
  {
   "cell_type": "code",
   "execution_count": null,
   "id": "6e06ee3f-0e7a-4e6a-92e8-be55ed15029d",
   "metadata": {},
   "outputs": [],
   "source": [
    "center_x = -xrange/2;\n",
    "center_y = -yrange/2;\n",
    "pos_x = 0;  # adjust to change x zero position\n",
    "pos_y = 0;  # adjust to change y zero position\n",
    "\n",
    "sc.move_to_absolute(g,speedmms,0,0,center_x+pos_x,center_y+pos_y)"
   ]
  },
  {
   "cell_type": "markdown",
   "id": "f685d77f-495e-40db-b0a9-ac6ec0b1dcca",
   "metadata": {},
   "source": [
    "## Zero axes"
   ]
  },
  {
   "cell_type": "code",
   "execution_count": null,
   "id": "484017ca-23a0-4292-8513-f3399b4635ca",
   "metadata": {},
   "outputs": [],
   "source": [
    "defZeroInXsteps, defZeroInYsteps = sc.zero_axes(g);"
   ]
  },
  {
   "cell_type": "markdown",
   "id": "d4353e9a-3986-4013-8667-2d40b232746a",
   "metadata": {},
   "source": [
    "## Setup scan"
   ]
  },
  {
   "cell_type": "code",
   "execution_count": null,
   "id": "a5c5c99f-498a-428d-adf6-0595960ce35c",
   "metadata": {},
   "outputs": [],
   "source": [
    "X, Y = np.meshgrid(np.arange(xmin, xmax, dstep), np.arange(ymin, ymax, dstep), indexing='xy')\n",
    "measurements = np.zeros(Y.shape[0], X.shape[1], NumFreqs)\n",
    "stops = Y.shape[0] * X.shape[1]"
   ]
  },
  {
   "cell_type": "markdown",
   "id": "6b74b558-eb6f-4554-aad4-8f3959e12684",
   "metadata": {},
   "source": [
    "## Create calibration"
   ]
  },
  {
   "cell_type": "code",
   "execution_count": null,
   "id": "81462f39-9aa1-404d-8e49-8ba216c5f086",
   "metadata": {},
   "outputs": [],
   "source": [
    "cal_folder = 'C:/Users/lab/Documents/Aaron/DARPA/Data/Aaron_Quick_Turn_Antenna/Test_Board_21-10-07/2021-10-07_SOLT/'\n",
    "cal = cf.make_SOLT_cal(cal_folder)"
   ]
  },
  {
   "cell_type": "markdown",
   "id": "452a0f68-23ae-4272-aa81-6c9acacb9bd5",
   "metadata": {},
   "source": [
    "## Start scan"
   ]
  },
  {
   "cell_type": "code",
   "execution_count": null,
   "id": "8bbd06fb-5565-43a4-93ed-07090289f6d9",
   "metadata": {},
   "outputs": [],
   "source": [
    "t = time.time()\n",
    "stopscomp = 0\n",
    "\n",
    "for yn in range(Y.shape[0]):\n",
    "    direction = 2*np.mod(yn, 2) - 1\n",
    "    if direction > 0:\n",
    "        xindex = np.arange(X.shape[1])\n",
    "    else:\n",
    "        xindex = np.flip(np.arange(X.shape[1]))\n",
    "        \n",
    "    for xn in xindex:\n",
    "        x = X[yn, xn]\n",
    "        y = Y[yn, xn]\n",
    "        sc.move_to_absolute(g,speedmms,defZeroInXsteps,defZeroInYsteps,x,y)\n",
    "        \n",
    "        vna.sweep\n",
    "\n",
    "        measurements[yn,xn,:] = vna.get_measurement(mname = sParMeas)\n",
    "        measurements_corrected[yn,xn,:] = cal.apply_cal(measurements[yn,xn,:])   # move this to post-processing?\n",
    "        \n",
    "        stopscomp += 1\n",
    "        timere = (stops - stopscomp) * (time.time()-t)/3600\n",
    "        print('Est. time remaining: {} hours'.format(timere))\n",
    "        t = time.time()\n"
   ]
  },
  {
   "cell_type": "markdown",
   "id": "d133cf45-7b5d-49b8-a571-651fdce5cff5",
   "metadata": {},
   "source": [
    "## Save data"
   ]
  },
  {
   "cell_type": "code",
   "execution_count": null,
   "id": "54d3d7c2-bcc6-464a-bf58-a51ec653a304",
   "metadata": {},
   "outputs": [],
   "source": [
    "savepath = 'C:/Users/smithlab/Documents/Near_Field_Scans/'\n",
    "scipy.io.savemat('{}{}_{}.mat'.format(savepath, savename, datetime.datetime.now().strftime('%Y-%m-%d'),\n",
    "                                     )\n"
   ]
  },
  {
   "cell_type": "markdown",
   "id": "61faff2d-557b-430b-841b-0a41a40a5368",
   "metadata": {},
   "source": [
    "## Clean up communications"
   ]
  },
  {
   "cell_type": "code",
   "execution_count": null,
   "id": "0cd52e35-adf4-44e5-a294-f9219ff2030e",
   "metadata": {},
   "outputs": [],
   "source": [
    "sc.close_connection(g)"
   ]
  },
  {
   "cell_type": "code",
   "execution_count": null,
   "id": "805f1d3e-1bed-4a97-a946-64ac08c07554",
   "metadata": {},
   "outputs": [],
   "source": []
  },
  {
   "cell_type": "code",
   "execution_count": null,
   "id": "46502eaa-7c05-404b-bebf-8812c7c8ba97",
   "metadata": {},
   "outputs": [],
   "source": []
  },
  {
   "cell_type": "code",
   "execution_count": null,
   "id": "20afd567-af22-4ff6-af00-3861676ccb14",
   "metadata": {},
   "outputs": [],
   "source": []
  }
 ],
 "metadata": {
  "kernelspec": {
   "display_name": "Python 3 (ipykernel)",
   "language": "python",
   "name": "python3"
  },
  "language_info": {
   "codemirror_mode": {
    "name": "ipython",
    "version": 3
   },
   "file_extension": ".py",
   "mimetype": "text/x-python",
   "name": "python",
   "nbconvert_exporter": "python",
   "pygments_lexer": "ipython3",
   "version": "3.8.11"
  }
 },
 "nbformat": 4,
 "nbformat_minor": 5
}
