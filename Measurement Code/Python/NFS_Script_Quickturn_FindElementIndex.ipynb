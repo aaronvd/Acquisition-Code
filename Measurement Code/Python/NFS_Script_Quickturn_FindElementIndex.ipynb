{
 "cells": [
  {
   "cell_type": "markdown",
   "id": "f4c3fb7c-0c75-4ed1-aa4a-5f4edc663367",
   "metadata": {},
   "source": [
    "# **Near Field Scan Script for Aaron's Quickturn Antenna**"
   ]
  },
  {
   "cell_type": "markdown",
   "id": "8430e9fc-51ae-48cd-b183-cad2d1a62eac",
   "metadata": {},
   "source": [
    "Tunes antenna using two Arduinos + two DAC boards"
   ]
  },
  {
   "cell_type": "markdown",
   "id": "c13cd9b4-a4c0-41a4-968c-f7045a95555e",
   "metadata": {},
   "source": [
    "### Import modules"
   ]
  },
  {
   "cell_type": "code",
   "execution_count": 4,
   "id": "0ee5ee8e-3cfa-4bcb-a1a8-01ed178a2bfb",
   "metadata": {},
   "outputs": [],
   "source": [
    "import sys\n",
    "sys.path.append('C:/Users/smithlab/Documents/Acquisition-Code/Modules')\n",
    "import numpy as np\n",
    "from matplotlib import pyplot as plt\n",
    "import VNA_control as vc\n",
    "import stage_control as sc\n",
    "import probe_deconvolve as pd\n",
    "import propagation_functions as pf\n",
    "import scipy.constants\n",
    "import scipy.io\n",
    "import time\n",
    "import datetime\n",
    "import mainPyDAC2_module_multiple_Aaron as tune\n",
    "import numpy.matlib\n",
    "import csv\n",
    "\n",
    "def load_list(filename):\n",
    "    # loads in CSV file, supporting lists (i.e. CSVs exported from up to two-dimensional arrays)\n",
    "    list1 = []\n",
    "    with open(filename, 'r', newline='\\n') as csvfile:\n",
    "        reader = csv.reader(csvfile, delimiter=',')\n",
    "        for row in reader:\n",
    "            list1.append(row)\n",
    "\n",
    "    list1 = [[float(v) for v in r] for r in list1]\n",
    "    return list1\n",
    "\n",
    "C     = scipy.constants.c\n",
    "EPS_0 = scipy.constants.epsilon_0 #C^2/(N*m^2)\n",
    "MU_0  = scipy.constants.mu_0    #m kg s^-2 A^-2\n",
    "mm = 0.001\n",
    "cm    = 0.01\n",
    "GHz   = 1.0E9"
   ]
  },
  {
   "cell_type": "markdown",
   "id": "957bef2a-2558-4b35-ba8d-d26b8050891c",
   "metadata": {
    "tags": []
   },
   "source": [
    "### Tuning state generation"
   ]
  },
  {
   "cell_type": "code",
   "execution_count": 8,
   "id": "6d343407-e5a3-43e0-acf8-59eaced46c7b",
   "metadata": {},
   "outputs": [],
   "source": [
    "ts = []\n",
    "for i in range(240):\n",
    "    t = np.zeros(240)\n",
    "    t[i] = 2.5          # creating tuning states with one element at a time set to 2.5V\n",
    "    ts.append(t)\n"
   ]
  },
  {
   "cell_type": "markdown",
   "id": "254d3867-9627-4e23-90f9-7723eba58081",
   "metadata": {},
   "source": [
    "### General scan parameters"
   ]
  },
  {
   "cell_type": "code",
   "execution_count": 6,
   "id": "2709ddb6-c2e6-4662-b8c2-645c21d83fb9",
   "metadata": {},
   "outputs": [
    {
     "name": "stdout",
     "output_type": "stream",
     "text": [
      "IFBW = 1000 \n",
      "Calibration File = Aaron_21-11-05 \n",
      "Power = 0 dBm \n",
      "Measuring S12\n"
     ]
    }
   ],
   "source": [
    "a_probe = 22.86\n",
    "b_probe = 10.16\n",
    "\n",
    "xrange = 1000 # x length of stage, mm\n",
    "yrange = 1000 # y length of stage, mm\n",
    "\n",
    "fstart = 9E9\n",
    "fstop = 10E9\n",
    "NumFreqs = 51\n",
    "NumApMasks = len(ts)\n",
    "f = np.linspace(fstart, fstop, NumFreqs)\n",
    "lam_min = C/fstop\n",
    "dstep = lam_min/2 * 1000 # mm\n",
    "\n",
    "IFBW = 1000\n",
    "calfile = 'Aaron_21-11-05'\n",
    "power = 0 # dBm\n",
    "sParMeas = 'S12'\n",
    "speedmms = 25       # don't change this\n",
    "\n",
    "print('IFBW = {} \\nCalibration File = {} \\nPower = {} dBm \\nMeasuring {}'.format(IFBW, calfile, power, sParMeas))"
   ]
  },
  {
   "cell_type": "markdown",
   "id": "a7bcad26-c8ab-4c71-a641-e98dc56bc248",
   "metadata": {},
   "source": [
    "### Initialize instruments"
   ]
  },
  {
   "cell_type": "code",
   "execution_count": 11,
   "id": "5da3ed2c-c548-4fbf-b437-385a834d5120",
   "metadata": {},
   "outputs": [
    {
     "name": "stdout",
     "output_type": "stream",
     "text": [
      "Agilent Technologies,N5222A,MY51421573,A.09.90.10\n",
      "Initiating VNA...\n",
      "\n",
      "Done\n",
      "\n"
     ]
    }
   ],
   "source": [
    "## Stage\n",
    "g = sc.stage_start('169.254.225.173')\n",
    "sc.stage_home(g,speedmms)\n",
    "\n",
    "## Arduino\n",
    "numDACs = 30\n",
    "serial1 = tune.initializeArduino(numDACs, \"COM9\")\n",
    "serial2 = tune.initializeArduino(numDACs, \"COM10\")\n",
    "\n",
    "## VNA\n",
    "vna = vc.instrument_open('TCPIP0::169.254.187.153::5025::SOCKET')\n",
    "vc.VNA_initiate(vna, NumFreqs, fstart*1E-9, fstop*1E-9, IFBW, power, 'S12', calfile=calfile)"
   ]
  },
  {
   "cell_type": "markdown",
   "id": "70698d5f-c15d-4efd-967b-be0fc2f64035",
   "metadata": {},
   "source": [
    "### Configure save path"
   ]
  },
  {
   "cell_type": "code",
   "execution_count": 12,
   "id": "8974d794-91d7-4645-a168-58b0229f91d7",
   "metadata": {},
   "outputs": [],
   "source": [
    "savename = 'Quickturn_Antenna_Element_Index_Test'\n",
    "savepath = 'C:/Users/smithlab/Documents/Near_Field_Scans/'"
   ]
  },
  {
   "cell_type": "markdown",
   "id": "b5e98fc4-873b-4820-af72-a8d5c404f42f",
   "metadata": {},
   "source": [
    "### Scan"
   ]
  },
  {
   "cell_type": "markdown",
   "id": "6d675987-bf7b-4c87-9738-1fb5e18d717f",
   "metadata": {},
   "source": [
    "#### *Set scan positions*"
   ]
  },
  {
   "cell_type": "code",
   "execution_count": 24,
   "id": "82523f0b",
   "metadata": {},
   "outputs": [],
   "source": [
    "r_list = 1000 * np.asarray(load_list(r'C:\\Users\\User\\Documents\\KiCad\\Projects\\Aaron_Prototype_Final\\Design Documents\\Design_Data\\r_list.csv'))\n",
    "r_list = r_list - r_list[0,None,:]      # origin is element 1 position\n",
    "\n",
    "plt.figure()\n",
    "plt.scatter(r_list[:,0], r_list[:,1])\n",
    "plt.show()\n",
    "\n",
    "measurements = np.zeros((r_list.shape[0], NumFreqs, NumApMasks), dtype=np.complex128) # measurements with E field of probe oriented in x direction\n",
    "stops = r_list.shape[0]"
   ]
  },
  {
   "cell_type": "markdown",
   "id": "d1ed6d23-5aee-469a-afc7-2c7f425566b8",
   "metadata": {},
   "source": [
    "#### *Move to new origin*"
   ]
  },
  {
   "cell_type": "code",
   "execution_count": 35,
   "id": "e6c740cf-0d01-4c6a-b09b-eef29703b9f2",
   "metadata": {},
   "outputs": [
    {
     "data": {
      "text/plain": [
       "(-570.0, -540.0)"
      ]
     },
     "execution_count": 35,
     "metadata": {},
     "output_type": "execute_result"
    }
   ],
   "source": [
    "center_x = -xrange/2\n",
    "center_y = -yrange/2\n",
    "pos_x = -70  # adjust to change x zero position\n",
    "pos_y = -40  # adjust to change y zero position\n",
    "\n",
    "sc.move_to_absolute(g,speedmms,0,0,center_x+pos_x,center_y+pos_y)"
   ]
  },
  {
   "cell_type": "markdown",
   "id": "18eb0f7f-576d-4541-a88d-04c39c5ab71b",
   "metadata": {},
   "source": [
    "#### *Set origin*"
   ]
  },
  {
   "cell_type": "code",
   "execution_count": 37,
   "id": "8cfaa1fa-40f8-4d25-ac72-79f7b58e8bf2",
   "metadata": {},
   "outputs": [],
   "source": [
    "defZeroInXsteps, defZeroInYsteps = sc.zero_axes(g)"
   ]
  },
  {
   "cell_type": "markdown",
   "id": "85e52b44-9d2f-4c4e-8983-faf62aae288d",
   "metadata": {},
   "source": [
    "#### *Start scan - x-polarization*"
   ]
  },
  {
   "cell_type": "code",
   "execution_count": 41,
   "id": "83113961-bfbe-4622-b8b3-c75a992852ad",
   "metadata": {},
   "outputs": [
    {
     "data": {
      "text/plain": [
       "(-202.5388, -147.5388)"
      ]
     },
     "execution_count": 41,
     "metadata": {},
     "output_type": "execute_result"
    }
   ],
   "source": [
    "sc.move_to_absolute(g,speedmms,defZeroInXsteps,defZeroInYsteps,r_list[0,0],r_list[0,1]) # move to start position"
   ]
  },
  {
   "cell_type": "code",
   "execution_count": 23,
   "id": "118bf3a2-487b-467a-836b-e50dcfe7259b",
   "metadata": {},
   "outputs": [],
   "source": [
    "t = time.time()\n",
    "stopscomp = 0\n",
    "\n",
    "for ii in range(r_list.shape[0]):\n",
    "\n",
    "    sc.move_to_absolute(g,speedmms,defZeroInXsteps,defZeroInYsteps,r_list[ii,0],r_list[ii,1])\n",
    "\n",
    "    for jj in range(NumApMasks):\n",
    "        tune.testProgram30DAC(serial1, ts[jj])\n",
    "        tune.testProgram30DAC(serial2, ts[jj])\n",
    "        time.sleep(0.01)\n",
    "        measurements[ii,:,jj] = vc.VNA_read(vna,sParMeas)\n",
    "\n",
    "    stopscomp += 1\n",
    "    timere = (stops - stopscomp) * (time.time()-t)/3600\n",
    "    if stopscomp%5==0:\n",
    "        print('Est. time remaining: {} hours'.format(timere))\n",
    "    t = time.time()"
   ]
  },
  {
   "cell_type": "markdown",
   "id": "b8fa2dc0-0de0-4cef-9bb2-dbee1446a89e",
   "metadata": {},
   "source": [
    "### Save data"
   ]
  },
  {
   "cell_type": "code",
   "execution_count": 48,
   "id": "44a5d140-303c-4eac-8b2e-e2d52db8022a",
   "metadata": {},
   "outputs": [],
   "source": [
    "scipy.io.savemat('{}{}_{}.mat'.format(savepath, savename, datetime.datetime.now().strftime('%Y-%m-%d')),\n",
    "                                      {'r_list': r_list,\n",
    "                                       'f': f,\n",
    "                                       'ts': ts,\n",
    "                                       'measurements': measurements})"
   ]
  },
  {
   "cell_type": "markdown",
   "id": "cea90aff",
   "metadata": {},
   "source": [
    "### Find element index mapping"
   ]
  },
  {
   "cell_type": "code",
   "execution_count": 29,
   "id": "a5236c5e-aae2-409d-9734-3be704d22334",
   "metadata": {},
   "outputs": [
    {
     "data": {
      "text/plain": [
       "(160,)"
      ]
     },
     "execution_count": 29,
     "metadata": {},
     "output_type": "execute_result"
    }
   ],
   "source": [
    "f0 = 9.75E9\n",
    "peaks = np.abs(measurements[:,np.argmin(np.abs(f0 - f)),:])\n",
    "element_index = np.argmax(peaks, axis=1)\n",
    "### NEED TO FIX DEAD ELEMENT INDICES\n",
    "\n",
    "# Example: have desired set of 160 voltages alpha_v, and tuning vector t of length 240.\n",
    "# Then set t[element_index] = alpha_v\n",
    "\n",
    "t_test = np.zeros(10)\n",
    "element_index_test = np.array([2, 1, 7, 9, 5]) # 5 elements\n",
    "alpha_v_test = np.array([1, 2, 3, 4, 5])\n",
    "\n",
    "t_test[element_index_test] = alpha_v_test\n",
    "\n",
    "print(t_test)"
   ]
  },
  {
   "cell_type": "code",
   "execution_count": null,
   "id": "079bae47",
   "metadata": {},
   "outputs": [],
   "source": []
  }
 ],
 "metadata": {
  "interpreter": {
   "hash": "219a0fbf6447c2af047bf9e467ff5e3b3e6f8037f9e2112e542884c7855ad7c1"
  },
  "kernelspec": {
   "display_name": "Python 3.8.12 ('duke')",
   "language": "python",
   "name": "python3"
  },
  "language_info": {
   "codemirror_mode": {
    "name": "ipython",
    "version": 3
   },
   "file_extension": ".py",
   "mimetype": "text/x-python",
   "name": "python",
   "nbconvert_exporter": "python",
   "pygments_lexer": "ipython3",
   "version": "3.8.12"
  }
 },
 "nbformat": 4,
 "nbformat_minor": 5
}
