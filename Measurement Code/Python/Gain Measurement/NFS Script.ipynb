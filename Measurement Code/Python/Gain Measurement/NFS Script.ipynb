{
 "cells": [
  {
   "cell_type": "markdown",
   "metadata": {},
   "source": [
    "# **Near Field Scan Measurement and Analysis Script**"
   ]
  },
  {
   "cell_type": "markdown",
   "metadata": {},
   "source": [
    "For 3rd floor system with 1 meter Newmark stage. Compares single- or dual-polarization near field scan of test antenna to that of standard gain horn antenna to obtain directivity, gain, and efficiency estimates."
   ]
  },
  {
   "cell_type": "markdown",
   "metadata": {
    "tags": []
   },
   "source": [
    "### Import modules"
   ]
  },
  {
   "cell_type": "code",
   "execution_count": 1,
   "metadata": {},
   "outputs": [],
   "source": [
    "import sys\n",
    "sys.path.append('C:/Users/smithlab/Documents/Aaron/Modules')\n",
    "import numpy as np\n",
    "from matplotlib import pyplot as plt\n",
    "import VNA_control as vc\n",
    "import stage_control as sc\n",
    "import probe_deconvolve as pd\n",
    "import propagation_functions as pf\n",
    "import scipy.constants\n",
    "import scipy.io\n",
    "import time\n",
    "import datetime\n",
    "import mainPyDAC2_noDelay as tune\n",
    "\n",
    "C     = scipy.constants.c\n",
    "EPS_0 = scipy.constants.epsilon_0 #C^2/(N*m^2)\n",
    "MU_0  = scipy.constants.mu_0    #m kg s^-2 A^-2\n",
    "mm = 0.001\n",
    "cm    = 0.01\n",
    "GHz   = 1.0E9"
   ]
  },
  {
   "cell_type": "markdown",
   "metadata": {
    "tags": []
   },
   "source": [
    "### General scan parameters"
   ]
  },
  {
   "cell_type": "code",
   "execution_count": 2,
   "metadata": {},
   "outputs": [
    {
     "name": "stdout",
     "output_type": "stream",
     "text": [
      "IFBW = 1000 \n",
      "Calibration File = Aaron_21-11-05 \n",
      "Power = 0 dBm \n",
      "Measuring S12\n"
     ]
    }
   ],
   "source": [
    "a_probe = 22.86\n",
    "b_probe = 10.16\n",
    "\n",
    "xrange = 1000 # x length of stage, mm\n",
    "yrange = 1000 # y length of stage, mm\n",
    "\n",
    "fstart = 8E9\n",
    "fstop = 12E9\n",
    "NumFreqs = 11\n",
    "NumApMasks = 10\n",
    "f = np.linspace(fstart, fstop, NumFreqs)\n",
    "lam_min = C/fstop\n",
    "dstep = lam_min/2 * 1000 # mm\n",
    "\n",
    "IFBW = 1000\n",
    "calfile = 'Aaron_21-11-05'\n",
    "power = 0 # dBm\n",
    "sParMeas = 'S12'\n",
    "speedmms = 25       # don't change this\n",
    "\n",
    "print('IFBW = {} \\nCalibration File = {} \\nPower = {} dBm \\nMeasuring {}'.format(IFBW, calfile, power, sParMeas))"
   ]
  },
  {
   "cell_type": "markdown",
   "metadata": {
    "tags": []
   },
   "source": [
    "### Initialize instruments"
   ]
  },
  {
   "cell_type": "code",
   "execution_count": 3,
   "metadata": {},
   "outputs": [
    {
     "name": "stdout",
     "output_type": "stream",
     "text": [
      "Received: 12 from serial.\n",
      "Agilent Technologies,N5222A,MY51421573,A.09.90.10\n",
      "Initiating VNA...\n",
      "\n",
      "Done\n",
      "\n"
     ]
    }
   ],
   "source": [
    "## Stage\n",
    "g = sc.stage_start('169.254.225.173')\n",
    "sc.stage_home(g,speedmms)\n",
    "\n",
    "## Arduino\n",
    "# BAUDRATE, PORTNAME, #DACS\n",
    "numDACs = 12\n",
    "tune.setSerial(115200, \"COM7\", numDACs)\n",
    "tune.sendInputLen()\n",
    "msg = tune.receiveFromArduino()\n",
    "\n",
    "while msg.find(\"Received: \" + str(numDACs) + \" from serial.\") == -1:\n",
    "    msg = tune.receiveFromArduino()\n",
    "    \n",
    "if not (msg == \"NO VAL\"):\n",
    "    print(msg)\n",
    "\n",
    "\n",
    "## VNA\n",
    "vna = vc.instrument_open('TCPIP0::169.254.187.153::5025::SOCKET')\n",
    "vc.VNA_initiate(vna, NumFreqs, fstart*1E-9, fstop*1E-9, IFBW, power, 'S12', calfile=calfile)"
   ]
  },
  {
   "cell_type": "markdown",
   "metadata": {
    "tags": []
   },
   "source": [
    "## **Test antenna**"
   ]
  },
  {
   "cell_type": "code",
   "execution_count": 4,
   "metadata": {},
   "outputs": [],
   "source": [
    "mat = scipy.io.loadmat('C:/Users/smithlab/Documents/NFS_codes/Mike_Antenna_Tuning/wrc_tuning_states.mat')\n",
    "ts = mat['ts'].reshape((96, 50))\n",
    "\n",
    "savename = 'Mike_Antenna'\n",
    "savepath = 'C:/Users/smithlab/Documents/NFS_codes'"
   ]
  },
  {
   "cell_type": "markdown",
   "metadata": {},
   "source": [
    "### Scan"
   ]
  },
  {
   "cell_type": "markdown",
   "metadata": {},
   "source": [
    "#### *Set scan lengths*"
   ]
  },
  {
   "cell_type": "code",
   "execution_count": 5,
   "metadata": {},
   "outputs": [],
   "source": [
    "Lx_ap = 130\n",
    "Ly_ap = 120\n",
    "theta = 30\n",
    "d = 85\n",
    "\n",
    "Lx_scan = Lx_ap + 2*d*np.tan(np.radians(theta))\n",
    "Ly_scan = Ly_ap + 2*d*np.tan(np.radians(theta))\n",
    "\n",
    "xmin = -Lx_scan/2\n",
    "xmax = Lx_scan/2\n",
    "ymin = -Ly_scan/2\n",
    "ymax = Ly_scan/2\n",
    "\n",
    "x_probe = np.arange(xmin, xmax, dstep)\n",
    "y_probe = np.arange(ymin, ymax, dstep)\n",
    "X_probe, Y_probe = np.meshgrid(x_probe, y_probe, indexing='xy')\n",
    "measurements_x = np.zeros((Y_probe.shape[0], X_probe.shape[1], NumFreqs, NumApMasks), dtype=np.complex128) # measurements with E field of probe oriented in x direction\n",
    "measurements_y = np.zeros((Y_probe.shape[0], X_probe.shape[1], NumFreqs, NumApMasks), dtype=np.complex128) # measurements with E field of probe oriented in y direction\n",
    "stops = Y_probe.shape[0] * X_probe.shape[1]"
   ]
  },
  {
   "cell_type": "markdown",
   "metadata": {},
   "source": [
    "#### *Move to new origin*"
   ]
  },
  {
   "cell_type": "code",
   "execution_count": 6,
   "metadata": {},
   "outputs": [
    {
     "data": {
      "text/plain": [
       "(-620.0, -500.0)"
      ]
     },
     "execution_count": 6,
     "metadata": {},
     "output_type": "execute_result"
    }
   ],
   "source": [
    "center_x = -xrange/2\n",
    "center_y = -yrange/2\n",
    "pos_x = -120  # adjust to change x zero position\n",
    "pos_y = 0  # adjust to change y zero position\n",
    "\n",
    "sc.move_to_absolute(g,speedmms,0,0,center_x+pos_x,center_y+pos_y)"
   ]
  },
  {
   "cell_type": "markdown",
   "metadata": {},
   "source": [
    "#### *Set origin*"
   ]
  },
  {
   "cell_type": "code",
   "execution_count": 7,
   "metadata": {},
   "outputs": [],
   "source": [
    "defZeroInXsteps, defZeroInYsteps = sc.zero_axes(g)"
   ]
  },
  {
   "cell_type": "markdown",
   "metadata": {},
   "source": [
    "#### *Start scan - x-polarization*"
   ]
  },
  {
   "cell_type": "code",
   "execution_count": 8,
   "metadata": {},
   "outputs": [
    {
     "data": {
      "text/plain": [
       "(-114.0746, -109.0746)"
      ]
     },
     "execution_count": 8,
     "metadata": {},
     "output_type": "execute_result"
    }
   ],
   "source": [
    "sc.move_to_absolute(g,speedmms,defZeroInXsteps,defZeroInYsteps,X_probe[0,0],Y_probe[0,0]) # move to start position"
   ]
  },
  {
   "cell_type": "code",
   "execution_count": null,
   "metadata": {},
   "outputs": [
    {
     "name": "stdout",
     "output_type": "stream",
     "text": [
      "Est. time remaining: 0.15109775357776217 hours\n",
      "Est. time remaining: 0.1452602579858568 hours\n",
      "Est. time remaining: 0.14038622856140137 hours\n",
      "Est. time remaining: 0.13558275977770487 hours\n",
      "Est. time remaining: 0.1323429889149136 hours\n",
      "Est. time remaining: 0.1294886883099874 hours\n"
     ]
    }
   ],
   "source": [
    "t = time.time()\n",
    "stopscomp = 0\n",
    "\n",
    "x_list = []\n",
    "y_list = []\n",
    "for yn in range(Y_probe.shape[0]):\n",
    "    direction = 2*np.mod(yn+1, 2) - 1\n",
    "    if direction > 0:\n",
    "        xindex = np.arange(X_probe.shape[1])\n",
    "    else:\n",
    "        xindex = np.flip(np.arange(X_probe.shape[1]))\n",
    "        \n",
    "    for xn in xindex:\n",
    "        x = X_probe[yn, xn]\n",
    "        y = Y_probe[yn, xn]\n",
    "        sc.move_to_absolute(g,speedmms,defZeroInXsteps,defZeroInYsteps,x,y)\n",
    "        \n",
    "        for jj in range(NumApMasks):\n",
    "            tune.testProgram12DAC(ts[:,jj])\n",
    "            time.sleep(0.01)\n",
    "            measurements_x[yn,xn,:,jj] = vc.VNA_read(vna,sParMeas)\n",
    "        \n",
    "        stopscomp += 1\n",
    "        timere = (stops - stopscomp) * (time.time()-t)/3600\n",
    "        if stopscomp%10==0:\n",
    "            print('Est. time remaining: {} hours'.format(timere))\n",
    "        t = time.time()\n"
   ]
  },
  {
   "cell_type": "markdown",
   "metadata": {},
   "source": [
    "#### *Start scan - y-polarization*"
   ]
  },
  {
   "cell_type": "code",
   "execution_count": 10,
   "metadata": {},
   "outputs": [
    {
     "data": {
      "text/plain": [
       "(-65.0, -60.0)"
      ]
     },
     "execution_count": 10,
     "metadata": {},
     "output_type": "execute_result"
    }
   ],
   "source": [
    "sc.move_to_absolute(g,speedmms,defZeroInXsteps,defZeroInYsteps,X_probe[0,0],Y_probe[0,0]) # move to start position"
   ]
  },
  {
   "cell_type": "code",
   "execution_count": 11,
   "metadata": {},
   "outputs": [],
   "source": [
    "t = time.time()\n",
    "stopscomp = 0\n",
    "\n",
    "x_list = []\n",
    "y_list = []\n",
    "for yn in range(Y_probe.shape[0]):\n",
    "    direction = 2*np.mod(yn+1, 2) - 1\n",
    "    if direction > 0:\n",
    "        xindex = np.arange(X_probe.shape[1])\n",
    "    else:\n",
    "        xindex = np.flip(np.arange(X_probe.shape[1]))\n",
    "        \n",
    "    for xn in xindex:\n",
    "        x = X_probe[yn, xn]\n",
    "        y = Y_probe[yn, xn]\n",
    "        sc.move_to_absolute(g,speedmms,defZeroInXsteps,defZeroInYsteps,x,y)\n",
    "        \n",
    "        for jj in range(NumApMasks):\n",
    "            tune.testProgram12DAC(ts[:,jj])\n",
    "            time.sleep(0.01)\n",
    "            measurements_y[yn,xn,:,jj] = vc.VNA_read(vna,sParMeas)\n",
    "        \n",
    "        stopscomp += 1\n",
    "        timere = (stops - stopscomp) * (time.time()-t)/3600\n",
    "        if stopscomp%10==0:\n",
    "            print('Est. time remaining: {} hours'.format(timere))\n",
    "        t = time.time()\n"
   ]
  },
  {
   "cell_type": "markdown",
   "metadata": {},
   "source": [
    "#### *Concatenate measurements*"
   ]
  },
  {
   "cell_type": "code",
   "execution_count": 12,
   "metadata": {},
   "outputs": [],
   "source": [
    "measurements = np.stack((measurements_x, measurements_y), axis=4)"
   ]
  },
  {
   "cell_type": "markdown",
   "metadata": {},
   "source": [
    "### Probe compensation"
   ]
  },
  {
   "cell_type": "code",
   "execution_count": 13,
   "metadata": {},
   "outputs": [
    {
     "name": "stderr",
     "output_type": "stream",
     "text": [
      "C:\\Users/smithlab/Documents/Aaron/Modules\\probe_deconvolve.py:56: RuntimeWarning: invalid value encountered in true_divide\n",
      "  (np.sin(k*b/2 * np.sin(theta))/((k*b/2)*np.sin(theta))) )\n"
     ]
    }
   ],
   "source": [
    "measurements_corrected = np.zeros((Y_probe.shape[0], X_probe.shape[1], NumFreqs, NumApMasks, 2), dtype=np.complex128)\n",
    "\n",
    "for i in range(NumFreqs):\n",
    "\n",
    "    A_mat = pd.make_A_mat(f[i], a_probe*mm, b_probe*mm, x_probe*mm, y_probe*mm, d*mm)\n",
    "\n",
    "    for j in range(NumApMasks):\n",
    "\n",
    "        measurements_corrected[:,:,i,j,:] = np.transpose(pd.probe_deconvolve(np.transpose(measurements[:,:,i,j,:], (1,0,2)), A_mat, x_probe*mm, y_probe*mm), (1,0,2))\n",
    "    "
   ]
  },
  {
   "cell_type": "markdown",
   "metadata": {},
   "source": [
    "### Propagate"
   ]
  },
  {
   "cell_type": "code",
   "execution_count": 25,
   "metadata": {},
   "outputs": [
    {
     "ename": "KeyboardInterrupt",
     "evalue": "",
     "output_type": "error",
     "traceback": [
      "\u001b[1;31m---------------------------------------------------------------------------\u001b[0m",
      "\u001b[1;31mKeyboardInterrupt\u001b[0m                         Traceback (most recent call last)",
      "\u001b[1;32m~\\AppData\\Local\\Temp/ipykernel_8932/2045225830.py\u001b[0m in \u001b[0;36m<module>\u001b[1;34m\u001b[0m\n\u001b[0;32m      8\u001b[0m \u001b[1;33m\u001b[0m\u001b[0m\n\u001b[0;32m      9\u001b[0m         \u001b[1;31m# Theta_far, Phi_far, E_far[:,:,i,j,:] = pf.propagate_from_scans(measurements_corrected[:,:,i,j,:], f, X_probe*mm, Y_probe*mm, N_theta, N_phi)\u001b[0m\u001b[1;33m\u001b[0m\u001b[1;33m\u001b[0m\u001b[1;33m\u001b[0m\u001b[0m\n\u001b[1;32m---> 10\u001b[1;33m         \u001b[0mTheta_far\u001b[0m\u001b[1;33m,\u001b[0m \u001b[0mPhi_far\u001b[0m\u001b[1;33m,\u001b[0m \u001b[0mE_far\u001b[0m\u001b[1;33m[\u001b[0m\u001b[1;33m:\u001b[0m\u001b[1;33m,\u001b[0m\u001b[1;33m:\u001b[0m\u001b[1;33m,\u001b[0m\u001b[0mi\u001b[0m\u001b[1;33m,\u001b[0m\u001b[0mj\u001b[0m\u001b[1;33m,\u001b[0m\u001b[1;33m:\u001b[0m\u001b[1;33m]\u001b[0m \u001b[1;33m=\u001b[0m \u001b[0mpropagate_from_scans\u001b[0m\u001b[1;33m(\u001b[0m\u001b[0mmeasurements_corrected\u001b[0m\u001b[1;33m[\u001b[0m\u001b[1;33m:\u001b[0m\u001b[1;33m,\u001b[0m\u001b[1;33m:\u001b[0m\u001b[1;33m,\u001b[0m\u001b[0mi\u001b[0m\u001b[1;33m,\u001b[0m\u001b[0mj\u001b[0m\u001b[1;33m,\u001b[0m\u001b[1;33m:\u001b[0m\u001b[1;33m]\u001b[0m\u001b[1;33m,\u001b[0m \u001b[0mf\u001b[0m\u001b[1;33m[\u001b[0m\u001b[0mi\u001b[0m\u001b[1;33m]\u001b[0m\u001b[1;33m,\u001b[0m \u001b[0mX_probe\u001b[0m\u001b[1;33m*\u001b[0m\u001b[0mmm\u001b[0m\u001b[1;33m,\u001b[0m \u001b[0mY_probe\u001b[0m\u001b[1;33m*\u001b[0m\u001b[0mmm\u001b[0m\u001b[1;33m,\u001b[0m \u001b[0mN_theta\u001b[0m\u001b[1;33m,\u001b[0m \u001b[0mN_phi\u001b[0m\u001b[1;33m)\u001b[0m\u001b[1;33m\u001b[0m\u001b[1;33m\u001b[0m\u001b[0m\n\u001b[0m\u001b[0;32m     11\u001b[0m \u001b[1;33m\u001b[0m\u001b[0m\n\u001b[0;32m     12\u001b[0m \u001b[0mE_int\u001b[0m \u001b[1;33m=\u001b[0m \u001b[0mnp\u001b[0m\u001b[1;33m.\u001b[0m\u001b[0mabs\u001b[0m\u001b[1;33m(\u001b[0m\u001b[0mnp\u001b[0m\u001b[1;33m.\u001b[0m\u001b[0msum\u001b[0m\u001b[1;33m(\u001b[0m\u001b[0mE_far\u001b[0m \u001b[1;33m*\u001b[0m \u001b[0mnp\u001b[0m\u001b[1;33m.\u001b[0m\u001b[0mconjugate\u001b[0m\u001b[1;33m(\u001b[0m\u001b[0mE_far\u001b[0m\u001b[1;33m)\u001b[0m\u001b[1;33m,\u001b[0m \u001b[1;36m4\u001b[0m\u001b[1;33m)\u001b[0m\u001b[1;33m)\u001b[0m\u001b[1;33m.\u001b[0m\u001b[0mastype\u001b[0m\u001b[1;33m(\u001b[0m\u001b[0mnp\u001b[0m\u001b[1;33m.\u001b[0m\u001b[0mfloat32\u001b[0m\u001b[1;33m)\u001b[0m\u001b[1;33m\u001b[0m\u001b[1;33m\u001b[0m\u001b[0m\n",
      "\u001b[1;32m~\\AppData\\Local\\Temp/ipykernel_8932/323628347.py\u001b[0m in \u001b[0;36mpropagate_from_scans\u001b[1;34m(measurements, f, X, Y, N_theta, N_phi)\u001b[0m\n\u001b[0;32m     68\u001b[0m \u001b[1;33m\u001b[0m\u001b[0m\n\u001b[0;32m     69\u001b[0m     \u001b[0mK_m\u001b[0m \u001b[1;33m=\u001b[0m \u001b[1;33m-\u001b[0m\u001b[0mnp\u001b[0m\u001b[1;33m.\u001b[0m\u001b[0mcross\u001b[0m\u001b[1;33m(\u001b[0m\u001b[0mn_hat\u001b[0m\u001b[1;33m,\u001b[0m \u001b[0mE\u001b[0m\u001b[1;33m,\u001b[0m \u001b[0maxisa\u001b[0m\u001b[1;33m=\u001b[0m\u001b[1;36m1\u001b[0m\u001b[1;33m,\u001b[0m \u001b[0maxisb\u001b[0m\u001b[1;33m=\u001b[0m\u001b[1;36m1\u001b[0m\u001b[1;33m,\u001b[0m \u001b[0maxisc\u001b[0m\u001b[1;33m=\u001b[0m\u001b[1;36m1\u001b[0m\u001b[1;33m)\u001b[0m     \u001b[1;31m# define magnetic current from surface equivalence relationship\u001b[0m\u001b[1;33m\u001b[0m\u001b[1;33m\u001b[0m\u001b[0m\n\u001b[1;32m---> 70\u001b[1;33m     \u001b[0mTheta_far\u001b[0m\u001b[1;33m,\u001b[0m \u001b[0mPhi_far\u001b[0m\u001b[1;33m,\u001b[0m \u001b[0mE\u001b[0m \u001b[1;33m=\u001b[0m \u001b[0mprop_from_magnetic_currents\u001b[0m\u001b[1;33m(\u001b[0m\u001b[0mK_m\u001b[0m\u001b[1;33m,\u001b[0m \u001b[0mr_vec\u001b[0m\u001b[1;33m,\u001b[0m \u001b[1;36m2\u001b[0m\u001b[1;33m*\u001b[0m\u001b[0mnp\u001b[0m\u001b[1;33m.\u001b[0m\u001b[0mpi\u001b[0m\u001b[1;33m*\u001b[0m\u001b[0mf\u001b[0m\u001b[1;33m/\u001b[0m\u001b[0mC\u001b[0m\u001b[1;33m,\u001b[0m \u001b[0mN_theta\u001b[0m\u001b[1;33m,\u001b[0m \u001b[0mN_phi\u001b[0m\u001b[1;33m)\u001b[0m   \u001b[1;31m# propagate magnetic surface currents to far field\u001b[0m\u001b[1;33m\u001b[0m\u001b[1;33m\u001b[0m\u001b[0m\n\u001b[0m\u001b[0;32m     71\u001b[0m \u001b[1;33m\u001b[0m\u001b[0m\n\u001b[0;32m     72\u001b[0m     \u001b[1;32mreturn\u001b[0m \u001b[0mTheta_far\u001b[0m\u001b[1;33m,\u001b[0m \u001b[0mPhi_far\u001b[0m\u001b[1;33m,\u001b[0m \u001b[0mE\u001b[0m\u001b[1;33m\u001b[0m\u001b[1;33m\u001b[0m\u001b[0m\n",
      "\u001b[1;32m~\\AppData\\Local\\Temp/ipykernel_8932/323628347.py\u001b[0m in \u001b[0;36mprop_from_magnetic_currents\u001b[1;34m(K_m, r_vec, k, N_theta, N_phi)\u001b[0m\n\u001b[0;32m     41\u001b[0m                            \u001b[0mK_m_array\u001b[0m\u001b[1;33m[\u001b[0m\u001b[1;33m:\u001b[0m\u001b[1;33m,\u001b[0m\u001b[1;33m:\u001b[0m\u001b[1;33m,\u001b[0m\u001b[1;36m1\u001b[0m\u001b[1;33m]\u001b[0m\u001b[1;33m*\u001b[0m\u001b[0mnp\u001b[0m\u001b[1;33m.\u001b[0m\u001b[0mcos\u001b[0m\u001b[1;33m(\u001b[0m\u001b[0mtheta_list\u001b[0m\u001b[1;33m[\u001b[0m\u001b[0mi\u001b[0m\u001b[1;33m]\u001b[0m\u001b[1;33m)\u001b[0m\u001b[1;33m*\u001b[0m\u001b[0mnp\u001b[0m\u001b[1;33m.\u001b[0m\u001b[0msin\u001b[0m\u001b[1;33m(\u001b[0m\u001b[0mphi_list\u001b[0m\u001b[1;33m[\u001b[0m\u001b[0mi\u001b[0m\u001b[1;33m]\u001b[0m\u001b[1;33m)\u001b[0m \u001b[1;33m-\u001b[0m\u001b[1;33m\u001b[0m\u001b[1;33m\u001b[0m\u001b[0m\n\u001b[0;32m     42\u001b[0m                            K_m_array[:,:,2]*np.sin(theta_list[i])) *\n\u001b[1;32m---> 43\u001b[1;33m                            np.reshape(np.exp(1j*np.sum(k_far_vec[i] * r_vec, 1)), (x.size, y.size)))\n\u001b[0m\u001b[0;32m     44\u001b[0m         integrand_phi = ((-K_m_array[:,:,0]*np.sin(phi_list[i]) + \n\u001b[0;32m     45\u001b[0m                            K_m_array[:,:,1]*np.cos(phi_list[i])) *\n",
      "\u001b[1;31mKeyboardInterrupt\u001b[0m: "
     ]
    }
   ],
   "source": [
    "N_theta = 180\n",
    "N_phi = 180\n",
    "\n",
    "E_far = np.zeros((N_theta, N_phi, NumFreqs, NumApMasks, 3), dtype=np.complex128)\n",
    "\n",
    "for i in range(NumFreqs):\n",
    "    for j in range(NumApMasks):\n",
    "\n",
    "        Theta_far, Phi_far, E_far[:,:,i,j,:] = pf.propagate_from_scans(measurements_corrected[:,:,i,j,:], f[i], X_probe*mm, Y_probe*mm, N_theta, N_phi)\n",
    "\n",
    "E_int = np.abs(np.sum(E_far * np.conjugate(E_far), 4)).astype(np.float32)"
   ]
  },
  {
   "cell_type": "markdown",
   "metadata": {},
   "source": [
    "### Plot"
   ]
  },
  {
   "cell_type": "code",
   "execution_count": null,
   "metadata": {},
   "outputs": [],
   "source": [
    "f_indx = np.argmin(np.abs(f - 10E9))\n",
    "m_indx = 0\n",
    "\n",
    "fig, ax1 = plt.subplots(1, 1, figsize=(5,5))\n",
    "ax1.imshow(measurements[:,:,0,0,0], extent=(np.min(x_probe), np.max(x_probe), np.min(y_probe), np.max(y_probe)))\n",
    "ax1.set_xlabel('x (mm)')\n",
    "ax1.set_ylabel('y (mm)')\n",
    "plt.show()\n",
    "\n",
    "fig, ax2 = plt.subplots(subplot_kw=dict(projection='polar'), figsize=(5,5))\n",
    "cs = ax2.contourf(Phi_far, Theta_far, 10*np.log10(E_int[:,:,f_indx,m_indx]/np.amax(E_int[:,:,f_indx,m_indx])), \n",
    "            np.linspace(-15, 0, 50), \n",
    "            cmap=plt.cm.hot_r)\n",
    "ax2.grid(True)\n",
    "ax2.set_rlabel_position(135)\n",
    "fig.colorbar(cs, ticks=np.linspace(-15, 0, 7))\n",
    "plt.xlabel('$\\phi$')\n",
    "plt.show()\n"
   ]
  },
  {
   "cell_type": "markdown",
   "metadata": {},
   "source": [
    "### Save data"
   ]
  },
  {
   "cell_type": "code",
   "execution_count": null,
   "metadata": {},
   "outputs": [],
   "source": [
    "scipy.io.savemat('{}{}_{}.mat'.format(savepath, savename, datetime.datetime.now().strftime('%Y-%m-%d')),\n",
    "                                      {'X': X_probe,\n",
    "                                       'Y': Y_probe,\n",
    "                                       'f': f,\n",
    "                                       'ts': ts,\n",
    "                                       'measurements': measurements,\n",
    "                                       'measurements_corrected': measurements_corrected,\n",
    "                                       'Theta_far': Theta_far,\n",
    "                                       'Phi_far': Phi_far,\n",
    "                                       'E_far': E_far})"
   ]
  },
  {
   "cell_type": "markdown",
   "metadata": {
    "tags": []
   },
   "source": [
    "## **Standard gain antenna (SGA)**"
   ]
  },
  {
   "cell_type": "code",
   "execution_count": null,
   "metadata": {},
   "outputs": [],
   "source": [
    "savename = 'SGA_X_Band_Horn'\n",
    "savepath = 'Path/to/data/folder'"
   ]
  },
  {
   "cell_type": "markdown",
   "metadata": {},
   "source": [
    "### Scan"
   ]
  },
  {
   "cell_type": "markdown",
   "metadata": {},
   "source": [
    "#### *Set scan lengths*"
   ]
  },
  {
   "cell_type": "code",
   "execution_count": null,
   "metadata": {},
   "outputs": [],
   "source": [
    "Lx_ap = 30\n",
    "Ly_ap = 40\n",
    "theta = 60\n",
    "d = 85\n",
    "\n",
    "Lx_scan = Lx_ap + 2*d*np.tan(np.radians(theta))\n",
    "Ly_scan = Ly_ap + 2*d*np.tan(np.radians(theta))\n",
    "\n",
    "xmin = -Lx_scan/2\n",
    "xmax = Lx_scan/2\n",
    "ymin = -Ly_scan/2\n",
    "ymax = Ly_scan/2\n",
    "\n",
    "x_probe = np.arange(xmin, xmax, dstep)\n",
    "y_probe = np.arange(ymin, ymax, dstep)\n",
    "X_probe, Y_probe = np.meshgrid(x_probe, y_probe, indexing='xy')\n",
    "measurements_x = np.zeros((Y_probe.shape[0], X_probe.shape[1], NumFreqs), dtype=np.complex128) # measurements with E field of probe oriented in x direction\n",
    "measurements_y = np.zeros((Y_probe.shape[0], X_probe.shape[1], NumFreqs), dtype=np.complex128) # measurements with E field of probe oriented in y direction\n",
    "stops = Y_probe.shape[0] * X_probe.shape[1]"
   ]
  },
  {
   "cell_type": "markdown",
   "metadata": {},
   "source": [
    "#### *Move to new origin*"
   ]
  },
  {
   "cell_type": "code",
   "execution_count": null,
   "metadata": {},
   "outputs": [],
   "source": [
    "center_x = -xrange/2\n",
    "center_y = -yrange/2\n",
    "pos_x = 40  # adjust to change x zero position\n",
    "pos_y = -28  # adjust to change y zero position\n",
    "\n",
    "sc.move_to_absolute(g,speedmms,0,0,center_x+pos_x,center_y+pos_y)"
   ]
  },
  {
   "cell_type": "markdown",
   "metadata": {},
   "source": [
    "#### *Set origin*"
   ]
  },
  {
   "cell_type": "code",
   "execution_count": null,
   "metadata": {},
   "outputs": [],
   "source": [
    "defZeroInXsteps, defZeroInYsteps = sc.zero_axes(g)"
   ]
  },
  {
   "cell_type": "markdown",
   "metadata": {},
   "source": [
    "#### *Start scan - x-polarization*"
   ]
  },
  {
   "cell_type": "code",
   "execution_count": null,
   "metadata": {},
   "outputs": [],
   "source": [
    "sc.move_to_absolute(g,speedmms,defZeroInXsteps,defZeroInYsteps,X_probe[0,0],Y_probe[0,0]) # move to start position"
   ]
  },
  {
   "cell_type": "code",
   "execution_count": null,
   "metadata": {},
   "outputs": [],
   "source": [
    "t = time.time()\n",
    "stopscomp = 0\n",
    "\n",
    "x_list = []\n",
    "y_list = []\n",
    "for yn in range(Y_probe.shape[0]):\n",
    "    direction = 2*np.mod(yn+1, 2) - 1\n",
    "    if direction > 0:\n",
    "        xindex = np.arange(X_probe.shape[1])\n",
    "    else:\n",
    "        xindex = np.flip(np.arange(X_probe.shape[1]))\n",
    "        \n",
    "    for xn in xindex:\n",
    "        x = X_probe[yn, xn]\n",
    "        y = Y_probe[yn, xn]\n",
    "        sc.move_to_absolute(g,speedmms,defZeroInXsteps,defZeroInYsteps,x,y)\n",
    "\n",
    "        measurements_x[yn,xn,:] = vc.VNA_read(vna,sParMeas)\n",
    "        \n",
    "        stopscomp += 1\n",
    "        timere = (stops - stopscomp) * (time.time()-t)/3600\n",
    "        if stopscomp%10==0:\n",
    "            print('Est. time remaining: {} hours'.format(timere))\n",
    "        t = time.time()\n"
   ]
  },
  {
   "cell_type": "markdown",
   "metadata": {},
   "source": [
    "#### *Start scan - y-polarization*"
   ]
  },
  {
   "cell_type": "code",
   "execution_count": null,
   "metadata": {},
   "outputs": [],
   "source": [
    "sc.move_to_absolute(g,speedmms,defZeroInXsteps,defZeroInYsteps,X_probe[0,0],Y_probe[0,0]) # move to start position"
   ]
  },
  {
   "cell_type": "code",
   "execution_count": null,
   "metadata": {},
   "outputs": [],
   "source": [
    "t = time.time()\n",
    "stopscomp = 0\n",
    "\n",
    "x_list = []\n",
    "y_list = []\n",
    "for yn in range(Y_probe.shape[0]):\n",
    "    direction = 2*np.mod(yn+1, 2) - 1\n",
    "    if direction > 0:\n",
    "        xindex = np.arange(X_probe.shape[1])\n",
    "    else:\n",
    "        xindex = np.flip(np.arange(X_probe.shape[1]))\n",
    "        \n",
    "    for xn in xindex:\n",
    "        x = X_probe[yn, xn]\n",
    "        y = Y_probe[yn, xn]\n",
    "        sc.move_to_absolute(g,speedmms,defZeroInXsteps,defZeroInYsteps,x,y)\n",
    "        \n",
    "        measurements_y[yn,xn,:] = vc.VNA_read(vna,sParMeas)\n",
    "        \n",
    "        stopscomp += 1\n",
    "        timere = (stops - stopscomp) * (time.time()-t)/3600\n",
    "        if stopscomp%10==0:\n",
    "            print('Est. time remaining: {} hours'.format(timere))\n",
    "        t = time.time()\n"
   ]
  },
  {
   "cell_type": "markdown",
   "metadata": {},
   "source": [
    "#### *Concatenate measurements*"
   ]
  },
  {
   "cell_type": "code",
   "execution_count": null,
   "metadata": {},
   "outputs": [],
   "source": [
    "measurements = np.stack((measurements_x, measurements_y), axis=4)"
   ]
  },
  {
   "cell_type": "markdown",
   "metadata": {},
   "source": [
    "### Probe compensation"
   ]
  },
  {
   "cell_type": "code",
   "execution_count": null,
   "metadata": {},
   "outputs": [],
   "source": [
    "measurements_corrected = np.zeros((Y_probe.shape[0], X_probe.shape[1], NumFreqs, 2), dtype=np.complex128)\n",
    "\n",
    "for i in range(NumFreqs):\n",
    "\n",
    "    A_mat = pd.make_A_mat(f[i], a_probe*mm, b_probe*mm, x_probe*mm, y_probe*mm, d*mm)\n",
    "\n",
    "    measurements_corrected[:,:,i,:] = np.transpose(pd.probe_deconvolve(np.transpose(measurements[:,:,i,:], (1,0,2)), A_mat, x_probe*mm, y_probe*mm), (1,0,2))\n",
    "    "
   ]
  },
  {
   "cell_type": "markdown",
   "metadata": {},
   "source": [
    "### Propagate"
   ]
  },
  {
   "cell_type": "code",
   "execution_count": null,
   "metadata": {},
   "outputs": [],
   "source": [
    "N_theta = 180\n",
    "N_phi = 180\n",
    "\n",
    "E_far = np.zeros((N_theta, N_phi, NumFreqs, 3), dtype=np.complex128)\n",
    "\n",
    "for i in range(NumFreqs):\n",
    "\n",
    "    Theta_far, Phi_far, E_far[:,:,i,:] = pf.propagate_from_scans(measurements_corrected[:,:,i,:], f[i], X_probe*mm, Y_probe*mm, N_theta, N_phi)\n",
    "\n",
    "E_int = np.abs(np.sum(E_far * np.conjugate(E_far), 3)).astype(np.float32)"
   ]
  },
  {
   "cell_type": "markdown",
   "metadata": {},
   "source": [
    "### Plot"
   ]
  },
  {
   "cell_type": "code",
   "execution_count": null,
   "metadata": {},
   "outputs": [],
   "source": [
    "f_indx = np.argmin(np.abs(f - 10E9))\n",
    "\n",
    "fig, ax1 = plt.subplots(1, 1, figsize=(5,5))\n",
    "ax1.imshow(measurements[:,:,0,0], extent=(np.min(x_probe), np.max(x_probe), np.min(y_probe), np.max(y_probe)))\n",
    "ax1.set_xlabel('x (mm)')\n",
    "ax1.set_ylabel('y (mm)')\n",
    "plt.show()\n",
    "\n",
    "fig, ax2 = plt.subplots(subplot_kw=dict(projection='polar'), figsize=(5,5))\n",
    "cs = ax2.contourf(Phi_far, Theta_far, 10*np.log10(E_int[:,:,f_indx]/np.amax(E_int[:,:,f_indx])), \n",
    "            np.linspace(-15, 0, 50), \n",
    "            cmap=plt.cm.hot_r)\n",
    "ax2.grid(True)\n",
    "ax2.set_rlabel_position(135)\n",
    "fig.colorbar(cs, ticks=np.linspace(-15, 0, 7))\n",
    "plt.xlabel('$\\phi$')\n",
    "plt.show()\n"
   ]
  },
  {
   "cell_type": "markdown",
   "metadata": {},
   "source": [
    "### Save data"
   ]
  },
  {
   "cell_type": "code",
   "execution_count": null,
   "metadata": {},
   "outputs": [],
   "source": [
    "scipy.io.savemat('{}{}_{}.mat'.format(savepath, savename, datetime.datetime.now().strftime('%Y-%m-%d')),\n",
    "                                      {'X': X_probe,\n",
    "                                       'Y': Y_probe,\n",
    "                                       'f': f,\n",
    "                                       'measurements': measurements,\n",
    "                                       'measurements_corrected': measurements_corrected,\n",
    "                                       'Theta_far': Theta_far,\n",
    "                                       'Phi_far': Phi_far,\n",
    "                                       'E_far': E_far})"
   ]
  },
  {
   "cell_type": "markdown",
   "metadata": {
    "tags": []
   },
   "source": [
    "## **Calculate beam metrics**"
   ]
  },
  {
   "cell_type": "markdown",
   "metadata": {},
   "source": [
    "### Load data if not already available"
   ]
  },
  {
   "cell_type": "code",
   "execution_count": null,
   "metadata": {},
   "outputs": [],
   "source": [
    "AUT = scipy.io.loadmat('Path/to/test/antenna/file')\n",
    "SGA = scipy.io.loadmat('Path/to/standard/antenna/file')"
   ]
  },
  {
   "cell_type": "markdown",
   "metadata": {},
   "source": [
    "### Calculate gain, directivity, beamwidth, and efficiency"
   ]
  },
  {
   "cell_type": "code",
   "execution_count": null,
   "metadata": {},
   "outputs": [],
   "source": []
  }
 ],
 "metadata": {
  "interpreter": {
   "hash": "8fac594bfae6525c0c41b4041d2d72effa188cc8ead05f81b1fab2bb098927fb"
  },
  "kernelspec": {
   "display_name": "Python 3 (ipykernel)",
   "language": "python",
   "name": "python3"
  },
  "language_info": {
   "codemirror_mode": {
    "name": "ipython",
    "version": 3
   },
   "file_extension": ".py",
   "mimetype": "text/x-python",
   "name": "python",
   "nbconvert_exporter": "python",
   "pygments_lexer": "ipython3",
   "version": "3.8.12"
  }
 },
 "nbformat": 4,
 "nbformat_minor": 4
}
