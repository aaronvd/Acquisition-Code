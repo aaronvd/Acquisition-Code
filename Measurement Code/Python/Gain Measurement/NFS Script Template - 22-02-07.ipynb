{
 "cells": [
  {
   "cell_type": "markdown",
   "metadata": {},
   "source": [
    "# **Near Field Scan Measurement and Analysis Script**"
   ]
  },
  {
   "cell_type": "markdown",
   "metadata": {},
   "source": [
    "For 3rd floor system with 1 meter Newmark stage. Compares single- or dual-polarization near field scan of test antenna to that of standard gain horn antenna to obtain directivity, gain, and efficiency estimates."
   ]
  },
  {
   "cell_type": "markdown",
   "metadata": {},
   "source": [
    "### Import modules"
   ]
  },
  {
   "cell_type": "code",
   "execution_count": null,
   "metadata": {},
   "outputs": [],
   "source": [
    "import sys\n",
    "# sys.path.append('Path/to/modules')\n",
    "import numpy as np\n",
    "from matplotlib import pyplot as plt\n",
    "import VNA_control as vc\n",
    "import stage_control as sc\n",
    "import probe_deconvolve as pd\n",
    "import propagation_functions as pf\n",
    "import scipy.constants\n",
    "import scipy.io\n",
    "import time\n",
    "import datetime\n",
    "import mainPyDAC2_module as tune\n",
    "\n",
    "C     = scipy.constants.c\n",
    "EPS_0 = scipy.constants.epsilon_0 #C^2/(N*m^2)\n",
    "MU_0  = scipy.constants.mu_0    #m kg s^-2 A^-2\n",
    "mm = 0.001\n",
    "cm    = 0.01\n",
    "GHz   = 1.0E9"
   ]
  },
  {
   "cell_type": "markdown",
   "metadata": {},
   "source": [
    "### General scan parameters"
   ]
  },
  {
   "cell_type": "code",
   "execution_count": null,
   "metadata": {},
   "outputs": [],
   "source": [
    "a_probe = 22.86\n",
    "b_probe = 10.16\n",
    "\n",
    "xrange = 1000 # x length of stage, mm\n",
    "yrange = 1000 # y length of stage, mm\n",
    "\n",
    "fstart = 8E9\n",
    "fstop = 12E9\n",
    "NumFreqs = 51\n",
    "NumApMasks = 10\n",
    "f = np.linspace(fstart, fstop, NumFreqs)\n",
    "lam_max = C/fstop\n",
    "dstep = lam_max/2 * 1000 # mm\n",
    "\n",
    "IFBW = 1000\n",
    "calfile = 'Aaron_21-11-05'\n",
    "power = 0 # dBm\n",
    "sParMeas = 'S12'\n",
    "speedmms = 25\n",
    "\n",
    "print('IFBW = {} \\nCalibration File = {} \\nPower = {} dBm \\nMeasuring {}'.format(IFBW, calfile, power, sParMeas))"
   ]
  },
  {
   "cell_type": "markdown",
   "metadata": {},
   "source": [
    "### Initialize instruments"
   ]
  },
  {
   "cell_type": "code",
   "execution_count": null,
   "metadata": {},
   "outputs": [],
   "source": [
    "## Stage\n",
    "g = sc.stage_start('169.254.225.173')\n",
    "sc.stage_home(g,speedmms)\n",
    "\n",
    "## Arduino\n",
    "numDACs = 12\n",
    "serial1 = tune.initializeArduino(numDACs, \"COM7\")\n",
    "\n",
    "## VNA\n",
    "vna = vc.instrument_open('TCPIP0::169.254.187.153::5025::SOCKET')\n",
    "vc.VNA_initiate(vna, NumFreqs, fstart*1E-9, fstop*1E-9, IFBW, power, 'S12', calfile=calfile)"
   ]
  },
  {
   "cell_type": "markdown",
   "metadata": {},
   "source": [
    "## **Test antenna**"
   ]
  },
  {
   "cell_type": "code",
   "execution_count": null,
   "metadata": {},
   "outputs": [],
   "source": [
    "mat = scipy.io.loadmat('C:/Users/smithlab/Documents/NFS_codes/Mike_Antenna_Tuning/wrc_tuning_states.mat')\n",
    "ts = mat['ts'].reshape((96, 50))\n",
    "\n",
    "savename = 'Mike_Antenna'\n",
    "savepath = 'Path/to/data/folder'"
   ]
  },
  {
   "cell_type": "markdown",
   "metadata": {},
   "source": [
    "### Scan"
   ]
  },
  {
   "cell_type": "markdown",
   "metadata": {},
   "source": [
    "#### *Set scan lengths*"
   ]
  },
  {
   "cell_type": "code",
   "execution_count": null,
   "metadata": {},
   "outputs": [],
   "source": [
    "Lx_ap = 130\n",
    "Ly_ap = 120\n",
    "theta = 60\n",
    "d = 85\n",
    "\n",
    "Lx_scan = Lx_ap + 2*d*np.tan(np.radians(theta))\n",
    "Ly_scan = Ly_ap + 2*d*np.tan(np.radians(theta))\n",
    "\n",
    "xmin = -Lx_scan/2\n",
    "xmax = Lx_scan/2\n",
    "ymin = -Ly_scan/2\n",
    "ymax = Ly_scan/2\n",
    "\n",
    "x_probe = np.arange(xmin, xmax, dstep)\n",
    "y_probe = np.arange(ymin, ymax, dstep)\n",
    "X_probe, Y_probe = np.meshgrid(x_probe, y_probe, indexing='xy')\n",
    "measurements_x = np.zeros((Y_probe.shape[0], X_probe.shape[1], NumFreqs, NumApMasks), dtype=np.complex128) # measurements with E field of probe oriented in x direction\n",
    "measurements_y = np.zeros((Y_probe.shape[0], X_probe.shape[1], NumFreqs, NumApMasks), dtype=np.complex128) # measurements with E field of probe oriented in y direction\n",
    "stops = Y_probe.shape[0] * X_probe.shape[1]"
   ]
  },
  {
   "cell_type": "markdown",
   "metadata": {},
   "source": [
    "#### *Move to new origin*"
   ]
  },
  {
   "cell_type": "code",
   "execution_count": null,
   "metadata": {},
   "outputs": [],
   "source": [
    "center_x = -xrange/2\n",
    "center_y = -yrange/2\n",
    "pos_x = 40  # adjust to change x zero position\n",
    "pos_y = -28  # adjust to change y zero position\n",
    "\n",
    "sc.move_to_absolute(g,speedmms,0,0,center_x+pos_x,center_y+pos_y)"
   ]
  },
  {
   "cell_type": "markdown",
   "metadata": {},
   "source": [
    "#### *Set origin*"
   ]
  },
  {
   "cell_type": "code",
   "execution_count": null,
   "metadata": {},
   "outputs": [],
   "source": [
    "defZeroInXsteps, defZeroInYsteps = sc.zero_axes(g)"
   ]
  },
  {
   "cell_type": "markdown",
   "metadata": {},
   "source": [
    "#### *Start scan - x-polarization*"
   ]
  },
  {
   "cell_type": "code",
   "execution_count": null,
   "metadata": {},
   "outputs": [],
   "source": [
    "sc.move_to_absolute(g,speedmms,defZeroInXsteps,defZeroInYsteps,X_probe[0,0],Y_probe[0,0]) # move to start position"
   ]
  },
  {
   "cell_type": "code",
   "execution_count": null,
   "metadata": {},
   "outputs": [],
   "source": [
    "t = time.time()\n",
    "stopscomp = 0\n",
    "\n",
    "x_list = []\n",
    "y_list = []\n",
    "for yn in range(Y_probe.shape[0]):\n",
    "    direction = 2*np.mod(yn+1, 2) - 1\n",
    "    if direction > 0:\n",
    "        xindex = np.arange(X_probe.shape[1])\n",
    "    else:\n",
    "        xindex = np.flip(np.arange(X_probe.shape[1]))\n",
    "        \n",
    "    for xn in xindex:\n",
    "        x = X_probe[yn, xn]\n",
    "        y = Y_probe[yn, xn]\n",
    "        sc.move_to_absolute(g,speedmms,defZeroInXsteps,defZeroInYsteps,x,y)\n",
    "        \n",
    "        for jj in range(NumApMasks):\n",
    "            tune.testProgram12DAC(serial1, ts[:,jj])\n",
    "            time.sleep(0.01)\n",
    "            measurements_x[yn,xn,:,jj] = vc.VNA_read(vna,sParMeas)\n",
    "        \n",
    "        stopscomp += 1\n",
    "        timere = (stops - stopscomp) * (time.time()-t)/3600\n",
    "        if stopscomp%10==0:\n",
    "            print('Est. time remaining: {} hours'.format(timere))\n",
    "        t = time.time()\n"
   ]
  },
  {
   "cell_type": "markdown",
   "metadata": {},
   "source": [
    "#### *Start scan - y-polarization*"
   ]
  },
  {
   "cell_type": "code",
   "execution_count": null,
   "metadata": {},
   "outputs": [],
   "source": [
    "sc.move_to_absolute(g,speedmms,defZeroInXsteps,defZeroInYsteps,X_probe[0,0],Y_probe[0,0]) # move to start position"
   ]
  },
  {
   "cell_type": "code",
   "execution_count": null,
   "metadata": {},
   "outputs": [],
   "source": [
    "t = time.time()\n",
    "stopscomp = 0\n",
    "\n",
    "x_list = []\n",
    "y_list = []\n",
    "for yn in range(Y_probe.shape[0]):\n",
    "    direction = 2*np.mod(yn+1, 2) - 1\n",
    "    if direction > 0:\n",
    "        xindex = np.arange(X_probe.shape[1])\n",
    "    else:\n",
    "        xindex = np.flip(np.arange(X_probe.shape[1]))\n",
    "        \n",
    "    for xn in xindex:\n",
    "        x = X_probe[yn, xn]\n",
    "        y = Y_probe[yn, xn]\n",
    "        sc.move_to_absolute(g,speedmms,defZeroInXsteps,defZeroInYsteps,x,y)\n",
    "        \n",
    "        for jj in range(NumApMasks):\n",
    "            tune.testProgram12DAC(serial1, ts[:,jj])\n",
    "            time.sleep(0.01)\n",
    "            measurements_y[yn,xn,:,jj] = vc.VNA_read(vna,sParMeas)\n",
    "        \n",
    "        stopscomp += 1\n",
    "        timere = (stops - stopscomp) * (time.time()-t)/3600\n",
    "        if stopscomp%10==0:\n",
    "            print('Est. time remaining: {} hours'.format(timere))\n",
    "        t = time.time()\n"
   ]
  },
  {
   "cell_type": "markdown",
   "metadata": {},
   "source": [
    "#### *Concatenate measurements*"
   ]
  },
  {
   "cell_type": "code",
   "execution_count": null,
   "metadata": {},
   "outputs": [],
   "source": [
    "measurements = np.stack((measurements_x, measurements_y), axis=4)"
   ]
  },
  {
   "cell_type": "markdown",
   "metadata": {},
   "source": [
    "### Probe compensation"
   ]
  },
  {
   "cell_type": "code",
   "execution_count": null,
   "metadata": {},
   "outputs": [],
   "source": [
    "measurements_corrected = np.zeros((Y_probe.shape[0], X_probe.shape[1], NumFreqs, NumApMasks, 2), dtype=np.complex128)\n",
    "\n",
    "for i in range(NumFreqs):\n",
    "\n",
    "    A_mat = pd.make_A_mat(f[i], a_probe*mm, b_probe*mm, x_probe*mm, y_probe*mm, d*mm)\n",
    "\n",
    "    for j in range(NumApMasks):\n",
    "\n",
    "        measurements_corrected[:,:,i,j,:] = np.transpose(pd.probe_deconvolve(np.transpose(measurements[:,:,i,j,:], (1,0,2)), A_mat, x_probe*mm, y_probe*mm), (1,0,2))\n",
    "    "
   ]
  },
  {
   "cell_type": "markdown",
   "metadata": {},
   "source": [
    "### Propagate"
   ]
  },
  {
   "cell_type": "code",
   "execution_count": null,
   "metadata": {},
   "outputs": [],
   "source": [
    "N_theta = 180\n",
    "N_phi = 180\n",
    "\n",
    "E_far = np.zeros((N_theta, N_phi, NumFreqs, NumApMasks, 3), dtype=np.complex128)\n",
    "\n",
    "for i in range(NumFreqs):\n",
    "    for j in range(NumApMasks):\n",
    "\n",
    "        Theta_far, Phi_far, E_far[:,:,i,j,:] = pf.propagate_from_scans(measurements_corrected[:,:,i,j,:], f, X_probe*mm, Y_probe*mm, N_theta, N_phi)\n",
    "\n",
    "E_int = np.abs(np.sum(E_far * np.conjugate(E_far), 4)).astype(np.float32)"
   ]
  },
  {
   "cell_type": "markdown",
   "metadata": {},
   "source": [
    "### Plot"
   ]
  },
  {
   "cell_type": "code",
   "execution_count": null,
   "metadata": {},
   "outputs": [],
   "source": [
    "f_indx = np.argmin(np.abs(f - 10E9))\n",
    "m_indx = 0\n",
    "\n",
    "fig, ax1 = plt.subplots(1, 1, figsize=(5,5))\n",
    "ax1.imshow(measurements[:,:,0,0,0], extent=(np.min(x_probe), np.max(x_probe), np.min(y_probe), np.max(y_probe)))\n",
    "ax1.set_xlabel('x (mm)')\n",
    "ax1.set_ylabel('y (mm)')\n",
    "plt.show()\n",
    "\n",
    "fig, ax2 = plt.subplots(subplot_kw=dict(projection='polar'), figsize=(5,5))\n",
    "cs = ax2.contourf(Phi_far, Theta_far, 10*np.log10(E_int[:,:,f_indx,m_indx]/np.amax(E_int[:,:,f_indx,m_indx])), \n",
    "            np.linspace(-15, 0, 50), \n",
    "            cmap=plt.cm.hot_r)\n",
    "ax2.grid(True)\n",
    "ax2.set_rlabel_position(135)\n",
    "fig.colorbar(cs, ticks=np.linspace(-15, 0, 7))\n",
    "plt.xlabel('$\\phi$')\n",
    "plt.show()\n"
   ]
  },
  {
   "cell_type": "markdown",
   "metadata": {},
   "source": [
    "### Save data"
   ]
  },
  {
   "cell_type": "code",
   "execution_count": null,
   "metadata": {},
   "outputs": [],
   "source": [
    "scipy.io.savemat('{}{}_{}.mat'.format(savepath, savename, datetime.datetime.now().strftime('%Y-%m-%d')),\n",
    "                                      {'X': X_probe,\n",
    "                                       'Y': Y_probe,\n",
    "                                       'f': f,\n",
    "                                       'ts': ts,\n",
    "                                       'measurements': measurements,\n",
    "                                       'measurements_corrected': measurements_corrected,\n",
    "                                       'Theta_far': Theta_far,\n",
    "                                       'Phi_far': Phi_far,\n",
    "                                       'E_far': E_far})"
   ]
  },
  {
   "cell_type": "markdown",
   "metadata": {},
   "source": [
    "## **Standard gain antenna (SGA)**"
   ]
  },
  {
   "cell_type": "code",
   "execution_count": null,
   "metadata": {},
   "outputs": [],
   "source": [
    "savename = 'SGA_X_Band_Horn'\n",
    "savepath = 'Path/to/data/folder'"
   ]
  },
  {
   "cell_type": "markdown",
   "metadata": {},
   "source": [
    "### Scan"
   ]
  },
  {
   "cell_type": "markdown",
   "metadata": {},
   "source": [
    "#### *Set scan lengths*"
   ]
  },
  {
   "cell_type": "code",
   "execution_count": null,
   "metadata": {},
   "outputs": [],
   "source": [
    "Lx_ap = 30\n",
    "Ly_ap = 40\n",
    "theta = 60\n",
    "d = 85\n",
    "\n",
    "Lx_scan = Lx_ap + 2*d*np.tan(np.radians(theta))\n",
    "Ly_scan = Ly_ap + 2*d*np.tan(np.radians(theta))\n",
    "\n",
    "xmin = -Lx_scan/2\n",
    "xmax = Lx_scan/2\n",
    "ymin = -Ly_scan/2\n",
    "ymax = Ly_scan/2\n",
    "\n",
    "x_probe = np.arange(xmin, xmax, dstep)\n",
    "y_probe = np.arange(ymin, ymax, dstep)\n",
    "X_probe, Y_probe = np.meshgrid(x_probe, y_probe, indexing='xy')\n",
    "measurements_x = np.zeros((Y_probe.shape[0], X_probe.shape[1], NumFreqs), dtype=np.complex128) # measurements with E field of probe oriented in x direction\n",
    "measurements_y = np.zeros((Y_probe.shape[0], X_probe.shape[1], NumFreqs), dtype=np.complex128) # measurements with E field of probe oriented in y direction\n",
    "stops = Y_probe.shape[0] * X_probe.shape[1]"
   ]
  },
  {
   "cell_type": "markdown",
   "metadata": {},
   "source": [
    "#### *Move to new origin*"
   ]
  },
  {
   "cell_type": "code",
   "execution_count": null,
   "metadata": {},
   "outputs": [],
   "source": [
    "center_x = -xrange/2\n",
    "center_y = -yrange/2\n",
    "pos_x = 40  # adjust to change x zero position\n",
    "pos_y = -28  # adjust to change y zero position\n",
    "\n",
    "sc.move_to_absolute(g,speedmms,0,0,center_x+pos_x,center_y+pos_y)"
   ]
  },
  {
   "cell_type": "markdown",
   "metadata": {},
   "source": [
    "#### *Set origin*"
   ]
  },
  {
   "cell_type": "code",
   "execution_count": null,
   "metadata": {},
   "outputs": [],
   "source": [
    "defZeroInXsteps, defZeroInYsteps = sc.zero_axes(g)"
   ]
  },
  {
   "cell_type": "markdown",
   "metadata": {},
   "source": [
    "#### *Start scan - x-polarization*"
   ]
  },
  {
   "cell_type": "code",
   "execution_count": null,
   "metadata": {},
   "outputs": [],
   "source": [
    "sc.move_to_absolute(g,speedmms,defZeroInXsteps,defZeroInYsteps,X_probe[0,0],Y_probe[0,0]) # move to start position"
   ]
  },
  {
   "cell_type": "code",
   "execution_count": null,
   "metadata": {},
   "outputs": [],
   "source": [
    "t = time.time()\n",
    "stopscomp = 0\n",
    "\n",
    "x_list = []\n",
    "y_list = []\n",
    "for yn in range(Y_probe.shape[0]):\n",
    "    direction = 2*np.mod(yn+1, 2) - 1\n",
    "    if direction > 0:\n",
    "        xindex = np.arange(X_probe.shape[1])\n",
    "    else:\n",
    "        xindex = np.flip(np.arange(X_probe.shape[1]))\n",
    "        \n",
    "    for xn in xindex:\n",
    "        x = X_probe[yn, xn]\n",
    "        y = Y_probe[yn, xn]\n",
    "        sc.move_to_absolute(g,speedmms,defZeroInXsteps,defZeroInYsteps,x,y)\n",
    "\n",
    "        measurements_x[yn,xn,:] = vc.VNA_read(vna,sParMeas)\n",
    "        \n",
    "        stopscomp += 1\n",
    "        timere = (stops - stopscomp) * (time.time()-t)/3600\n",
    "        if stopscomp%10==0:\n",
    "            print('Est. time remaining: {} hours'.format(timere))\n",
    "        t = time.time()\n"
   ]
  },
  {
   "cell_type": "markdown",
   "metadata": {},
   "source": [
    "#### *Start scan - y-polarization*"
   ]
  },
  {
   "cell_type": "code",
   "execution_count": null,
   "metadata": {},
   "outputs": [],
   "source": [
    "sc.move_to_absolute(g,speedmms,defZeroInXsteps,defZeroInYsteps,X_probe[0,0],Y_probe[0,0]) # move to start position"
   ]
  },
  {
   "cell_type": "code",
   "execution_count": null,
   "metadata": {},
   "outputs": [],
   "source": [
    "t = time.time()\n",
    "stopscomp = 0\n",
    "\n",
    "x_list = []\n",
    "y_list = []\n",
    "for yn in range(Y_probe.shape[0]):\n",
    "    direction = 2*np.mod(yn+1, 2) - 1\n",
    "    if direction > 0:\n",
    "        xindex = np.arange(X_probe.shape[1])\n",
    "    else:\n",
    "        xindex = np.flip(np.arange(X_probe.shape[1]))\n",
    "        \n",
    "    for xn in xindex:\n",
    "        x = X_probe[yn, xn]\n",
    "        y = Y_probe[yn, xn]\n",
    "        sc.move_to_absolute(g,speedmms,defZeroInXsteps,defZeroInYsteps,x,y)\n",
    "        \n",
    "        measurements_y[yn,xn,:] = vc.VNA_read(vna,sParMeas)\n",
    "        \n",
    "        stopscomp += 1\n",
    "        timere = (stops - stopscomp) * (time.time()-t)/3600\n",
    "        if stopscomp%10==0:\n",
    "            print('Est. time remaining: {} hours'.format(timere))\n",
    "        t = time.time()\n"
   ]
  },
  {
   "cell_type": "markdown",
   "metadata": {},
   "source": [
    "#### *Concatenate measurements*"
   ]
  },
  {
   "cell_type": "code",
   "execution_count": null,
   "metadata": {},
   "outputs": [],
   "source": [
    "measurements = np.stack((measurements_x, measurements_y), axis=4)"
   ]
  },
  {
   "cell_type": "markdown",
   "metadata": {},
   "source": [
    "### Probe compensation"
   ]
  },
  {
   "cell_type": "code",
   "execution_count": null,
   "metadata": {},
   "outputs": [],
   "source": [
    "measurements_corrected = np.zeros((Y_probe.shape[0], X_probe.shape[1], NumFreqs, 2), dtype=np.complex128)\n",
    "\n",
    "for i in range(NumFreqs):\n",
    "\n",
    "    A_mat = pd.make_A_mat(f[i], a_probe*mm, b_probe*mm, x_probe*mm, y_probe*mm, d*mm)\n",
    "\n",
    "    measurements_corrected[:,:,i,:] = np.transpose(pd.probe_deconvolve(np.transpose(measurements[:,:,i,:], (1,0,2)), A_mat, x_probe*mm, y_probe*mm), (1,0,2))\n",
    "    "
   ]
  },
  {
   "cell_type": "markdown",
   "metadata": {},
   "source": [
    "### Propagate"
   ]
  },
  {
   "cell_type": "code",
   "execution_count": null,
   "metadata": {},
   "outputs": [],
   "source": [
    "N_theta = 180\n",
    "N_phi = 180\n",
    "\n",
    "E_far = np.zeros((N_theta, N_phi, NumFreqs, 3), dtype=np.complex128)\n",
    "\n",
    "for i in range(NumFreqs):\n",
    "\n",
    "    Theta_far, Phi_far, E_far[:,:,i,:] = pf.propagate_from_scans(measurements_corrected[:,:,i,:], f, X_probe*mm, Y_probe*mm, N_theta, N_phi)\n",
    "\n",
    "E_int = np.abs(np.sum(E_far * np.conjugate(E_far), 3)).astype(np.float32)"
   ]
  },
  {
   "cell_type": "markdown",
   "metadata": {},
   "source": [
    "### Plot"
   ]
  },
  {
   "cell_type": "code",
   "execution_count": null,
   "metadata": {},
   "outputs": [],
   "source": [
    "f_indx = np.argmin(np.abs(f - 10E9))\n",
    "\n",
    "fig, ax1 = plt.subplots(1, 1, figsize=(5,5))\n",
    "ax1.imshow(measurements[:,:,0,0], extent=(np.min(x_probe), np.max(x_probe), np.min(y_probe), np.max(y_probe)))\n",
    "ax1.set_xlabel('x (mm)')\n",
    "ax1.set_ylabel('y (mm)')\n",
    "plt.show()\n",
    "\n",
    "fig, ax2 = plt.subplots(subplot_kw=dict(projection='polar'), figsize=(5,5))\n",
    "cs = ax2.contourf(Phi_far, Theta_far, 10*np.log10(E_int[:,:,f_indx]/np.amax(E_int[:,:,f_indx])), \n",
    "            np.linspace(-15, 0, 50), \n",
    "            cmap=plt.cm.hot_r)\n",
    "ax2.grid(True)\n",
    "ax2.set_rlabel_position(135)\n",
    "fig.colorbar(cs, ticks=np.linspace(-15, 0, 7))\n",
    "plt.xlabel('$\\phi$')\n",
    "plt.show()\n"
   ]
  },
  {
   "cell_type": "markdown",
   "metadata": {},
   "source": [
    "### Save data"
   ]
  },
  {
   "cell_type": "code",
   "execution_count": null,
   "metadata": {},
   "outputs": [],
   "source": [
    "scipy.io.savemat('{}{}_{}.mat'.format(savepath, savename, datetime.datetime.now().strftime('%Y-%m-%d')),\n",
    "                                      {'X': X_probe,\n",
    "                                       'Y': Y_probe,\n",
    "                                       'f': f,\n",
    "                                       'measurements': measurements,\n",
    "                                       'measurements_corrected': measurements_corrected,\n",
    "                                       'Theta_far': Theta_far,\n",
    "                                       'Phi_far': Phi_far,\n",
    "                                       'E_far': E_far})"
   ]
  },
  {
   "cell_type": "markdown",
   "metadata": {},
   "source": [
    "## **Calculate beam metrics**"
   ]
  },
  {
   "cell_type": "markdown",
   "metadata": {},
   "source": [
    "### Load data if not already available"
   ]
  },
  {
   "cell_type": "code",
   "execution_count": null,
   "metadata": {},
   "outputs": [],
   "source": [
    "AUT = scipy.io.loadmat('Path/to/test/antenna/file')\n",
    "SGA = scipy.io.loadmat('Path/to/standard/antenna/file')"
   ]
  },
  {
   "cell_type": "markdown",
   "metadata": {},
   "source": [
    "### Calculate gain, directivity, and efficiency"
   ]
  },
  {
   "cell_type": "code",
   "execution_count": null,
   "metadata": {},
   "outputs": [],
   "source": []
  }
 ],
 "metadata": {
  "interpreter": {
   "hash": "8fac594bfae6525c0c41b4041d2d72effa188cc8ead05f81b1fab2bb098927fb"
  },
  "kernelspec": {
   "display_name": "Python 3.8.11 64-bit ('base': conda)",
   "language": "python",
   "name": "python3"
  },
  "language_info": {
   "codemirror_mode": {
    "name": "ipython",
    "version": 3
   },
   "file_extension": ".py",
   "mimetype": "text/x-python",
   "name": "python",
   "nbconvert_exporter": "python",
   "pygments_lexer": "ipython3",
   "version": "3.8.12"
  },
  "orig_nbformat": 4
 },
 "nbformat": 4,
 "nbformat_minor": 2
}
