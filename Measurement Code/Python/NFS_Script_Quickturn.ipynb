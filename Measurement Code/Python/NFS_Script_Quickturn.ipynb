{
 "cells": [
  {
   "cell_type": "markdown",
   "id": "f4c3fb7c-0c75-4ed1-aa4a-5f4edc663367",
   "metadata": {},
   "source": [
    "# **Near Field Scan Script for Aaron's Quickturn Antenna**"
   ]
  },
  {
   "cell_type": "markdown",
   "id": "8430e9fc-51ae-48cd-b183-cad2d1a62eac",
   "metadata": {},
   "source": [
    "Tunes antenna using two Arduinos + two DAC boards"
   ]
  },
  {
   "cell_type": "markdown",
   "id": "c13cd9b4-a4c0-41a4-968c-f7045a95555e",
   "metadata": {},
   "source": [
    "### Import modules"
   ]
  },
  {
   "cell_type": "code",
   "execution_count": 2,
   "id": "0ee5ee8e-3cfa-4bcb-a1a8-01ed178a2bfb",
   "metadata": {},
   "outputs": [],
   "source": [
    "import sys\n",
    "sys.path.append(r'C:\\Users\\User\\Documents\\Duke\\Acquisition-Code\\Modules')\n",
    "import numpy as np\n",
    "from matplotlib import pyplot as plt\n",
    "# import VNA_control as vc\n",
    "# import stage_control as sc\n",
    "import probe_deconvolve as pd\n",
    "import propagation_functions as pf\n",
    "import scipy.constants\n",
    "import scipy.io\n",
    "import time\n",
    "import datetime\n",
    "# import mainPyDAC2_module_multiple_Aaron as tune\n",
    "import pin_mappings as pm\n",
    "import numpy.matlib\n",
    "\n",
    "C     = scipy.constants.c\n",
    "EPS_0 = scipy.constants.epsilon_0 #C^2/(N*m^2)\n",
    "MU_0  = scipy.constants.mu_0    #m kg s^-2 A^-2\n",
    "mm = 0.001\n",
    "cm    = 0.01\n",
    "GHz   = 1.0E9"
   ]
  },
  {
   "cell_type": "markdown",
   "id": "957bef2a-2558-4b35-ba8d-d26b8050891c",
   "metadata": {
    "tags": []
   },
   "source": [
    "### Serial initialization & tuning state generation"
   ]
  },
  {
   "cell_type": "code",
   "execution_count": 5,
   "id": "6d343407-e5a3-43e0-acf8-59eaced46c7b",
   "metadata": {},
   "outputs": [
    {
     "data": {
      "text/plain": [
       "160"
      ]
     },
     "execution_count": 5,
     "metadata": {},
     "output_type": "execute_result"
    }
   ],
   "source": [
    "element_pin_index = pm.element_pin_index[:-1]\n",
    "\n",
    "ts = []\n",
    "for i in range(len(element_pin_index)):\n",
    "    t = np.zeros(240)\n",
    "    t[element_pin_index[i]] = 2.5\n",
    "    ts.append(t)"
   ]
  },
  {
   "cell_type": "markdown",
   "id": "98b8bf0f-fe9c-4b1d-b745-f4e75f1f99c6",
   "metadata": {},
   "source": [
    "### Test tuning state"
   ]
  },
  {
   "cell_type": "code",
   "execution_count": 12,
   "id": "ec4b1f05-6b1e-4b63-9c48-a4785f30ccb6",
   "metadata": {},
   "outputs": [],
   "source": [
    "# ts[10] = all 1V, ts[20] = all 2 V, ..., \n",
    "# ts[51]=1V element 1, ts[52]=1V element 2, ...,\n",
    "# ts[212] = 2V element 1, ts[373] = 3V element 1, ...\n",
    "# state = ts[51] \n",
    "# tune.testProgram30DAC(serial1, state)\n",
    "# tune.testProgram30DAC(serial2, state)"
   ]
  },
  {
   "cell_type": "markdown",
   "id": "254d3867-9627-4e23-90f9-7723eba58081",
   "metadata": {},
   "source": [
    "### General scan parameters"
   ]
  },
  {
   "cell_type": "code",
   "execution_count": 6,
   "id": "2709ddb6-c2e6-4662-b8c2-645c21d83fb9",
   "metadata": {},
   "outputs": [
    {
     "name": "stdout",
     "output_type": "stream",
     "text": [
      "IFBW = 1000 \n",
      "Calibration File = Aaron_21-11-05 \n",
      "Power = 0 dBm \n",
      "Measuring S12\n"
     ]
    }
   ],
   "source": [
    "a_probe = 22.86\n",
    "b_probe = 10.16\n",
    "\n",
    "xrange = 1000 # x length of stage, mm\n",
    "yrange = 1000 # y length of stage, mm\n",
    "\n",
    "fstart = 8E9\n",
    "fstop = 12E9\n",
    "NumFreqs = 101\n",
    "NumApMasks = len(ts)\n",
    "f = np.linspace(fstart, fstop, NumFreqs)\n",
    "lam_min = C/fstop\n",
    "dstep = lam_min/2 * 1000 # mm\n",
    "\n",
    "IFBW = 1000\n",
    "calfile = 'Aaron_21-11-05'\n",
    "power = 0 # dBm\n",
    "sParMeas = 'S12'\n",
    "speedmms = 25       # don't change this\n",
    "\n",
    "print('IFBW = {} \\nCalibration File = {} \\nPower = {} dBm \\nMeasuring {}'.format(IFBW, calfile, power, sParMeas))"
   ]
  },
  {
   "cell_type": "markdown",
   "id": "a7bcad26-c8ab-4c71-a641-e98dc56bc248",
   "metadata": {},
   "source": [
    "### Initialize instruments"
   ]
  },
  {
   "cell_type": "code",
   "execution_count": 11,
   "id": "5da3ed2c-c548-4fbf-b437-385a834d5120",
   "metadata": {},
   "outputs": [
    {
     "name": "stdout",
     "output_type": "stream",
     "text": [
      "Agilent Technologies,N5222A,MY51421573,A.09.90.10\n",
      "Initiating VNA...\n",
      "\n",
      "Done\n",
      "\n"
     ]
    }
   ],
   "source": [
    "## Stage\n",
    "g = sc.stage_start('169.254.225.173')\n",
    "sc.stage_home(g,speedmms)\n",
    "\n",
    "## Arduino\n",
    "numDACs = 30\n",
    "serial1 = tune.initializeArduino(numDACs, \"COM9\")\n",
    "serial2 = tune.initializeArduino(numDACs, \"COM10\")\n",
    "\n",
    "## VNA\n",
    "vna = vc.instrument_open('TCPIP0::169.254.187.153::5025::SOCKET')\n",
    "vc.VNA_initiate(vna, NumFreqs, fstart*1E-9, fstop*1E-9, IFBW, power, 'S12', calfile=calfile)"
   ]
  },
  {
   "cell_type": "markdown",
   "id": "70698d5f-c15d-4efd-967b-be0fc2f64035",
   "metadata": {},
   "source": [
    "### Configure save path"
   ]
  },
  {
   "cell_type": "code",
   "execution_count": 12,
   "id": "8974d794-91d7-4645-a168-58b0229f91d7",
   "metadata": {},
   "outputs": [],
   "source": [
    "savename = 'Quickturn_Antenna'\n",
    "savepath = 'C:/Users/smithlab/Documents/Near_Field_Scans/'"
   ]
  },
  {
   "cell_type": "markdown",
   "id": "b5e98fc4-873b-4820-af72-a8d5c404f42f",
   "metadata": {},
   "source": [
    "### Scan"
   ]
  },
  {
   "cell_type": "markdown",
   "id": "6d675987-bf7b-4c87-9738-1fb5e18d717f",
   "metadata": {},
   "source": [
    "#### *Set scan lengths*"
   ]
  },
  {
   "cell_type": "code",
   "execution_count": 36,
   "id": "d1de8bda-a969-4061-adb1-4aa63da8357c",
   "metadata": {},
   "outputs": [],
   "source": [
    "Lx_ap = 300\n",
    "Ly_ap = 190\n",
    "theta = 30\n",
    "d = 91\n",
    "\n",
    "Lx_scan = Lx_ap + 2*d*np.tan(np.radians(theta))\n",
    "Ly_scan = Ly_ap + 2*d*np.tan(np.radians(theta))\n",
    "\n",
    "xmin = -Lx_scan/2\n",
    "xmax = Lx_scan/2\n",
    "ymin = -Ly_scan/2\n",
    "ymax = Ly_scan/2\n",
    "\n",
    "x_probe = np.arange(xmin, xmax, dstep)\n",
    "y_probe = np.arange(ymin, ymax, dstep)\n",
    "X_probe, Y_probe = np.meshgrid(x_probe, y_probe, indexing='xy')\n",
    "measurements_x = np.zeros((Y_probe.shape[0], X_probe.shape[1], NumFreqs, NumApMasks), dtype=np.complex128) # measurements with E field of probe oriented in x direction\n",
    "measurements_y = np.zeros((Y_probe.shape[0], X_probe.shape[1], NumFreqs, NumApMasks), dtype=np.complex128) # measurements with E field of probe oriented in y direction\n",
    "stops = Y_probe.shape[0] * X_probe.shape[1]"
   ]
  },
  {
   "cell_type": "markdown",
   "id": "d1ed6d23-5aee-469a-afc7-2c7f425566b8",
   "metadata": {},
   "source": [
    "#### *Move to new origin*"
   ]
  },
  {
   "cell_type": "code",
   "execution_count": 35,
   "id": "e6c740cf-0d01-4c6a-b09b-eef29703b9f2",
   "metadata": {},
   "outputs": [
    {
     "data": {
      "text/plain": [
       "(-570.0, -540.0)"
      ]
     },
     "execution_count": 35,
     "metadata": {},
     "output_type": "execute_result"
    }
   ],
   "source": [
    "center_x = -xrange/2\n",
    "center_y = -yrange/2\n",
    "pos_x = -70  # adjust to change x zero position\n",
    "pos_y = -40  # adjust to change y zero position\n",
    "\n",
    "sc.move_to_absolute(g,speedmms,0,0,center_x+pos_x,center_y+pos_y)"
   ]
  },
  {
   "cell_type": "markdown",
   "id": "18eb0f7f-576d-4541-a88d-04c39c5ab71b",
   "metadata": {},
   "source": [
    "#### *Set origin*"
   ]
  },
  {
   "cell_type": "code",
   "execution_count": 37,
   "id": "8cfaa1fa-40f8-4d25-ac72-79f7b58e8bf2",
   "metadata": {},
   "outputs": [],
   "source": [
    "defZeroInXsteps, defZeroInYsteps = sc.zero_axes(g)"
   ]
  },
  {
   "cell_type": "markdown",
   "id": "85e52b44-9d2f-4c4e-8983-faf62aae288d",
   "metadata": {},
   "source": [
    "#### *Start scan - x-polarization*"
   ]
  },
  {
   "cell_type": "code",
   "execution_count": 41,
   "id": "83113961-bfbe-4622-b8b3-c75a992852ad",
   "metadata": {},
   "outputs": [
    {
     "data": {
      "text/plain": [
       "(-202.5388, -147.5388)"
      ]
     },
     "execution_count": 41,
     "metadata": {},
     "output_type": "execute_result"
    }
   ],
   "source": [
    "sc.move_to_absolute(g,speedmms,defZeroInXsteps,defZeroInYsteps,X_probe[0,0],Y_probe[0,0]) # move to start position"
   ]
  },
  {
   "cell_type": "code",
   "execution_count": 42,
   "id": "118bf3a2-487b-467a-836b-e50dcfe7259b",
   "metadata": {},
   "outputs": [
    {
     "name": "stdout",
     "output_type": "stream",
     "text": [
      "Est. time remaining: 264.366080376837 hours\n",
      "Est. time remaining: 260.8819494374593 hours\n",
      "Est. time remaining: 257.70610175728797 hours\n",
      "Est. time remaining: 254.3028362083435 hours\n",
      "Est. time remaining: 250.72567687047854 hours\n",
      "Est. time remaining: 247.52542810440065 hours\n",
      "Est. time remaining: 244.03205491728252 hours\n",
      "Est. time remaining: 240.70514656384785 hours\n",
      "Est. time remaining: 290.2772794890404 hours\n",
      "Est. time remaining: 233.88282212813695 hours\n",
      "Est. time remaining: 230.5647382010354 hours\n",
      "Est. time remaining: 227.17949017206828 hours\n",
      "Est. time remaining: 223.78171350214217 hours\n",
      "Est. time remaining: 220.37652989943822 hours\n",
      "Est. time remaining: 217.15201695521674 hours\n",
      "Est. time remaining: 213.70576059977213 hours\n",
      "Est. time remaining: 210.20564261542427 hours\n",
      "Est. time remaining: 206.85119729280473 hours\n",
      "Est. time remaining: 203.45006727602745 hours\n",
      "Est. time remaining: 200.09459631707932 hours\n",
      "Est. time remaining: 196.75459582448005 hours\n",
      "Est. time remaining: 193.43364347245958 hours\n",
      "Est. time remaining: 189.9604055873553 hours\n",
      "Est. time remaining: 186.569320824941 hours\n",
      "Est. time remaining: 183.23633737828996 hours\n",
      "Est. time remaining: 179.89983430306117 hours\n",
      "Est. time remaining: 176.51318110704423 hours\n",
      "Est. time remaining: 173.05017435709635 hours\n",
      "Est. time remaining: 169.70567360851499 hours\n",
      "Est. time remaining: 166.3619695297877 hours\n",
      "Est. time remaining: 162.92613095137807 hours\n",
      "Est. time remaining: 159.5986555592219 hours\n",
      "Est. time remaining: 156.16186762094497 hours\n",
      "Est. time remaining: 152.75393096870846 hours\n",
      "Est. time remaining: 149.48803406185573 hours\n",
      "Est. time remaining: 146.06737418174743 hours\n",
      "Est. time remaining: 142.6403848889139 hours\n",
      "Est. time remaining: 139.3216368481848 hours\n",
      "Est. time remaining: 135.90377403974534 hours\n",
      "Est. time remaining: 132.49124500539568 hours\n",
      "Est. time remaining: 129.1550160238478 hours\n",
      "Est. time remaining: 125.77258537530899 hours\n",
      "Est. time remaining: 122.33931027743552 hours\n",
      "Est. time remaining: 119.05058653725519 hours\n",
      "Est. time remaining: 115.67923681735992 hours\n",
      "Est. time remaining: 112.22789296362136 hours\n",
      "Est. time remaining: 108.90443163726064 hours\n",
      "Est. time remaining: 105.46477614720662 hours\n",
      "Est. time remaining: 102.11601049568918 hours\n",
      "Est. time remaining: 98.71866854111353 hours\n",
      "Est. time remaining: 95.3643418308099 hours\n",
      "Est. time remaining: 91.97147639698453 hours\n",
      "Est. time remaining: 88.57877477076319 hours\n",
      "Est. time remaining: 85.2244651246071 hours\n",
      "Est. time remaining: 81.81504366252157 hours\n",
      "Est. time remaining: 78.45622453583611 hours\n",
      "Est. time remaining: 75.09886109312376 hours\n",
      "Est. time remaining: 71.67879092878765 hours\n",
      "Est. time remaining: 68.3154216574298 hours\n",
      "Est. time remaining: 64.90906800587972 hours\n",
      "Est. time remaining: 61.52161774224705 hours\n",
      "Est. time remaining: 58.15280338843664 hours\n",
      "Est. time remaining: 54.76415541529656 hours\n",
      "Est. time remaining: 51.392774182425605 hours\n",
      "Est. time remaining: 48.01720057447751 hours\n",
      "Est. time remaining: 44.63788977543513 hours\n",
      "Est. time remaining: 41.25043085164494 hours\n",
      "Est. time remaining: 37.885468340979685 hours\n",
      "Est. time remaining: 34.50978164513906 hours\n",
      "Est. time remaining: 31.105295076105328 hours\n",
      "Est. time remaining: 27.720466764503055 hours\n",
      "Est. time remaining: 24.344394512176514 hours\n",
      "Est. time remaining: 20.963212195634842 hours\n",
      "Est. time remaining: 17.58374872022205 hours\n",
      "Est. time remaining: 14.203057242631912 hours\n",
      "Est. time remaining: 10.818558086819118 hours\n",
      "Est. time remaining: 7.43898679057757 hours\n",
      "Est. time remaining: 4.056023155053457 hours\n",
      "Est. time remaining: 0.6762534942891862 hours\n"
     ]
    }
   ],
   "source": [
    "t = time.time()\n",
    "stopscomp = 0\n",
    "\n",
    "x_list = []\n",
    "y_list = []\n",
    "for yn in range(Y_probe.shape[0]):\n",
    "    direction = 2*np.mod(yn+1, 2) - 1\n",
    "    if direction > 0:\n",
    "        xindex = np.arange(X_probe.shape[1])\n",
    "    else:\n",
    "        xindex = np.flip(np.arange(X_probe.shape[1]))\n",
    "        \n",
    "    for xn in xindex:\n",
    "        x = X_probe[yn, xn]\n",
    "        y = Y_probe[yn, xn]\n",
    "        sc.move_to_absolute(g,speedmms,defZeroInXsteps,defZeroInYsteps,x,y)\n",
    "        \n",
    "        for jj in range(NumApMasks):\n",
    "            tune.testProgram30DAC(serial1,ts[jj])\n",
    "            tune.testProgram30DAC(serial2,ts[jj])\n",
    "            time.sleep(0.01)\n",
    "            measurements_x[yn,xn,:,jj] = vc.VNA_read(vna,sParMeas)\n",
    "        \n",
    "        stopscomp += 1\n",
    "        timere = (stops - stopscomp) * (time.time()-t)/3600\n",
    "        if stopscomp%10==0:\n",
    "            print('Est. time remaining: {} hours'.format(timere))\n",
    "        t = time.time()\n"
   ]
  },
  {
   "cell_type": "markdown",
   "id": "f71e789f-9f0c-4d1b-88e7-c1cc66bc4979",
   "metadata": {},
   "source": [
    "#### *Start scan - y-polarization*"
   ]
  },
  {
   "cell_type": "code",
   "execution_count": null,
   "id": "282c70d5-e5d9-46c4-857d-48f559ebdfa9",
   "metadata": {},
   "outputs": [],
   "source": [
    "sc.move_to_absolute(g,speedmms,defZeroInXsteps,defZeroInYsteps,X_probe[0,0],Y_probe[0,0]) # move to start position"
   ]
  },
  {
   "cell_type": "code",
   "execution_count": 40,
   "id": "21ae54f7-c923-4179-ae20-8f942dc60c1c",
   "metadata": {},
   "outputs": [
    {
     "name": "stdout",
     "output_type": "stream",
     "text": [
      "Est. time remaining: 264.4011574104097 hours\n",
      "Est. time remaining: 261.0154204874569 hours\n",
      "Est. time remaining: 257.6186923336983 hours\n",
      "Est. time remaining: 254.1380053869883 hours\n",
      "Est. time remaining: 250.81464299586085 hours\n",
      "Est. time remaining: 247.40609361410142 hours\n"
     ]
    },
    {
     "ename": "KeyboardInterrupt",
     "evalue": "",
     "output_type": "error",
     "traceback": [
      "\u001b[1;31m---------------------------------------------------------------------------\u001b[0m",
      "\u001b[1;31mKeyboardInterrupt\u001b[0m                         Traceback (most recent call last)",
      "\u001b[1;32m~\\AppData\\Local\\Temp/ipykernel_1424/28964019.py\u001b[0m in \u001b[0;36m<module>\u001b[1;34m\u001b[0m\n\u001b[0;32m     18\u001b[0m         \u001b[1;32mfor\u001b[0m \u001b[0mjj\u001b[0m \u001b[1;32min\u001b[0m \u001b[0mrange\u001b[0m\u001b[1;33m(\u001b[0m\u001b[0mNumApMasks\u001b[0m\u001b[1;33m)\u001b[0m\u001b[1;33m:\u001b[0m\u001b[1;33m\u001b[0m\u001b[1;33m\u001b[0m\u001b[0m\n\u001b[0;32m     19\u001b[0m             \u001b[0mtune\u001b[0m\u001b[1;33m.\u001b[0m\u001b[0mtestProgram30DAC\u001b[0m\u001b[1;33m(\u001b[0m\u001b[0mserial1\u001b[0m\u001b[1;33m,\u001b[0m\u001b[0mts\u001b[0m\u001b[1;33m[\u001b[0m\u001b[0mjj\u001b[0m\u001b[1;33m]\u001b[0m\u001b[1;33m)\u001b[0m\u001b[1;33m\u001b[0m\u001b[1;33m\u001b[0m\u001b[0m\n\u001b[1;32m---> 20\u001b[1;33m             \u001b[0mtune\u001b[0m\u001b[1;33m.\u001b[0m\u001b[0mtestProgram30DAC\u001b[0m\u001b[1;33m(\u001b[0m\u001b[0mserial2\u001b[0m\u001b[1;33m,\u001b[0m\u001b[0mts\u001b[0m\u001b[1;33m[\u001b[0m\u001b[0mjj\u001b[0m\u001b[1;33m]\u001b[0m\u001b[1;33m)\u001b[0m\u001b[1;33m\u001b[0m\u001b[1;33m\u001b[0m\u001b[0m\n\u001b[0m\u001b[0;32m     21\u001b[0m             \u001b[0mtime\u001b[0m\u001b[1;33m.\u001b[0m\u001b[0msleep\u001b[0m\u001b[1;33m(\u001b[0m\u001b[1;36m0.01\u001b[0m\u001b[1;33m)\u001b[0m\u001b[1;33m\u001b[0m\u001b[1;33m\u001b[0m\u001b[0m\n\u001b[0;32m     22\u001b[0m             \u001b[0mmeasurements_y\u001b[0m\u001b[1;33m[\u001b[0m\u001b[0myn\u001b[0m\u001b[1;33m,\u001b[0m\u001b[0mxn\u001b[0m\u001b[1;33m,\u001b[0m\u001b[1;33m:\u001b[0m\u001b[1;33m,\u001b[0m\u001b[0mjj\u001b[0m\u001b[1;33m]\u001b[0m \u001b[1;33m=\u001b[0m \u001b[0mvc\u001b[0m\u001b[1;33m.\u001b[0m\u001b[0mVNA_read\u001b[0m\u001b[1;33m(\u001b[0m\u001b[0mvna\u001b[0m\u001b[1;33m,\u001b[0m\u001b[0msParMeas\u001b[0m\u001b[1;33m)\u001b[0m\u001b[1;33m\u001b[0m\u001b[1;33m\u001b[0m\u001b[0m\n",
      "\u001b[1;32mC:\\Users/smithlab/Documents/Acquisition-Code/Modules\\mainPyDAC2_module_multiple.py\u001b[0m in \u001b[0;36mtestProgram30DAC\u001b[1;34m(serialPort, voltage_matrix_30)\u001b[0m\n\u001b[0;32m    342\u001b[0m             \u001b[1;32mbreak\u001b[0m\u001b[1;33m\u001b[0m\u001b[1;33m\u001b[0m\u001b[0m\n\u001b[0;32m    343\u001b[0m \u001b[1;33m\u001b[0m\u001b[0m\n\u001b[1;32m--> 344\u001b[1;33m         \u001b[0msendToArduino\u001b[0m\u001b[1;33m(\u001b[0m\u001b[0mserialPort\u001b[0m\u001b[1;33m,\u001b[0m \u001b[0mx\u001b[0m\u001b[1;33m)\u001b[0m\u001b[1;33m\u001b[0m\u001b[1;33m\u001b[0m\u001b[0m\n\u001b[0m\u001b[0;32m    345\u001b[0m         \u001b[0mlastinstruction\u001b[0m \u001b[1;33m=\u001b[0m \u001b[0marrayofInstructions\u001b[0m\u001b[1;33m.\u001b[0m\u001b[0mpop\u001b[0m\u001b[1;33m(\u001b[0m\u001b[1;33m)\u001b[0m\u001b[1;33m\u001b[0m\u001b[1;33m\u001b[0m\u001b[0m\n\u001b[0;32m    346\u001b[0m         \u001b[0mlastinstruction2\u001b[0m \u001b[1;33m=\u001b[0m \u001b[0mgetInstruction\u001b[0m\u001b[1;33m(\u001b[0m\u001b[0mlastinstruction\u001b[0m\u001b[1;33m)\u001b[0m\u001b[1;33m.\u001b[0m\u001b[0msplit\u001b[0m\u001b[1;33m(\u001b[0m\u001b[1;34m' '\u001b[0m\u001b[1;33m)\u001b[0m\u001b[1;33m[\u001b[0m\u001b[1;33m:\u001b[0m\u001b[1;33m-\u001b[0m\u001b[1;36m1\u001b[0m\u001b[1;33m]\u001b[0m\u001b[1;33m\u001b[0m\u001b[1;33m\u001b[0m\u001b[0m\n",
      "\u001b[1;32mC:\\Users/smithlab/Documents/Acquisition-Code/Modules\\mainPyDAC2_module_multiple.py\u001b[0m in \u001b[0;36msendToArduino\u001b[1;34m(serialPort, stringData)\u001b[0m\n\u001b[0;32m    116\u001b[0m     \u001b[0mprocessedStringData\u001b[0m \u001b[1;33m+=\u001b[0m \u001b[0mendOfData\u001b[0m\u001b[1;33m\u001b[0m\u001b[1;33m\u001b[0m\u001b[0m\n\u001b[0;32m    117\u001b[0m \u001b[1;33m\u001b[0m\u001b[0m\n\u001b[1;32m--> 118\u001b[1;33m     \u001b[0mserialPort\u001b[0m\u001b[1;33m.\u001b[0m\u001b[0mwrite\u001b[0m\u001b[1;33m(\u001b[0m\u001b[0mprocessedStringData\u001b[0m\u001b[1;33m.\u001b[0m\u001b[0mencode\u001b[0m\u001b[1;33m(\u001b[0m\u001b[1;34m'utf-8'\u001b[0m\u001b[1;33m)\u001b[0m\u001b[1;33m)\u001b[0m\u001b[1;33m\u001b[0m\u001b[1;33m\u001b[0m\u001b[0m\n\u001b[0m\u001b[0;32m    119\u001b[0m \u001b[1;33m\u001b[0m\u001b[0m\n\u001b[0;32m    120\u001b[0m \u001b[1;32mdef\u001b[0m \u001b[0msendInputLen\u001b[0m\u001b[1;33m(\u001b[0m\u001b[0mserialPort\u001b[0m\u001b[1;33m)\u001b[0m\u001b[1;33m:\u001b[0m\u001b[1;33m\u001b[0m\u001b[1;33m\u001b[0m\u001b[0m\n",
      "\u001b[1;32m~\\anaconda3\\envs\\nfs\\lib\\site-packages\\serial\\serialwin32.py\u001b[0m in \u001b[0;36mwrite\u001b[1;34m(self, data)\u001b[0m\n\u001b[0;32m    317\u001b[0m                 \u001b[1;31m# Wait for the write to complete.\u001b[0m\u001b[1;33m\u001b[0m\u001b[1;33m\u001b[0m\u001b[1;33m\u001b[0m\u001b[0m\n\u001b[0;32m    318\u001b[0m                 \u001b[1;31m#~ win32.WaitForSingleObject(self._overlapped_write.hEvent, win32.INFINITE)\u001b[0m\u001b[1;33m\u001b[0m\u001b[1;33m\u001b[0m\u001b[1;33m\u001b[0m\u001b[0m\n\u001b[1;32m--> 319\u001b[1;33m                 \u001b[0mwin32\u001b[0m\u001b[1;33m.\u001b[0m\u001b[0mGetOverlappedResult\u001b[0m\u001b[1;33m(\u001b[0m\u001b[0mself\u001b[0m\u001b[1;33m.\u001b[0m\u001b[0m_port_handle\u001b[0m\u001b[1;33m,\u001b[0m \u001b[0mself\u001b[0m\u001b[1;33m.\u001b[0m\u001b[0m_overlapped_write\u001b[0m\u001b[1;33m,\u001b[0m \u001b[0mctypes\u001b[0m\u001b[1;33m.\u001b[0m\u001b[0mbyref\u001b[0m\u001b[1;33m(\u001b[0m\u001b[0mn\u001b[0m\u001b[1;33m)\u001b[0m\u001b[1;33m,\u001b[0m \u001b[1;32mTrue\u001b[0m\u001b[1;33m)\u001b[0m\u001b[1;33m\u001b[0m\u001b[1;33m\u001b[0m\u001b[0m\n\u001b[0m\u001b[0;32m    320\u001b[0m                 \u001b[1;32mif\u001b[0m \u001b[0mwin32\u001b[0m\u001b[1;33m.\u001b[0m\u001b[0mGetLastError\u001b[0m\u001b[1;33m(\u001b[0m\u001b[1;33m)\u001b[0m \u001b[1;33m==\u001b[0m \u001b[0mwin32\u001b[0m\u001b[1;33m.\u001b[0m\u001b[0mERROR_OPERATION_ABORTED\u001b[0m\u001b[1;33m:\u001b[0m\u001b[1;33m\u001b[0m\u001b[1;33m\u001b[0m\u001b[0m\n\u001b[0;32m    321\u001b[0m                     \u001b[1;32mreturn\u001b[0m \u001b[0mn\u001b[0m\u001b[1;33m.\u001b[0m\u001b[0mvalue\u001b[0m  \u001b[1;31m# canceled IO is no error\u001b[0m\u001b[1;33m\u001b[0m\u001b[1;33m\u001b[0m\u001b[0m\n",
      "\u001b[1;31mKeyboardInterrupt\u001b[0m: "
     ]
    }
   ],
   "source": [
    "t = time.time()\n",
    "stopscomp = 0\n",
    "\n",
    "x_list = []\n",
    "y_list = []\n",
    "for yn in range(Y_probe.shape[0]):\n",
    "    direction = 2*np.mod(yn+1, 2) - 1\n",
    "    if direction > 0:\n",
    "        xindex = np.arange(X_probe.shape[1])\n",
    "    else:\n",
    "        xindex = np.flip(np.arange(X_probe.shape[1]))\n",
    "        \n",
    "    for xn in xindex:\n",
    "        x = X_probe[yn, xn]\n",
    "        y = Y_probe[yn, xn]\n",
    "        sc.move_to_absolute(g,speedmms,defZeroInXsteps,defZeroInYsteps,x,y)\n",
    "        \n",
    "        for jj in range(NumApMasks):\n",
    "            tune.testProgram30DAC(serial1,ts[jj])\n",
    "            tune.testProgram30DAC(serial2,ts[jj])\n",
    "            time.sleep(0.01)\n",
    "            measurements_y[yn,xn,:,jj] = vc.VNA_read(vna,sParMeas)\n",
    "        \n",
    "        stopscomp += 1\n",
    "        timere = (stops - stopscomp) * (time.time()-t)/3600\n",
    "        if stopscomp%10==0:\n",
    "            print('Est. time remaining: {} hours'.format(timere))\n",
    "        t = time.time()\n"
   ]
  },
  {
   "cell_type": "markdown",
   "id": "0abe0f66-c21b-46d3-ba49-d53b06afd1b8",
   "metadata": {},
   "source": [
    "#### *Concatenate measurements*"
   ]
  },
  {
   "cell_type": "code",
   "execution_count": 44,
   "id": "df777095-059e-45ce-8dbd-30a8d1fbb41e",
   "metadata": {},
   "outputs": [],
   "source": [
    "measurements = np.stack((measurements_x, measurements_y), axis=4)"
   ]
  },
  {
   "cell_type": "markdown",
   "id": "851167f1-3911-4d84-8dd3-04ebd16d5322",
   "metadata": {},
   "source": [
    "### Probe compensation"
   ]
  },
  {
   "cell_type": "code",
   "execution_count": 46,
   "id": "c8f884dc-2508-45f7-9ec8-788a9d052454",
   "metadata": {},
   "outputs": [],
   "source": [
    "# measurements_corrected = np.zeros((Y_probe.shape[0], X_probe.shape[1], NumFreqs, NumApMasks, 2), dtype=np.complex128)\n",
    "\n",
    "# for i in range(NumFreqs):\n",
    "\n",
    "#     A_mat = pd.make_A_mat(f[i], a_probe*mm, b_probe*mm, x_probe*mm, y_probe*mm, d*mm)\n",
    "\n",
    "#     for j in range(NumApMasks):\n",
    "\n",
    "#         measurements_corrected[:,:,i,j,:] = np.transpose(pd.probe_deconvolve(np.transpose(measurements[:,:,i,j,:], (1,0,2)), A_mat, x_probe*mm, y_probe*mm), (1,0,2))\n",
    "        \n",
    "measurements_corrected = measurements    # TEMP, UNTIL PROBE CORRECTION IS SOLVED\n",
    "    "
   ]
  },
  {
   "cell_type": "markdown",
   "id": "9e1fe8c7-478e-415e-805e-ef6f2afbbda6",
   "metadata": {},
   "source": [
    "### Plot"
   ]
  },
  {
   "cell_type": "code",
   "execution_count": 62,
   "id": "ecfb29c4-4adf-48a8-b5a6-8d372bf0a16f",
   "metadata": {},
   "outputs": [
    {
     "data": {
      "image/png": "[encoded data removed]",
      "text/plain": [
       "<Figure size 360x360 with 1 Axes>"
      ]
     },
     "metadata": {
      "needs_background": "light"
     },
     "output_type": "display_data"
    }
   ],
   "source": [
    "f_indx = np.argmin(np.abs(f - 10E9))\n",
    "m_indx = 0\n",
    "\n",
    "fig, ax1 = plt.subplots(1, 1, figsize=(5,5))\n",
    "ax1.imshow(np.abs(measurements[:,:,51,300,0]), extent=(np.min(x_probe), np.max(x_probe), np.min(y_probe), np.max(y_probe)))\n",
    "ax1.set_xlabel('x (mm)')\n",
    "ax1.set_ylabel('y (mm)')\n",
    "plt.show()\n"
   ]
  },
  {
   "cell_type": "markdown",
   "id": "b8fa2dc0-0de0-4cef-9bb2-dbee1446a89e",
   "metadata": {},
   "source": [
    "### Save data"
   ]
  },
  {
   "cell_type": "code",
   "execution_count": 48,
   "id": "44a5d140-303c-4eac-8b2e-e2d52db8022a",
   "metadata": {},
   "outputs": [],
   "source": [
    "scipy.io.savemat('{}{}_{}.mat'.format(savepath, savename, datetime.datetime.now().strftime('%Y-%m-%d')),\n",
    "                                      {'X': X_probe,\n",
    "                                       'Y': Y_probe,\n",
    "                                       'Lx_ap': Lx_ap,\n",
    "                                       'Ly_ap': Ly_ap,\n",
    "                                       'f': f,\n",
    "                                       'ts': ts,\n",
    "                                       'measurements': measurements,\n",
    "                                       'measurements_corrected': measurements_corrected})"
   ]
  },
  {
   "cell_type": "code",
   "execution_count": 49,
   "id": "49402600-e1c1-49f3-a481-a30e3c44e397",
   "metadata": {},
   "outputs": [
    {
     "data": {
      "text/plain": [
       "(24, 33, 101, 856, 2)"
      ]
     },
     "execution_count": 49,
     "metadata": {},
     "output_type": "execute_result"
    }
   ],
   "source": [
    "measurements.shape"
   ]
  },
  {
   "cell_type": "code",
   "execution_count": 51,
   "id": "e6a569df-0a47-4487-92d3-cf1b476c17cb",
   "metadata": {},
   "outputs": [
    {
     "data": {
      "text/plain": [
       "856"
      ]
     },
     "execution_count": 51,
     "metadata": {},
     "output_type": "execute_result"
    }
   ],
   "source": [
    "len(ts)"
   ]
  },
  {
   "cell_type": "code",
   "execution_count": null,
   "id": "a5236c5e-aae2-409d-9734-3be704d22334",
   "metadata": {},
   "outputs": [],
   "source": []
  }
 ],
 "metadata": {
  "interpreter": {
   "hash": "219a0fbf6447c2af047bf9e467ff5e3b3e6f8037f9e2112e542884c7855ad7c1"
  },
  "kernelspec": {
   "display_name": "Python 3.8.12 ('duke')",
   "language": "python",
   "name": "python3"
  },
  "language_info": {
   "codemirror_mode": {
    "name": "ipython",
    "version": 3
   },
   "file_extension": ".py",
   "mimetype": "text/x-python",
   "name": "python",
   "nbconvert_exporter": "python",
   "pygments_lexer": "ipython3",
   "version": "3.8.12"
  }
 },
 "nbformat": 4,
 "nbformat_minor": 5
}
