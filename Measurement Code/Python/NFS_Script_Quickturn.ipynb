{
 "cells": [
  {
   "cell_type": "markdown",
   "id": "f4c3fb7c-0c75-4ed1-aa4a-5f4edc663367",
   "metadata": {},
   "source": [
    "# **Near Field Scan Script for Aaron's Quickturn Antenna**"
   ]
  },
  {
   "cell_type": "markdown",
   "id": "8430e9fc-51ae-48cd-b183-cad2d1a62eac",
   "metadata": {},
   "source": [
    "Tunes antenna using two Arduinos + two DAC boards"
   ]
  },
  {
   "cell_type": "markdown",
   "id": "c13cd9b4-a4c0-41a4-968c-f7045a95555e",
   "metadata": {},
   "source": [
    "### Import modules"
   ]
  },
  {
   "cell_type": "code",
   "execution_count": 26,
   "id": "0ee5ee8e-3cfa-4bcb-a1a8-01ed178a2bfb",
   "metadata": {},
   "outputs": [],
   "source": [
    "import sys\n",
    "sys.path.append(r'C:/Users/smithlab/Documents/Acquisition-Code/Modules')\n",
    "import numpy as np\n",
    "from matplotlib import pyplot as plt\n",
    "import VNA_control as vc\n",
    "import stage_control as sc\n",
    "import probe_deconvolve as pd\n",
    "import propagation_functions as pf\n",
    "import scipy.constants\n",
    "import scipy.io\n",
    "import time\n",
    "import datetime\n",
    "import mainPyDAC2_module_multiple_Aaron as tune\n",
    "import pin_mappings as pm\n",
    "import numpy.matlib\n",
    "\n",
    "C     = scipy.constants.c\n",
    "EPS_0 = scipy.constants.epsilon_0 #C^2/(N*m^2)\n",
    "MU_0  = scipy.constants.mu_0    #m kg s^-2 A^-2\n",
    "mm = 0.001\n",
    "cm    = 0.01\n",
    "GHz   = 1.0E9"
   ]
  },
  {
   "cell_type": "markdown",
   "id": "957bef2a-2558-4b35-ba8d-d26b8050891c",
   "metadata": {
    "tags": []
   },
   "source": [
    "### Tuning state generation"
   ]
  },
  {
   "cell_type": "code",
   "execution_count": 28,
   "id": "6d343407-e5a3-43e0-acf8-59eaced46c7b",
   "metadata": {},
   "outputs": [
    {
     "name": "stdout",
     "output_type": "stream",
     "text": [
      "(65, 160)\n"
     ]
    }
   ],
   "source": [
    "element_pin_index = pm.element_pin_index[:-1]\n",
    "\n",
    "# voltage_list = np.linspace(0, 5, 21)\n",
    "\n",
    "# ts = []\n",
    "# for i in range(len(element_pin_index)):\n",
    "#     for j in range(len(voltage_list)):\n",
    "#         t = np.zeros(240)\n",
    "#         t[element_pin_index[i]] = voltage_list[j]\n",
    "#         ts.append(t)\n",
    "\n",
    "ts_filename = 'steering_test_22-06-16'\n",
    "mat = scipy.io.loadmat(r'C:\\Users\\smithlab\\Documents\\Aaron\\Tuning States\\{}.mat'.format(ts_filename))\n",
    "element_voltages = mat['ts']\n",
    "print(element_voltages.shape)\n",
    "\n",
    "ts = []\n",
    "for i in range(element_voltages.shape[0]):\n",
    "    t = np.zeros(240)\n",
    "    for j in range(element_voltages.shape[1]):\n",
    "        t[element_pin_index[j]] = element_voltages[i,j]\n",
    "    ts.append(t)"
   ]
  },
  {
   "cell_type": "markdown",
   "id": "98b8bf0f-fe9c-4b1d-b745-f4e75f1f99c6",
   "metadata": {},
   "source": [
    "### Test tuning state"
   ]
  },
  {
   "cell_type": "code",
   "execution_count": 3,
   "id": "ec4b1f05-6b1e-4b63-9c48-a4785f30ccb6",
   "metadata": {},
   "outputs": [],
   "source": [
    "# ts[10] = all 1V, ts[20] = all 2 V, ..., \n",
    "# ts[51]=1V element 1, ts[52]=1V element 2, ...,\n",
    "# ts[212] = 2V element 1, ts[373] = 3V element 1, ...\n",
    "# state = ts[51] \n",
    "# tune.testProgram30DAC(serial1, state)\n",
    "# tune.testProgram30DAC(serial2, state)"
   ]
  },
  {
   "cell_type": "markdown",
   "id": "254d3867-9627-4e23-90f9-7723eba58081",
   "metadata": {},
   "source": [
    "### General scan parameters"
   ]
  },
  {
   "cell_type": "code",
   "execution_count": 4,
   "id": "2709ddb6-c2e6-4662-b8c2-645c21d83fb9",
   "metadata": {},
   "outputs": [
    {
     "name": "stdout",
     "output_type": "stream",
     "text": [
      "IFBW = 1000 \n",
      "Calibration File = Aaron_21-11-05 \n",
      "Power = 0 dBm \n",
      "Measuring S12\n"
     ]
    }
   ],
   "source": [
    "a_probe = 22.86\n",
    "b_probe = 10.16\n",
    "\n",
    "xrange = 1000 # x length of stage, mm\n",
    "yrange = 1000 # y length of stage, mm\n",
    "\n",
    "fstart = 9E9\n",
    "fstop = 10E9\n",
    "NumFreqs = 101\n",
    "NumApMasks = len(ts)\n",
    "f = np.linspace(fstart, fstop, NumFreqs)\n",
    "lam_min = C/fstop\n",
    "dstep = lam_min/2 * 1000 # mm\n",
    "\n",
    "IFBW = 1000\n",
    "calfile = 'Aaron_21-11-05'\n",
    "power = 0 # dBm\n",
    "sParMeas = 'S12'\n",
    "speedmms = 25       # don't change this\n",
    "\n",
    "print('IFBW = {} \\nCalibration File = {} \\nPower = {} dBm \\nMeasuring {}'.format(IFBW, calfile, power, sParMeas))"
   ]
  },
  {
   "cell_type": "markdown",
   "id": "a7bcad26-c8ab-4c71-a641-e98dc56bc248",
   "metadata": {},
   "source": [
    "### Initialize instruments"
   ]
  },
  {
   "cell_type": "code",
   "execution_count": 7,
   "id": "5da3ed2c-c548-4fbf-b437-385a834d5120",
   "metadata": {},
   "outputs": [
    {
     "name": "stdout",
     "output_type": "stream",
     "text": [
      "READY\n",
      "Received: 30 from serial.\n",
      "READY\n",
      "Received: 30 from serial.\n",
      "Agilent Technologies,N5222A,MY51421573,A.09.90.10\n",
      "Initiating VNA...\n",
      "\n",
      "Done\n",
      "\n"
     ]
    },
    {
     "data": {
      "text/plain": [
       "array([9.00e+09, 9.01e+09, 9.02e+09, 9.03e+09, 9.04e+09, 9.05e+09,\n",
       "       9.06e+09, 9.07e+09, 9.08e+09, 9.09e+09, 9.10e+09, 9.11e+09,\n",
       "       9.12e+09, 9.13e+09, 9.14e+09, 9.15e+09, 9.16e+09, 9.17e+09,\n",
       "       9.18e+09, 9.19e+09, 9.20e+09, 9.21e+09, 9.22e+09, 9.23e+09,\n",
       "       9.24e+09, 9.25e+09, 9.26e+09, 9.27e+09, 9.28e+09, 9.29e+09,\n",
       "       9.30e+09, 9.31e+09, 9.32e+09, 9.33e+09, 9.34e+09, 9.35e+09,\n",
       "       9.36e+09, 9.37e+09, 9.38e+09, 9.39e+09, 9.40e+09, 9.41e+09,\n",
       "       9.42e+09, 9.43e+09, 9.44e+09, 9.45e+09, 9.46e+09, 9.47e+09,\n",
       "       9.48e+09, 9.49e+09, 9.50e+09, 9.51e+09, 9.52e+09, 9.53e+09,\n",
       "       9.54e+09, 9.55e+09, 9.56e+09, 9.57e+09, 9.58e+09, 9.59e+09,\n",
       "       9.60e+09, 9.61e+09, 9.62e+09, 9.63e+09, 9.64e+09, 9.65e+09,\n",
       "       9.66e+09, 9.67e+09, 9.68e+09, 9.69e+09, 9.70e+09, 9.71e+09,\n",
       "       9.72e+09, 9.73e+09, 9.74e+09, 9.75e+09, 9.76e+09, 9.77e+09,\n",
       "       9.78e+09, 9.79e+09, 9.80e+09, 9.81e+09, 9.82e+09, 9.83e+09,\n",
       "       9.84e+09, 9.85e+09, 9.86e+09, 9.87e+09, 9.88e+09, 9.89e+09,\n",
       "       9.90e+09, 9.91e+09, 9.92e+09, 9.93e+09, 9.94e+09, 9.95e+09,\n",
       "       9.96e+09, 9.97e+09, 9.98e+09, 9.99e+09, 1.00e+10])"
      ]
     },
     "execution_count": 7,
     "metadata": {},
     "output_type": "execute_result"
    }
   ],
   "source": [
    "## Stage\n",
    "g = sc.stage_start('169.254.225.173')\n",
    "sc.stage_home(g,speedmms)\n",
    "\n",
    "## Arduino\n",
    "numDACs = 30\n",
    "serial1 = tune.initializeArduino(numDACs, \"COM9\")\n",
    "serial2 = tune.initializeArduino(numDACs, \"COM10\")\n",
    "\n",
    "## VNA\n",
    "vna = vc.instrument_open('TCPIP0::169.254.187.153::5025::SOCKET')\n",
    "vc.VNA_initiate(vna, NumFreqs, fstart*1E-9, fstop*1E-9, IFBW, power, calfile=calfile)"
   ]
  },
  {
   "cell_type": "markdown",
   "id": "70698d5f-c15d-4efd-967b-be0fc2f64035",
   "metadata": {},
   "source": [
    "### Configure save path"
   ]
  },
  {
   "cell_type": "code",
   "execution_count": 8,
   "id": "8974d794-91d7-4645-a168-58b0229f91d7",
   "metadata": {},
   "outputs": [],
   "source": [
    "savename = 'Quickturn_Antenna_Steering_Test'\n",
    "savepath = 'C:/Users/smithlab/Documents/Near_Field_Scans/'"
   ]
  },
  {
   "cell_type": "markdown",
   "id": "b5e98fc4-873b-4820-af72-a8d5c404f42f",
   "metadata": {},
   "source": [
    "### Scan"
   ]
  },
  {
   "cell_type": "markdown",
   "id": "6d675987-bf7b-4c87-9738-1fb5e18d717f",
   "metadata": {},
   "source": [
    "#### *Set scan lengths*"
   ]
  },
  {
   "cell_type": "code",
   "execution_count": 9,
   "id": "d1de8bda-a969-4061-adb1-4aa63da8357c",
   "metadata": {},
   "outputs": [],
   "source": [
    "Lx_ap = 300\n",
    "Ly_ap = 190\n",
    "theta = 30\n",
    "d = 92\n",
    "\n",
    "Lx_scan = Lx_ap + 2*d*np.tan(np.radians(theta))\n",
    "Ly_scan = Ly_ap + 2*d*np.tan(np.radians(theta))\n",
    "\n",
    "xmin = -Lx_scan/2\n",
    "xmax = Lx_scan/2\n",
    "ymin = -Ly_scan/2\n",
    "ymax = Ly_scan/2\n",
    "\n",
    "x_probe = np.arange(xmin, xmax, dstep)\n",
    "y_probe = np.arange(ymin, ymax, dstep)\n",
    "X_probe, Y_probe = np.meshgrid(x_probe, y_probe, indexing='xy')\n",
    "measurements_x = np.zeros((Y_probe.shape[0], X_probe.shape[1], NumFreqs, NumApMasks), dtype=np.complex128) # measurements with E field of probe oriented in x direction\n",
    "measurements_y = np.zeros((Y_probe.shape[0], X_probe.shape[1], NumFreqs, NumApMasks), dtype=np.complex128) # measurements with E field of probe oriented in y direction\n",
    "stops = Y_probe.shape[0] * X_probe.shape[1]"
   ]
  },
  {
   "cell_type": "code",
   "execution_count": 1,
   "id": "d8352ddf-430c-4320-9728-a6b231ea037b",
   "metadata": {},
   "outputs": [
    {
     "data": {
      "text/plain": [
       "406.23244953089113"
      ]
     },
     "execution_count": 1,
     "metadata": {},
     "output_type": "execute_result"
    }
   ],
   "source": [
    "import numpy as np\n",
    "300 + 2*92*np.tan(np.radians(30))"
   ]
  },
  {
   "cell_type": "markdown",
   "id": "d1ed6d23-5aee-469a-afc7-2c7f425566b8",
   "metadata": {},
   "source": [
    "#### *Move to new origin*"
   ]
  },
  {
   "cell_type": "code",
   "execution_count": 10,
   "id": "e6c740cf-0d01-4c6a-b09b-eef29703b9f2",
   "metadata": {},
   "outputs": [
    {
     "data": {
      "text/plain": [
       "(-390.0, -530.0)"
      ]
     },
     "execution_count": 10,
     "metadata": {},
     "output_type": "execute_result"
    }
   ],
   "source": [
    "center_x = -xrange/2\n",
    "center_y = -yrange/2\n",
    "pos_x = 110  # adjust to change x zero position\n",
    "pos_y = -30  # adjust to change y zero position\n",
    "\n",
    "sc.move_to_absolute(g,speedmms,0,0,center_x+pos_x,center_y+pos_y)"
   ]
  },
  {
   "cell_type": "markdown",
   "id": "18eb0f7f-576d-4541-a88d-04c39c5ab71b",
   "metadata": {},
   "source": [
    "#### *Set origin*"
   ]
  },
  {
   "cell_type": "code",
   "execution_count": 11,
   "id": "8cfaa1fa-40f8-4d25-ac72-79f7b58e8bf2",
   "metadata": {},
   "outputs": [],
   "source": [
    "defZeroInXsteps, defZeroInYsteps = sc.zero_axes(g)"
   ]
  },
  {
   "cell_type": "markdown",
   "id": "85e52b44-9d2f-4c4e-8983-faf62aae288d",
   "metadata": {},
   "source": [
    "#### *Start scan - x-polarization*"
   ]
  },
  {
   "cell_type": "code",
   "execution_count": 12,
   "id": "83113961-bfbe-4622-b8b3-c75a992852ad",
   "metadata": {},
   "outputs": [
    {
     "data": {
      "text/plain": [
       "(-203.1162, -148.1162)"
      ]
     },
     "execution_count": 12,
     "metadata": {},
     "output_type": "execute_result"
    }
   ],
   "source": [
    "sc.move_to_absolute(g,speedmms,defZeroInXsteps,defZeroInYsteps,X_probe[0,0],Y_probe[0,0]) # move to start position"
   ]
  },
  {
   "cell_type": "code",
   "execution_count": 13,
   "id": "118bf3a2-487b-467a-836b-e50dcfe7259b",
   "metadata": {},
   "outputs": [
    {
     "name": "stdout",
     "output_type": "stream",
     "text": [
      "Est. time remaining: 14.259254366159439 hours\n",
      "Est. time remaining: 14.021760141849517 hours\n",
      "Est. time remaining: 13.735276807679071 hours\n",
      "Est. time remaining: 13.520567666159735 hours\n",
      "Est. time remaining: 13.233721272150676 hours\n",
      "Est. time remaining: 12.971063322491116 hours\n",
      "Est. time remaining: 12.706262292464574 hours\n",
      "Est. time remaining: 12.46902863184611 hours\n",
      "Est. time remaining: 12.188183875216378 hours\n",
      "Est. time remaining: 11.9577028354009 hours\n",
      "Est. time remaining: 11.692098647356033 hours\n",
      "Est. time remaining: 11.41120650238461 hours\n",
      "Est. time remaining: 11.169360748926799 hours\n",
      "Est. time remaining: 10.901770655314127 hours\n",
      "Est. time remaining: 10.638395795557233 hours\n",
      "Est. time remaining: 10.376613590452406 hours\n",
      "Est. time remaining: 10.108287072181701 hours\n",
      "Est. time remaining: 9.867464502652487 hours\n",
      "Est. time remaining: 9.60960832701789 hours\n",
      "Est. time remaining: 9.33438811302185 hours\n",
      "Est. time remaining: 9.095222933424843 hours\n",
      "Est. time remaining: 8.838005227512783 hours\n",
      "Est. time remaining: 8.556059416135152 hours\n",
      "Est. time remaining: 8.309797965155708 hours\n",
      "Est. time remaining: 8.052227846781413 hours\n",
      "Est. time remaining: 7.786133845647176 hours\n",
      "Est. time remaining: 7.527222702238295 hours\n",
      "Est. time remaining: 7.277485619650947 hours\n",
      "Est. time remaining: 7.005109959840775 hours\n",
      "Est. time remaining: 6.7548753420511884 hours\n",
      "Est. time remaining: 6.485583815309736 hours\n",
      "Est. time remaining: 6.236909198760986 hours\n",
      "Est. time remaining: 5.968135511212878 hours\n",
      "Est. time remaining: 5.709174014462365 hours\n",
      "Est. time remaining: 5.445783770084381 hours\n",
      "Est. time remaining: 5.1927559110853405 hours\n",
      "Est. time remaining: 4.924289904038111 hours\n",
      "Est. time remaining: 4.677393960952759 hours\n",
      "Est. time remaining: 4.413039478328493 hours\n",
      "Est. time remaining: 4.149211067623562 hours\n",
      "Est. time remaining: 3.898229589064916 hours\n",
      "Est. time remaining: 3.631700036260817 hours\n",
      "Est. time remaining: 3.369874060816235 hours\n",
      "Est. time remaining: 3.1139843146006267 hours\n",
      "Est. time remaining: 2.853780155711704 hours\n",
      "Est. time remaining: 2.596734219127231 hours\n",
      "Est. time remaining: 2.338141292333603 hours\n",
      "Est. time remaining: 2.0762622250450984 hours\n",
      "Est. time remaining: 1.8160027901331584 hours\n",
      "Est. time remaining: 1.5585853497187296 hours\n",
      "Est. time remaining: 1.2957113285859425 hours\n",
      "Est. time remaining: 1.0388960520426431 hours\n",
      "Est. time remaining: 0.7785867512226105 hours\n",
      "Est. time remaining: 0.5181388894716898 hours\n",
      "Est. time remaining: 0.25991216566827563 hours\n",
      "Est. time remaining: 0.0 hours\n"
     ]
    }
   ],
   "source": [
    "t = time.time()\n",
    "stopscomp = 0\n",
    "\n",
    "x_list = []\n",
    "y_list = []\n",
    "for yn in range(Y_probe.shape[0]):\n",
    "    direction = 2*np.mod(yn+1, 2) - 1\n",
    "    if direction > 0:\n",
    "        xindex = np.arange(X_probe.shape[1])\n",
    "    else:\n",
    "        xindex = np.flip(np.arange(X_probe.shape[1]))\n",
    "        \n",
    "    for xn in xindex:\n",
    "        x = X_probe[yn, xn]\n",
    "        y = Y_probe[yn, xn]\n",
    "        \n",
    "        moved = None\n",
    "        while moved is None:\n",
    "            try:\n",
    "                sc.move_to_absolute(g,speedmms,defZeroInXsteps,defZeroInYsteps,x,y)\n",
    "                moved = True\n",
    "            except:\n",
    "                pass\n",
    "        \n",
    "        for jj in range(NumApMasks):\n",
    "            tune.testProgram30DAC(serial1,ts[jj])\n",
    "            tune.testProgram30DAC(serial2,ts[jj])\n",
    "            time.sleep(0.01)\n",
    "            measurements_x[yn,xn,:,jj] = vc.VNA_read(vna,sParMeas)\n",
    "        \n",
    "        stopscomp += 1\n",
    "        timere = (stops - stopscomp) * (time.time()-t)/3600\n",
    "        if stopscomp%10==0:\n",
    "            print('Est. time remaining: {} hours'.format(timere))\n",
    "        t = time.time()\n"
   ]
  },
  {
   "cell_type": "code",
   "execution_count": 25,
   "id": "2477133c-1d61-4d0a-8acf-5ba1d807d936",
   "metadata": {},
   "outputs": [
    {
     "name": "stdout",
     "output_type": "stream",
     "text": [
      "(Theta_s, Phi_s) = (30, 300)\n"
     ]
    },
    {
     "data": {
      "image/png": "[encoded data removed]",
      "text/plain": [
       "<Figure size 432x288 with 2 Axes>"
      ]
     },
     "metadata": {
      "needs_background": "light"
     },
     "output_type": "display_data"
    }
   ],
   "source": [
    "f_indx = np.argmin(np.abs(f - 9.6E9))\n",
    "\n",
    "m_indx = 36\n",
    "print('(Theta_s, Phi_s) = ({}, {})'.format(mat['Theta_s'][0,m_indx], mat['Phi_s'][0,m_indx]))\n",
    "\n",
    "measurement_pad = np.pad(measurements_x[:,:,f_indx,m_indx], 100)\n",
    "im = np.fft.fftshift(np.fft.fftn(np.fft.ifftshift(measurement_pad, axes=(0,1)), axes=(0,1)), axes=(0,1))\n",
    "\n",
    "plt.figure()\n",
    "plt.imshow(20*np.log10(np.abs(im)/np.amax(np.abs(im))))\n",
    "plt.colorbar()\n",
    "plt.clim(-10, 0)\n",
    "plt.show()"
   ]
  },
  {
   "cell_type": "code",
   "execution_count": 24,
   "id": "af6fab7f-2910-4d54-94fc-5eec9d99611b",
   "metadata": {},
   "outputs": [
    {
     "data": {
      "text/plain": [
       "(20, 28, 101, 100)"
      ]
     },
     "execution_count": 24,
     "metadata": {},
     "output_type": "execute_result"
    }
   ],
   "source": [
    "measurements_x.shape"
   ]
  },
  {
   "cell_type": "code",
   "execution_count": 42,
   "id": "02087c2f-436d-41b4-b53a-d847be4b3ed6",
   "metadata": {},
   "outputs": [
    {
     "name": "stdout",
     "output_type": "stream",
     "text": [
      "15\n",
      "150\n"
     ]
    }
   ],
   "source": [
    "m_indx = 18\n",
    "print(mat['Theta_s'][0,m_indx])\n",
    "print(mat['Phi_s'][0,m_indx])"
   ]
  },
  {
   "cell_type": "code",
   "execution_count": 84,
   "id": "be235682-3230-42bb-86c2-0b343061dee2",
   "metadata": {},
   "outputs": [
    {
     "data": {
      "text/plain": [
       "<matplotlib.image.AxesImage at 0x15ba82c99a0>"
      ]
     },
     "execution_count": 84,
     "metadata": {},
     "output_type": "execute_result"
    },
    {
     "data": {
      "image/png": "[encoded data removed]",
      "text/plain": [
       "<Figure size 432x288 with 1 Axes>"
      ]
     },
     "metadata": {
      "needs_background": "light"
     },
     "output_type": "display_data"
    }
   ],
   "source": [
    "plt.imshow(np.real(measurements_x[:,:,f_indx,6]))"
   ]
  },
  {
   "cell_type": "markdown",
   "id": "f71e789f-9f0c-4d1b-88e7-c1cc66bc4979",
   "metadata": {},
   "source": [
    "#### *Start scan - y-polarization*"
   ]
  },
  {
   "cell_type": "code",
   "execution_count": null,
   "id": "282c70d5-e5d9-46c4-857d-48f559ebdfa9",
   "metadata": {},
   "outputs": [],
   "source": [
    "sc.move_to_absolute(g,speedmms,defZeroInXsteps,defZeroInYsteps,X_probe[0,0],Y_probe[0,0]) # move to start position"
   ]
  },
  {
   "cell_type": "code",
   "execution_count": 14,
   "id": "21ae54f7-c923-4179-ae20-8f942dc60c1c",
   "metadata": {},
   "outputs": [],
   "source": [
    "t = time.time()\n",
    "stopscomp = 0\n",
    "\n",
    "x_list = []\n",
    "y_list = []\n",
    "for yn in range(Y_probe.shape[0]):\n",
    "    direction = 2*np.mod(yn+1, 2) - 1\n",
    "    if direction > 0:\n",
    "        xindex = np.arange(X_probe.shape[1])\n",
    "    else:\n",
    "        xindex = np.flip(np.arange(X_probe.shape[1]))\n",
    "        \n",
    "    for xn in xindex:\n",
    "        x = X_probe[yn, xn]\n",
    "        y = Y_probe[yn, xn]\n",
    "        sc.move_to_absolute(g,speedmms,defZeroInXsteps,defZeroInYsteps,x,y)\n",
    "        \n",
    "        for jj in range(NumApMasks):\n",
    "            tune.testProgram30DAC(serial1,ts[jj])\n",
    "            tune.testProgram30DAC(serial2,ts[jj])\n",
    "            time.sleep(0.01)\n",
    "            measurements_y[yn,xn,:,jj] = vc.VNA_read(vna,sParMeas)\n",
    "        \n",
    "        stopscomp += 1\n",
    "        timere = (stops - stopscomp) * (time.time()-t)/3600\n",
    "        if stopscomp%10==0:\n",
    "            print('Est. time remaining: {} hours'.format(timere))\n",
    "        t = time.time()\n"
   ]
  },
  {
   "cell_type": "markdown",
   "id": "0abe0f66-c21b-46d3-ba49-d53b06afd1b8",
   "metadata": {},
   "source": [
    "#### *Concatenate measurements*"
   ]
  },
  {
   "cell_type": "code",
   "execution_count": 15,
   "id": "df777095-059e-45ce-8dbd-30a8d1fbb41e",
   "metadata": {},
   "outputs": [],
   "source": [
    "measurements = np.stack((measurements_x, measurements_y), axis=4)"
   ]
  },
  {
   "cell_type": "markdown",
   "id": "851167f1-3911-4d84-8dd3-04ebd16d5322",
   "metadata": {},
   "source": [
    "### Probe compensation"
   ]
  },
  {
   "cell_type": "code",
   "execution_count": 16,
   "id": "c8f884dc-2508-45f7-9ec8-788a9d052454",
   "metadata": {},
   "outputs": [],
   "source": [
    "# measurements_corrected = np.zeros((Y_probe.shape[0], X_probe.shape[1], NumFreqs, NumApMasks, 2), dtype=np.complex128)\n",
    "\n",
    "# for i in range(NumFreqs):\n",
    "\n",
    "#     A_mat = pd.make_A_mat(f[i], a_probe*mm, b_probe*mm, x_probe*mm, y_probe*mm, d*mm)\n",
    "\n",
    "#     for j in range(NumApMasks):\n",
    "\n",
    "#         measurements_corrected[:,:,i,j,:] = np.transpose(pd.probe_deconvolve(np.transpose(measurements[:,:,i,j,:], (1,0,2)), A_mat, x_probe*mm, y_probe*mm), (1,0,2))\n",
    "        \n",
    "measurements_corrected = measurements    # TEMP, UNTIL PROBE CORRECTION IS SOLVED\n",
    "    "
   ]
  },
  {
   "cell_type": "markdown",
   "id": "9e1fe8c7-478e-415e-805e-ef6f2afbbda6",
   "metadata": {},
   "source": [
    "### Plot"
   ]
  },
  {
   "cell_type": "code",
   "execution_count": 87,
   "id": "35777e26-cbd7-4034-89dc-80fc6df008df",
   "metadata": {},
   "outputs": [
    {
     "data": {
      "text/plain": [
       "(19, 27, 101, 65, 2)"
      ]
     },
     "execution_count": 87,
     "metadata": {},
     "output_type": "execute_result"
    }
   ],
   "source": [
    "measurements.shape"
   ]
  },
  {
   "cell_type": "code",
   "execution_count": 61,
   "id": "ecfb29c4-4adf-48a8-b5a6-8d372bf0a16f",
   "metadata": {},
   "outputs": [
    {
     "data": {
      "image/png": "[encoded data removed]",
      "text/plain": [
       "<Figure size 360x360 with 1 Axes>"
      ]
     },
     "metadata": {
      "needs_background": "light"
     },
     "output_type": "display_data"
    }
   ],
   "source": [
    "f_indx = np.argmin(np.abs(f - 10E9))\n",
    "m_indx = 0\n",
    "\n",
    "fig, ax1 = plt.subplots(1, 1, figsize=(5,5))\n",
    "ax1.imshow(np.abs(measurements[:,:,f_indx,m_indx,0]), extent=(np.min(x_probe), np.max(x_probe), np.min(y_probe), np.max(y_probe)))\n",
    "ax1.set_xlabel('x (mm)')\n",
    "ax1.set_ylabel('y (mm)')\n",
    "plt.show()\n"
   ]
  },
  {
   "cell_type": "markdown",
   "id": "b8fa2dc0-0de0-4cef-9bb2-dbee1446a89e",
   "metadata": {},
   "source": [
    "### Save data"
   ]
  },
  {
   "cell_type": "code",
   "execution_count": 17,
   "id": "44a5d140-303c-4eac-8b2e-e2d52db8022a",
   "metadata": {},
   "outputs": [],
   "source": [
    "scipy.io.savemat('{}{}_{}.mat'.format(savepath, savename, datetime.datetime.now().strftime('%Y-%m-%d')),\n",
    "                                      {'X': X_probe,\n",
    "                                       'Y': Y_probe,\n",
    "                                       'Lx_ap': Lx_ap,\n",
    "                                       'Ly_ap': Ly_ap,\n",
    "                                       'f': f,\n",
    "                                       'ts_filename': ts_filename,\n",
    "                                       'ts': ts,\n",
    "                                       'measurements': measurements,\n",
    "                                       'measurements_corrected': measurements_corrected})"
   ]
  },
  {
   "cell_type": "code",
   "execution_count": 49,
   "id": "49402600-e1c1-49f3-a481-a30e3c44e397",
   "metadata": {},
   "outputs": [
    {
     "data": {
      "text/plain": [
       "(24, 33, 101, 856, 2)"
      ]
     },
     "execution_count": 49,
     "metadata": {},
     "output_type": "execute_result"
    }
   ],
   "source": [
    "measurements.shape"
   ]
  },
  {
   "cell_type": "code",
   "execution_count": 51,
   "id": "e6a569df-0a47-4487-92d3-cf1b476c17cb",
   "metadata": {},
   "outputs": [
    {
     "data": {
      "text/plain": [
       "856"
      ]
     },
     "execution_count": 51,
     "metadata": {},
     "output_type": "execute_result"
    }
   ],
   "source": [
    "len(ts)"
   ]
  },
  {
   "cell_type": "code",
   "execution_count": null,
   "id": "a5236c5e-aae2-409d-9734-3be704d22334",
   "metadata": {},
   "outputs": [],
   "source": []
  }
 ],
 "metadata": {
  "interpreter": {
   "hash": "219a0fbf6447c2af047bf9e467ff5e3b3e6f8037f9e2112e542884c7855ad7c1"
  },
  "kernelspec": {
   "display_name": "Python 3 (ipykernel)",
   "language": "python",
   "name": "python3"
  },
  "language_info": {
   "codemirror_mode": {
    "name": "ipython",
    "version": 3
   },
   "file_extension": ".py",
   "mimetype": "text/x-python",
   "name": "python",
   "nbconvert_exporter": "python",
   "pygments_lexer": "ipython3",
   "version": "3.8.12"
  }
 },
 "nbformat": 4,
 "nbformat_minor": 5
}
