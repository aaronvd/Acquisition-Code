{
 "cells": [
  {
   "cell_type": "markdown",
   "metadata": {},
   "source": [
    "# **Measure Tuned (Dynamic) DUT Using VNA Internal Cal**"
   ]
  },
  {
   "cell_type": "code",
   "execution_count": null,
   "metadata": {},
   "outputs": [],
   "source": [
    "import sys\n",
    "sys.path.append('C:/Users/smithlab/Documents/Aaron/Modules/')\n",
    "import numpy as np\n",
    "import numpy.matlib\n",
    "from matplotlib import pyplot as plt\n",
    "import VNA_control as vc\n",
    "import calibration_functions as cf\n",
    "import scipy.constants\n",
    "import scipy.io\n",
    "import time\n",
    "import datetime\n",
    "import mainPyDAC2_module as tune\n",
    "\n",
    "C     = scipy.constants.c\n",
    "EPS_0 = scipy.constants.epsilon_0 #C^2/(N*m^2)\n",
    "MU_0  = scipy.constants.mu_0    #m kg s^-2 A^-2\n",
    "mm = 0.001\n",
    "cm    = 0.01\n",
    "GHz   = 1.0E9"
   ]
  },
  {
   "cell_type": "markdown",
   "metadata": {},
   "source": [
    "### Load tuning states"
   ]
  },
  {
   "cell_type": "code",
   "execution_count": 2,
   "metadata": {},
   "outputs": [
    {
     "name": "stdout",
     "output_type": "stream",
     "text": [
      "(240, 50)\n"
     ]
    }
   ],
   "source": [
    "# mat = scipy.io.loadmat('Path/to/tuning/states')\n",
    "# ts = mat['ts'].reshape((96, 50))\n",
    "\n",
    "# single tuning state\n",
    "# ts = 2.5*np.ones((240))\n",
    "\n",
    "# sweep all elements from 0-5 V\n",
    "ts = numpy.matlib.repmat(np.linspace(0, 5, 50), 240, 1)\n",
    "\n",
    "# sweep test (161) element from 0-5 V\n",
    "# ts = np.zeros((240, 50))\n",
    "# ts[pm.element_pin_index[161 - 1] - 1,:] = np.linspace(0, 5, 51)\n",
    "\n",
    "NumApMasks = ts.shape[1]"
   ]
  },
  {
   "cell_type": "markdown",
   "metadata": {},
   "source": [
    "### Initialize Arduino"
   ]
  },
  {
   "cell_type": "code",
   "execution_count": null,
   "metadata": {},
   "outputs": [],
   "source": [
    "## Arduino\n",
    "# BAUDRATE, PORTNAME, #DACS\n",
    "numDACs = 30\n",
    "tune.setSerial(115200, \"COM9\", numDACs)\n",
    "tune.sendInputLen()\n",
    "msg = tune.receiveFromArduino()\n",
    "\n",
    "while msg.find(\"Received: \" + str(numDACs) + \" from serial.\") == -1:\n",
    "    msg = tune.receiveFromArduino()\n",
    "    \n",
    "if not (msg == \"NO VAL\"):\n",
    "    print(msg)"
   ]
  },
  {
   "cell_type": "markdown",
   "metadata": {},
   "source": [
    "### Initialize VNA"
   ]
  },
  {
   "cell_type": "code",
   "execution_count": null,
   "metadata": {},
   "outputs": [],
   "source": [
    "fstart = 5E9\n",
    "fstop = 15E9\n",
    "NumFreqs = 801\n",
    "IFBW = 1000\n",
    "calfile = 'Aaron_21-11-05'\n",
    "power = 0\n",
    "savename = 'Aaron_Quickturn_Test'\n",
    "sParMeas = 'S21'\n",
    "\n",
    "f = np.linspace(fstart, fstop, NumFreqs)\n",
    "\n",
    "vna = vc.instrument_open('TCPIP0::169.254.187.153::5025::SOCKET')\n",
    "vc.VNA_initiate(vna, NumFreqs, fstart*1E-9, fstop*1E-9, IFBW, power, 'S21', calfile=calfile)"
   ]
  },
  {
   "cell_type": "markdown",
   "metadata": {},
   "source": [
    "### Take measurements"
   ]
  },
  {
   "cell_type": "code",
   "execution_count": null,
   "metadata": {},
   "outputs": [],
   "source": [
    "measurements = np.empty((NumApMasks, NumFreqs), dtype=np.complex128)\n",
    "\n",
    "for i in range(NumApMasks):\n",
    "    \n",
    "    tune.testProgram30DAC(ts[:,i])\n",
    "    time.sleep(0.01)\n",
    "\n",
    "    measurements[i,:] = vc.VNA_read(vna, sParMeas)"
   ]
  },
  {
   "cell_type": "markdown",
   "metadata": {},
   "source": [
    "### Plot"
   ]
  },
  {
   "cell_type": "code",
   "execution_count": null,
   "metadata": {},
   "outputs": [],
   "source": [
    "for i in range(NumApMasks):\n",
    "    plt.plot(f*1E-9, 20*np.log10(np.abs(measurements[i,:])))\n",
    "plt.xlabel('f (GHz)')\n",
    "plt.ylabel(r'$|S_{21}|$')"
   ]
  },
  {
   "cell_type": "markdown",
   "metadata": {},
   "source": [
    "### Save"
   ]
  },
  {
   "cell_type": "code",
   "execution_count": null,
   "metadata": {},
   "outputs": [],
   "source": [
    "data_folder = 'C:/Users/smithlab/Documents/Aaron/Data/Aaron Quick Turn Antenna/Assembled_Board_1_22-02-02/'\n",
    "\n",
    "measurement_name = 'Test_Element_VNA_TRL'\n",
    "scipy.io.savemat('{}{}_{}.mat'.format(data_folder, savename, datetime.datetime.now().strftime('%Y-%m-%d')),\n",
    "                                      {'f': f,\n",
    "                                       'ts': ts,\n",
    "                                       'measurements': measurements})"
   ]
  },
  {
   "cell_type": "markdown",
   "metadata": {},
   "source": [
    "### Clean up communications"
   ]
  },
  {
   "cell_type": "code",
   "execution_count": null,
   "metadata": {},
   "outputs": [],
   "source": [
    "vna.close()"
   ]
  }
 ],
 "metadata": {
  "interpreter": {
   "hash": "44831abbbf4f5faecb85e6c491089de6439e0db19b54b2fe1a5b26689e87f0d3"
  },
  "kernelspec": {
   "display_name": "Python 3.8.12 64-bit ('duke': conda)",
   "language": "python",
   "name": "python3"
  },
  "language_info": {
   "codemirror_mode": {
    "name": "ipython",
    "version": 3
   },
   "file_extension": ".py",
   "mimetype": "text/x-python",
   "name": "python",
   "nbconvert_exporter": "python",
   "pygments_lexer": "ipython3",
   "version": "3.8.12"
  },
  "orig_nbformat": 4
 },
 "nbformat": 4,
 "nbformat_minor": 2
}
