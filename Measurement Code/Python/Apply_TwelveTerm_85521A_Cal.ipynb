{
 "cells": [
  {
   "cell_type": "markdown",
   "id": "finished-reservation",
   "metadata": {},
   "source": [
    "# **Apply 12-Term Cal from SOLT Calibration**"
   ]
  },
  {
   "cell_type": "code",
   "execution_count": null,
   "id": "fitting-attempt",
   "metadata": {},
   "outputs": [],
   "source": [
    "import numpy as np\n",
    "from pathlib import Path\n",
    "import skrf as rf\n",
    "from skrf.calibration import OnePort\n",
    "from cycler import cycler\n",
    "\n",
    "import matplotlib.pyplot as plt\n",
    "rf.stylely\n",
    "\n",
    "n_freq=101\n",
    "freq = rf.Frequency(8, 12, n_freq, 'ghz')\n",
    "\n",
    "plt.rcParams['axes.prop_cycle'] = cycler(color=['b', 'r', 'g', 'y'])"
   ]
  },
  {
   "cell_type": "markdown",
   "id": "cathedral-fetish",
   "metadata": {},
   "source": [
    "### Define ideal cals corresponding to Agilent 85521A mechanical cal kit"
   ]
  },
  {
   "cell_type": "markdown",
   "id": "external-bumper",
   "metadata": {},
   "source": [
    "#### *Ideal Thru*"
   ]
  },
  {
   "cell_type": "code",
   "execution_count": null,
   "id": "bizarre-nowhere",
   "metadata": {},
   "outputs": [],
   "source": [
    "base_ntwk = rf.Freespace(freq, z0=50+0j)\n",
    "\n",
    "THRU_85521A = base_ntwk.line(115.881,unit ='ps')\n",
    "THRU_85521A.z0 = (50+0j) * np.ones((n_freq, 4)) \n",
    "\n",
    "fig, ax = plt.subplots()\n",
    "THRU_85521A.plot_s_re(axis=ax, linewidth=2)\n",
    "THRU_85521A.plot_s_im(axis=ax, linestyle='--', linewidth=2)\n",
    "ax.set_title('Ideal THRU')"
   ]
  },
  {
   "cell_type": "markdown",
   "id": "indoor-mountain",
   "metadata": {},
   "source": [
    "#### *Ideal Open*"
   ]
  },
  {
   "cell_type": "code",
   "execution_count": null,
   "id": "everyday-casino",
   "metadata": {},
   "outputs": [],
   "source": [
    "OPEN_S11_85521A = base_ntwk.delay_load(1, 31.832, unit = 'ps')\n",
    "OPEN_S22_85521A = OPEN_S11_85521A \n",
    "\n",
    "OPEN_85521A = rf.two_port_reflect(OPEN_S11_85521A, OPEN_S22_85521A)\n",
    "OPEN_85521A.z0 = (50+0j) * np.ones((n_freq, 4)) \n",
    "\n",
    "fig, ax = plt.subplots()\n",
    "OPEN_85521A.plot_s_re(axis =ax, linewidth= 2)\n",
    "OPEN_85521A.plot_s_im(axis =ax, linestyle='--', linewidth= 2)\n",
    "ax.set_title('Ideal OPEN')"
   ]
  },
  {
   "cell_type": "markdown",
   "id": "intellectual-definition",
   "metadata": {},
   "source": [
    "#### *Ideal Short*"
   ]
  },
  {
   "cell_type": "code",
   "execution_count": null,
   "id": "driven-turner",
   "metadata": {},
   "outputs": [],
   "source": [
    "SHORT_S11_85521A = base_ntwk.delay_load(-1, 30.581, unit = 'ps')\n",
    "\n",
    "SHORT_S22_85521A = SHORT_S11_85521A\n",
    "\n",
    "SHORT_85521A = rf.two_port_reflect(SHORT_S11_85521A,SHORT_S22_85521A)\n",
    "SHORT_85521A.z0 = (50+0j) * np.ones((n_freq, 4)) \n",
    "\n",
    "fig, ax = plt.subplots()\n",
    "SHORT_85521A.plot_s_re(axis=ax, linewidth=2)\n",
    "SHORT_85521A.plot_s_im(axis=ax, linestyle='--', linewidth=2)\n",
    "\n",
    "ax.set_title('Ideal SHORT')"
   ]
  },
  {
   "cell_type": "markdown",
   "id": "formal-amino",
   "metadata": {},
   "source": [
    "#### *Ideal Load*"
   ]
  },
  {
   "cell_type": "code",
   "execution_count": null,
   "id": "precious-sheep",
   "metadata": {},
   "outputs": [],
   "source": [
    "LOAD_S11_85521A = base_ntwk.delay_load(0,0)\n",
    "\n",
    "LOAD_85521A = rf.two_port_reflect(LOAD_S11_85521A)\n",
    "LOAD_85521A.z0 = (50+0j) * np.ones((n_freq, 4)) \n",
    "\n",
    "fig, ax = plt.subplots()\n",
    "LOAD_85521A.plot_s_re(axis=ax, linewidth=2)\n",
    "LOAD_85521A.plot_s_im(axis=ax, linestyle='--', linewidth=2)\n",
    "\n",
    "ax.set_title('Ideal LOAD')"
   ]
  },
  {
   "cell_type": "code",
   "execution_count": null,
   "id": "supported-airport",
   "metadata": {},
   "outputs": [],
   "source": [
    "#list of Network types, holding 'ideal' responses ORDER MUST BE SAME AS THOSE ENTERED BELOW IN MEASUREMENTS\n",
    "my_ideals = [\\\n",
    "        SHORT_85521A,\n",
    "        OPEN_85521A,\n",
    "        LOAD_85521A,\n",
    "        THRU_85521A,\n",
    "        ]"
   ]
  },
  {
   "cell_type": "markdown",
   "id": "overall-meeting",
   "metadata": {},
   "source": [
    "### Load measured response from mechanical cal (85521A)"
   ]
  },
  {
   "cell_type": "code",
   "execution_count": null,
   "id": "physical-country",
   "metadata": {},
   "outputs": [],
   "source": [
    "measurement_root_folder = Path('/Users/Zaber/Documents/data/scikit_measurements/Mike_Metasurface_3/')\n",
    "cal_folder_name = 'SOLT2021-04-08'\n",
    "\n",
    "meas_folder = measurement_root_folder / cal_folder_name\n",
    "\n",
    "SHORT_S11 = np.load(meas_folder / 'SHORT_S11.ntwk', allow_pickle = True)\n",
    "SHORT_S22 = np.load(meas_folder / 'SHORT_S22.ntwk', allow_pickle = True)\n",
    "OPEN_S11 = np.load(meas_folder / 'OPEN_S11.ntwk', allow_pickle = True)\n",
    "OPEN_S22 = np.load( meas_folder / 'OPEN_S22.ntwk', allow_pickle = True)\n",
    "LOAD_S11 = np.load(meas_folder / 'LOAD_S11.ntwk', allow_pickle = True)\n",
    "LOAD_S22 = np.load(meas_folder / 'LOAD_S22.ntwk', allow_pickle = True)\n",
    "THRU_S11 = np.load(meas_folder / 'THRU_S11.ntwk', allow_pickle = True)\n",
    "THRU_S22 = np.load(meas_folder / 'THRU_S22.ntwk', allow_pickle = True)\n",
    "THRU_S21 = np.load(meas_folder / 'THRU_S21.ntwk', allow_pickle = True)\n",
    "THRU_S12 = np.load(meas_folder / 'THRU_S12.ntwk', allow_pickle = True)\n",
    "\n",
    "SHORT = rf.two_port_reflect(SHORT_S11,SHORT_S22)\n",
    "SHORT.z0 = (50+0j) * np.ones((n_freq, 4)) \n",
    "\n",
    "OPEN = rf.two_port_reflect(OPEN_S11,OPEN_S22)\n",
    "OPEN.z0 = (50+0j) * np.ones((n_freq, 4)) \n",
    " \n",
    "LOAD = rf.two_port_reflect(LOAD_S11,LOAD_S22)\n",
    "LOAD.z0 = (50+0j) * np.ones((n_freq, 4)) \n",
    "\n",
    "THRU = rf.two_port_reflect(THRU_S11, THRU_S22)\n",
    "THRU.s[:,0,1] = THRU_S12.s[:,0,0]\n",
    "THRU.s[:,1,0] = THRU_S21.s[:,0,0]\n",
    "THRU.z0 = (50+0j) * np.ones((n_freq, 4)) \n",
    "    \n",
    "my_measured = [\\\n",
    "               SHORT,\n",
    "               OPEN,\n",
    "               LOAD,\n",
    "               THRU\n",
    "        ]"
   ]
  },
  {
   "cell_type": "markdown",
   "id": "committed-yahoo",
   "metadata": {},
   "source": [
    "### Create a calibration instance"
   ]
  },
  {
   "cell_type": "code",
   "execution_count": null,
   "id": "functional-thinking",
   "metadata": {},
   "outputs": [],
   "source": [
    "cal = rf.TwelveTerm(\\\n",
    "        ideals = my_ideals,\n",
    "        measured = my_measured,\n",
    "        )"
   ]
  },
  {
   "cell_type": "markdown",
   "id": "touched-arnold",
   "metadata": {},
   "source": [
    "### Run SOLT calibration algorithm"
   ]
  },
  {
   "cell_type": "code",
   "execution_count": null,
   "id": "directed-durham",
   "metadata": {},
   "outputs": [],
   "source": [
    "cal.run()"
   ]
  },
  {
   "cell_type": "markdown",
   "id": "abandoned-directive",
   "metadata": {},
   "source": [
    "### Test on THRU measurement"
   ]
  },
  {
   "cell_type": "code",
   "execution_count": null,
   "id": "excess-highlight",
   "metadata": {},
   "outputs": [],
   "source": [
    "dut = THRU\n",
    "dut.name = 'test'\n",
    "dut_caled = cal.apply_cal(dut)\n",
    "dut_caled.name =  dut.name + 'corrected'\n",
    "\n",
    "# plot results\n",
    "dut_caled.frequency.unit = 'ghz'\n",
    "\n",
    "dut_caled.plot_s_deg()"
   ]
  },
  {
   "cell_type": "markdown",
   "id": "cognitive-recruitment",
   "metadata": {},
   "source": [
    "### Save result"
   ]
  },
  {
   "cell_type": "code",
   "execution_count": null,
   "id": "expired-repair",
   "metadata": {},
   "outputs": [],
   "source": [
    "dut_caled.write_touchstone()"
   ]
  }
 ],
 "metadata": {
  "kernelspec": {
   "display_name": "Python 3",
   "language": "python",
   "name": "python3"
  },
  "language_info": {
   "codemirror_mode": {
    "name": "ipython",
    "version": 3
   },
   "file_extension": ".py",
   "mimetype": "text/x-python",
   "name": "python",
   "nbconvert_exporter": "python",
   "pygments_lexer": "ipython3",
   "version": "3.8.5"
  }
 },
 "nbformat": 4,
 "nbformat_minor": 5
}
