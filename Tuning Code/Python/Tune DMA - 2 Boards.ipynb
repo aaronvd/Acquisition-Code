{
 "cells": [
  {
   "cell_type": "markdown",
   "metadata": {},
   "source": [
    "### Import modules"
   ]
  },
  {
   "cell_type": "code",
   "execution_count": null,
   "metadata": {},
   "outputs": [],
   "source": [
    "import sys\n",
    "sys.path.append(r'C:\\Users\\smithlab\\Documents\\Acquisition-Code\\Modules')\n",
    "import pin_mappings as pm\n",
    "import numpy as np\n",
    "import numpy.matlib\n",
    "import mainPyDAC2_module_multiple as tune\n",
    "import time"
   ]
  },
  {
   "cell_type": "markdown",
   "metadata": {},
   "source": [
    "### Initialize Arduino"
   ]
  },
  {
   "cell_type": "code",
   "execution_count": null,
   "metadata": {},
   "outputs": [],
   "source": [
    "numDACs = 30\n",
    "\n",
    "serial1 = tune.initializeArduino(numDACs, \"COM9\")\n",
    "serial2 = tune.initializeArduino(numDACs, \"COM10\")"
   ]
  },
  {
   "cell_type": "markdown",
   "metadata": {},
   "source": [
    "### Create tuning states"
   ]
  },
  {
   "cell_type": "code",
   "execution_count": null,
   "metadata": {},
   "outputs": [],
   "source": [
    "# sweep all elements from 0-5 V\n",
    "ts = numpy.matlib.repmat(np.linspace(0, 5, 50), 240, 1)\n",
    "\n",
    "# sweep test (161) element from 0-5 V\n",
    "# ts = np.zeros((240, 50))\n",
    "# ts[pm.element_pin_index[161 - 1] - 1,:] = np.linspace(0, 5, 51)"
   ]
  },
  {
   "cell_type": "markdown",
   "metadata": {},
   "source": [
    "### Single tuning state"
   ]
  },
  {
   "cell_type": "code",
   "execution_count": null,
   "metadata": {},
   "outputs": [],
   "source": [
    "# test = 0*np.ones((240))\n",
    "\n",
    "# tune.testProgram30DAC(test)"
   ]
  },
  {
   "cell_type": "markdown",
   "metadata": {},
   "source": [
    "### Sweep tuning states"
   ]
  },
  {
   "cell_type": "code",
   "execution_count": null,
   "metadata": {},
   "outputs": [],
   "source": [
    "# for i in range(ts.shape[1]):\n",
    "for i in range(1):\n",
    "    \n",
    "    tune.testProgram30DAC(serial1, ts[:,i])\n",
    "    tune.testProgram30DAC(serial2, ts[:,i])\n",
    "\n",
    "    # time.sleep(1)\n",
    "    input()"
   ]
  },
  {
   "cell_type": "code",
   "execution_count": null,
   "metadata": {},
   "outputs": [],
   "source": [
    "tune.testProgram30DAC(serial2, ts[:,0])"
   ]
  },
  {
   "cell_type": "code",
   "execution_count": null,
   "metadata": {},
   "outputs": [],
   "source": [
    "state = 2*np.ones(240)\n",
    "\n",
    "tune.testProgram30DAC(serial1, state)\n",
    "tune.testProgram30DAC(serial2, state)"
   ]
  },
  {
   "cell_type": "code",
   "execution_count": null,
   "metadata": {},
   "outputs": [],
   "source": []
  }
 ],
 "metadata": {
  "interpreter": {
   "hash": "787a7ca30dda15523df5f818c2d88d8e7fce64228cac544ee261473d4bf60045"
  },
  "kernelspec": {
   "display_name": "Python 3 (ipykernel)",
   "language": "python",
   "name": "python3"
  },
  "language_info": {
   "codemirror_mode": {
    "name": "ipython",
    "version": 3
   },
   "file_extension": ".py",
   "mimetype": "text/x-python",
   "name": "python",
   "nbconvert_exporter": "python",
   "pygments_lexer": "ipython3",
   "version": "3.8.12"
  }
 },
 "nbformat": 4,
 "nbformat_minor": 4
}
